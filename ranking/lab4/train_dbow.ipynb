{
 "cells": [
  {
   "cell_type": "code",
   "execution_count": 25,
   "metadata": {},
   "outputs": [],
   "source": [
    "import sys\n",
    "import pysolr\n",
    "\n",
    "import numpy as np\n",
    "\n",
    "np.random.seed(42)\n",
    "\n",
    "import pandas as pd\n",
    "import gensim"
   ]
  },
  {
   "cell_type": "code",
   "execution_count": 26,
   "metadata": {},
   "outputs": [
    {
     "name": "stdout",
     "output_type": "stream",
     "text": [
      "['/Users/axelsirota/repos/ml-solr-course/synonyms/lab3', '/Users/axelsirota/.pyenv/versions/3.7.3/lib/python37.zip', '/Users/axelsirota/.pyenv/versions/3.7.3/lib/python3.7', '/Users/axelsirota/.pyenv/versions/3.7.3/lib/python3.7/lib-dynload', '', '/Users/axelsirota/repos/ml-solr-course/.venv/lib/python3.7/site-packages', '/Users/axelsirota/repos/ml-solr-course/.venv/lib/python3.7/site-packages/IPython/extensions', '/Users/axelsirota/.ipython']\n",
      "/Users/axelsirota/repos/ml-solr-course\n"
     ]
    }
   ],
   "source": [
    "# In case your sys.path does not contain the base repo, go there.\n",
    "print(sys.path)\n",
    "%cd '/Users/axelsirota/repos/ml-solr-course'"
   ]
  },
  {
   "cell_type": "code",
   "execution_count": 27,
   "metadata": {
    "pycharm": {
     "name": "#%%\n"
    }
   },
   "outputs": [],
   "source": [
    "# Create a client instance. The timeout and authentication options are not required.\n",
    "solr = pysolr.Solr('http://localhost:8983/solr/airbnb', always_commit=True, timeout=10)"
   ]
  },
  {
   "cell_type": "code",
   "execution_count": 55,
   "metadata": {
    "pycharm": {
     "name": "#%%\n"
    }
   },
   "outputs": [
    {
     "name": "stdout",
     "output_type": "stream",
     "text": [
      "Number of results were 1\n"
     ]
    }
   ],
   "source": [
    "query = 'pint'\n",
    "results = solr.search(query, **{\n",
    "                'rows': 100,\n",
    "            })\n",
    "print(f'Number of results were {len(results)}')"
   ]
  },
  {
   "cell_type": "code",
   "execution_count": 39,
   "metadata": {},
   "outputs": [
    {
     "name": "stdout",
     "output_type": "stream",
     "text": [
      "The ID is 14382598 and title is Wyndham Midtown 45 Resort: Hotel Room\n"
     ]
    }
   ],
   "source": [
    "for result in results:\n",
    "    print(f'The ID is {result[\"id\"]} and title is {result[\"name\"]}')\n"
   ]
  },
  {
   "cell_type": "code",
   "execution_count": 40,
   "metadata": {
    "pycharm": {
     "name": "#%%\n"
    }
   },
   "outputs": [],
   "source": [
    "w2v = gensim.models.KeyedVectors.load_word2vec_format('./synonyms/lab3/vectors.txt', binary=False)"
   ]
  },
  {
   "cell_type": "code",
   "execution_count": 41,
   "metadata": {},
   "outputs": [],
   "source": [
    "synonyms = w2v.most_similar(positive=[query], topn=25)"
   ]
  },
  {
   "cell_type": "code",
   "execution_count": 42,
   "metadata": {},
   "outputs": [
    {
     "data": {
      "text/plain": [
       "[('pints', 0.747567892074585),\n",
       " ('bottle', 0.6247488856315613),\n",
       " ('bottles', 0.5730443596839905),\n",
       " ('cups', 0.5670326948165894),\n",
       " ('vodka', 0.5636795163154602),\n",
       " ('ounces', 0.5601196885108948),\n",
       " ('cans', 0.5491657853126526),\n",
       " ('jar', 0.5482896566390991),\n",
       " ('cream', 0.5460001230239868),\n",
       " ('strawberries', 0.5449832677841187),\n",
       " ('soda', 0.5366682410240173),\n",
       " ('yogurt', 0.5353776216506958),\n",
       " ('glasses', 0.5322164297103882),\n",
       " ('cubes', 0.5320003628730774),\n",
       " ('beer', 0.5248038172721863),\n",
       " ('cognac', 0.5157261490821838),\n",
       " ('juice', 0.5032832026481628),\n",
       " ('whiskey', 0.4948011636734009),\n",
       " ('milliliters', 0.4896450638771057),\n",
       " ('chocolate', 0.48626217246055603),\n",
       " ('broth', 0.4837869703769684),\n",
       " ('vanilla', 0.4810090661048889),\n",
       " ('cartons', 0.48080769181251526),\n",
       " ('drinks', 0.47991934418678284),\n",
       " ('egg', 0.4789937436580658)]"
      ]
     },
     "execution_count": 42,
     "metadata": {},
     "output_type": "execute_result"
    }
   ],
   "source": [
    "synonyms"
   ]
  },
  {
   "cell_type": "code",
   "execution_count": 48,
   "metadata": {},
   "outputs": [],
   "source": [
    "queriable_terms = []\n",
    "for synonym, score in synonyms:\n",
    "    if score >= 0.5:\n",
    "        queriable_terms.append(synonym)\n",
    "new_query = ' '.join(queriable_terms)"
   ]
  },
  {
   "cell_type": "code",
   "execution_count": 50,
   "metadata": {},
   "outputs": [],
   "source": [
    "new_query = ' '.join(queriable_terms)"
   ]
  },
  {
   "cell_type": "code",
   "execution_count": 54,
   "metadata": {},
   "outputs": [
    {
     "name": "stdout",
     "output_type": "stream",
     "text": [
      "Number of results were 100\n"
     ]
    }
   ],
   "source": [
    "results = solr.search(new_query, **{\n",
    "                'rows': 100,\n",
    "            })\n",
    "print(f'Number of results were {len(results)}')"
   ]
  },
  {
   "cell_type": "code",
   "execution_count": 53,
   "metadata": {},
   "outputs": [
    {
     "name": "stdout",
     "output_type": "stream",
     "text": [
      "The ID is 8942467 and title is Your own hip and cozy 1BD apartment\n",
      "The ID is 21723666 and title is Private cozy room in E. Flatbush\n",
      "The ID is 3580577 and title is Park Slope beauty\n",
      "The ID is 48427436 and title is Clean, Quiet, Cozy like home rooms\n",
      "The ID is 45069853 and title is Prime Nolita Manhattan Full Apt 1Bed & 1Bath\n",
      "The ID is 13613919 and title is Sunny, kid friendly apt in Carroll Gardens\n",
      "The ID is 13881622 and title is Comfy Williamsburg townhouse 950sf w gorgeous yard\n",
      "The ID is 17796480 and title is PRIVATE ROOM near JFK & La Guardia\n",
      "The ID is 1766846 and title is East Village Private Guest Studio - Sanitized\n",
      "The ID is 12387018 and title is Modern 1BR in Downtown Manhattan\n"
     ]
    }
   ],
   "source": [
    "for result in results:\n",
    "    print(f'The ID is {result[\"id\"]} and title is {result[\"name\"]}')\n"
   ]
  },
  {
   "cell_type": "code",
   "execution_count": null,
   "metadata": {},
   "outputs": [],
   "source": []
  }
 ],
 "metadata": {
  "kernelspec": {
   "display_name": "local-venv",
   "language": "python",
   "name": "local-venv"
  },
  "language_info": {
   "codemirror_mode": {
    "name": "ipython",
    "version": 3
   },
   "file_extension": ".py",
   "mimetype": "text/x-python",
   "name": "python",
   "nbconvert_exporter": "python",
   "pygments_lexer": "ipython3",
   "version": "3.7.3"
  }
 },
 "nbformat": 4,
 "nbformat_minor": 1
}