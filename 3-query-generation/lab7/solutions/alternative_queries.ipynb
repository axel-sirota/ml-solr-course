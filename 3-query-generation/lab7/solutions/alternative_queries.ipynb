{
 "cells": [
  {
   "cell_type": "code",
   "execution_count": 1,
   "metadata": {},
   "outputs": [],
   "source": [
    "import gensim\n",
    "import numpy as np\n",
    "import pandas as pd\n",
    "import pysolr\n",
    "from gensim.models import Doc2Vec\n",
    "\n",
    "np.random.seed(42)\n",
    "import tensorflow as tf\n",
    "import sys"
   ]
  },
  {
   "cell_type": "code",
   "execution_count": 2,
   "metadata": {},
   "outputs": [
    {
     "name": "stdout",
     "output_type": "stream",
     "text": [
      "['/Users/axelsirota/repos/ml-solr-course/3-query-generation/lab7/solutions', '/Users/axelsirota/.pyenv/versions/3.7.3/lib/python37.zip', '/Users/axelsirota/.pyenv/versions/3.7.3/lib/python3.7', '/Users/axelsirota/.pyenv/versions/3.7.3/lib/python3.7/lib-dynload', '', '/Users/axelsirota/repos/ml-solr-course/.venv/lib/python3.7/site-packages', '/Users/axelsirota/repos/ml-solr-course/.venv/lib/python3.7/site-packages/IPython/extensions', '/Users/axelsirota/.ipython']\n",
      "/Users/axelsirota/repos/ml-solr-course\n"
     ]
    }
   ],
   "source": [
    "# In case your sys.path does not contain the base repo, go there.\n",
    "print(sys.path)\n",
    "%cd '/Users/axelsirota/repos/ml-solr-course'"
   ]
  },
  {
   "cell_type": "code",
   "execution_count": 3,
   "metadata": {
    "pycharm": {
     "name": "#%%\n"
    }
   },
   "outputs": [
    {
     "name": "stderr",
     "output_type": "stream",
     "text": [
      "2021-07-23 22:39:41.253211: I tensorflow/core/platform/cpu_feature_guard.cc:142] This TensorFlow binary is optimized with oneAPI Deep Neural Network Library (oneDNN) to use the following CPU instructions in performance-critical operations:  AVX2 FMA\n",
      "To enable them in other operations, rebuild TensorFlow with the appropriate compiler flags.\n"
     ]
    },
    {
     "name": "stdout",
     "output_type": "stream",
     "text": [
      "Model loaded\n"
     ]
    },
    {
     "name": "stderr",
     "output_type": "stream",
     "text": [
      "2021-07-23 22:39:41.890422: I tensorflow/compiler/mlir/mlir_graph_optimization_pass.cc:176] None of the MLIR Optimization Passes are enabled (registered 2)\n"
     ]
    }
   ],
   "source": [
    "model_path = '3-query-generation/lab6/alternative_queries'\n",
    "query = 'Midtown sunny two bedroom'\n",
    "alternative_queries_model = tf.saved_model.load(model_path)\n",
    "print(f'Model loaded')\n"
   ]
  },
  {
   "cell_type": "code",
   "execution_count": 4,
   "metadata": {
    "pycharm": {
     "name": "#%%\n"
    }
   },
   "outputs": [],
   "source": [
    "# Create a client instance. The timeout and authentication options are not required.\n",
    "solr = pysolr.Solr('http://localhost:8983/solr/airbnb', always_commit=True, timeout=10)"
   ]
  },
  {
   "cell_type": "code",
   "execution_count": 5,
   "metadata": {
    "pycharm": {
     "name": "#%%\n"
    }
   },
   "outputs": [],
   "source": [
    "non_expanded_results = solr.search(query, **{\n",
    "                'rows': 100,\n",
    "            })"
   ]
  },
  {
   "cell_type": "code",
   "execution_count": 28,
   "metadata": {
    "pycharm": {
     "name": "#%%\n"
    }
   },
   "outputs": [
    {
     "name": "stdout",
     "output_type": "stream",
     "text": [
      "The Neighborhood is Harlem and title is Super Large Bedroom in Harlem\n",
      "The Neighborhood is Harlem and title is Sunny 2 Bedroom Penthouse with Good Vibes\n",
      "The Neighborhood is East Harlem and title is Sunny Bedroom Steps to Subway & Central Park\n",
      "The Neighborhood is Midtown and title is Lovely Room/ private Bath in Prewar Midtown Gem\n",
      "The Neighborhood is Jackson Heights and title is Bedroom 5 min away from E, 7, F, M, R trains!\n",
      "The Neighborhood is Ditmars Steinway and title is Large 2bd 15 min to Midtown Manhattan\n",
      "The Neighborhood is Two Bridges and title is *Perfect Bedroom! Large Sunny Apt*Manhattan*NYC\n",
      "The Neighborhood is Midtown and title is Spacious & Bright: 1 BR Midtown!\n",
      "The Neighborhood is Carroll Gardens and title is Quiet Room in Unique Carroll Gardens\n"
     ]
    }
   ],
   "source": [
    "i = 0\n",
    "for result in non_expanded_results:\n",
    "    i +=1\n",
    "    if i == 10:\n",
    "        break\n",
    "    print(f'The Neighborhood is {result[\"neighbourhood_cleansed\"]} and title is {result[\"name\"]}')\n"
   ]
  },
  {
   "cell_type": "code",
   "execution_count": 11,
   "metadata": {},
   "outputs": [
    {
     "name": "stdout",
     "output_type": "stream",
     "text": [
      "...Horatte, mutition an yull, deol puurtor ametull dewwy, the Thy kitch a B\n"
     ]
    }
   ],
   "source": [
    "states = None\n",
    "next_char = tf.constant([query])\n",
    "alternative_query = []\n",
    "\n",
    "for n in range(75):\n",
    "  next_char, states = alternative_queries_model.generate_one_step(next_char, states=states)\n",
    "  alternative_query.append(next_char)\n",
    "\n",
    "print(tf.strings.join(alternative_query)[0].numpy().decode(\"utf-8\"))\n"
   ]
  },
  {
   "cell_type": "code",
   "execution_count": 12,
   "metadata": {
    "pycharm": {
     "name": "#%%\n"
    }
   },
   "outputs": [],
   "source": [
    "new_query = ' '.join([query, ' ', tf.strings.join(alternative_query)[0].numpy().decode(\"utf-8\")])"
   ]
  },
  {
   "cell_type": "code",
   "execution_count": 13,
   "metadata": {
    "pycharm": {
     "name": "#%%\n"
    }
   },
   "outputs": [
    {
     "data": {
      "text/plain": [
       "'Midtown sunny two bedroom   ...Horatte, mutition an yull, deol puurtor ametull dewwy, the Thy kitch a B'"
      ]
     },
     "execution_count": 13,
     "metadata": {},
     "output_type": "execute_result"
    }
   ],
   "source": [
    "new_query"
   ]
  },
  {
   "cell_type": "code",
   "execution_count": 14,
   "metadata": {
    "pycharm": {
     "name": "#%%\n"
    }
   },
   "outputs": [],
   "source": [
    "expanded_results = solr.search(new_query, **{\n",
    "                'rows': 100,\n",
    "            })"
   ]
  },
  {
   "cell_type": "code",
   "execution_count": 29,
   "metadata": {},
   "outputs": [
    {
     "name": "stdout",
     "output_type": "stream",
     "text": [
      "The Neighborhood is Brighton Beach and title is The best place to rest and relax\n",
      "The Neighborhood is Park Slope and title is Massive, Private 1 Bedroom near Barclays Center\n",
      "The Neighborhood is Harlem and title is Super Large Bedroom in Harlem\n",
      "The Neighborhood is Hell's Kitchen and title is Spacious 2 bedroom near Times Sq\n",
      "The Neighborhood is Midtown and title is Spacious & Bright: 1 BR Midtown!\n",
      "The Neighborhood is Harlem and title is Sunny 2 Bedroom Penthouse with Good Vibes\n",
      "The Neighborhood is Bushwick and title is Beautiful Bushwick - 3BR Apartment\n",
      "The Neighborhood is Maspeth and title is 2 bdrm  Entire Furnished Apt.  (R)\n",
      "The Neighborhood is Midtown and title is Large Elevator 1 Bedroom Best Location\n"
     ]
    }
   ],
   "source": [
    "i = 0\n",
    "for result in expanded_results:\n",
    "    i +=1\n",
    "    if i == 10:\n",
    "        break\n",
    "    print(f'The Neighborhood is {result[\"neighbourhood_cleansed\"]} and title is {result[\"name\"]}')"
   ]
  },
  {
   "cell_type": "code",
   "execution_count": 16,
   "metadata": {},
   "outputs": [
    {
     "name": "stdout",
     "output_type": "stream",
     "text": [
      "Doc2Vec Model loaded\n"
     ]
    }
   ],
   "source": [
    "model_path = '2-ranking/lab4/airbnb_model'\n",
    "doc2vec_model = Doc2Vec.load(model_path)\n",
    "print(f'Doc2Vec Model loaded')"
   ]
  },
  {
   "cell_type": "code",
   "execution_count": 17,
   "metadata": {
    "pycharm": {
     "name": "#%%\n"
    }
   },
   "outputs": [],
   "source": [
    "tokenized_query = list(gensim.utils.simple_preprocess(query))\n",
    "tokenized_new_query = list(gensim.utils.simple_preprocess(new_query))"
   ]
  },
  {
   "cell_type": "code",
   "execution_count": 18,
   "metadata": {},
   "outputs": [
    {
     "data": {
      "text/plain": [
       "['midtown',\n",
       " 'sunny',\n",
       " 'two',\n",
       " 'bedroom',\n",
       " 'horatte',\n",
       " 'mutition',\n",
       " 'an',\n",
       " 'yull',\n",
       " 'deol',\n",
       " 'puurtor',\n",
       " 'ametull',\n",
       " 'dewwy',\n",
       " 'the',\n",
       " 'thy',\n",
       " 'kitch']"
      ]
     },
     "execution_count": 18,
     "metadata": {},
     "output_type": "execute_result"
    }
   ],
   "source": [
    "tokenized_new_query"
   ]
  },
  {
   "cell_type": "code",
   "execution_count": 19,
   "metadata": {
    "pycharm": {
     "name": "#%%\n"
    }
   },
   "outputs": [],
   "source": [
    "df_non_expanded_results = pd.DataFrame(non_expanded_results)\n",
    "similarities = []\n",
    "for result in non_expanded_results:\n",
    "    try:\n",
    "        similarity = doc2vec_model.similarity_unseen_docs(doc_words1=tokenized_query, doc_words2= list(gensim.utils.simple_preprocess(result[\"description\"])))\n",
    "    except KeyError:\n",
    "        similarity = 0\n",
    "    similarities.append(similarity)\n",
    "df_non_expanded_results[\"Similarity\"] = pd.Series(similarities)\n",
    "df_non_expanded_results.sort_values(by=\"Similarity\", ascending=False, inplace=True)\n"
   ]
  },
  {
   "cell_type": "code",
   "execution_count": 20,
   "metadata": {},
   "outputs": [
    {
     "data": {
      "text/html": [
       "<div>\n",
       "<style scoped>\n",
       "    .dataframe tbody tr th:only-of-type {\n",
       "        vertical-align: middle;\n",
       "    }\n",
       "\n",
       "    .dataframe tbody tr th {\n",
       "        vertical-align: top;\n",
       "    }\n",
       "\n",
       "    .dataframe thead th {\n",
       "        text-align: right;\n",
       "    }\n",
       "</style>\n",
       "<table border=\"1\" class=\"dataframe\">\n",
       "  <thead>\n",
       "    <tr style=\"text-align: right;\">\n",
       "      <th></th>\n",
       "      <th>id</th>\n",
       "      <th>listing_url</th>\n",
       "      <th>name</th>\n",
       "      <th>description</th>\n",
       "      <th>neighborhood_overview</th>\n",
       "      <th>host_id</th>\n",
       "      <th>host_url</th>\n",
       "      <th>host_name</th>\n",
       "      <th>neighbourhood</th>\n",
       "      <th>neighbourhood_cleansed</th>\n",
       "      <th>...</th>\n",
       "      <th>accommodates</th>\n",
       "      <th>bathrooms_text</th>\n",
       "      <th>bedrooms</th>\n",
       "      <th>beds</th>\n",
       "      <th>amenities</th>\n",
       "      <th>price</th>\n",
       "      <th>number_of_reviews</th>\n",
       "      <th>reviews_per_month</th>\n",
       "      <th>_version_</th>\n",
       "      <th>Similarity</th>\n",
       "    </tr>\n",
       "  </thead>\n",
       "  <tbody>\n",
       "    <tr>\n",
       "      <th>44</th>\n",
       "      <td>48102360</td>\n",
       "      <td>https://www.airbnb.com/rooms/48102360</td>\n",
       "      <td>Convenient to all transportation</td>\n",
       "      <td>Beautiful sunny quiet upper West side two bedr...</td>\n",
       "      <td>NaN</td>\n",
       "      <td>13481312</td>\n",
       "      <td>https://www.airbnb.com/users/show/13481312</td>\n",
       "      <td>Susan</td>\n",
       "      <td>NaN</td>\n",
       "      <td>Upper West Side</td>\n",
       "      <td>...</td>\n",
       "      <td>4</td>\n",
       "      <td>1 bath</td>\n",
       "      <td>2.0</td>\n",
       "      <td>2.0</td>\n",
       "      <td>[\"Kitchen\", \"Cable TV\", \"TV\", \"Carbon monoxide...</td>\n",
       "      <td>$150.00</td>\n",
       "      <td>0</td>\n",
       "      <td>NaN</td>\n",
       "      <td>1706113115790245890</td>\n",
       "      <td>0.838188</td>\n",
       "    </tr>\n",
       "    <tr>\n",
       "      <th>73</th>\n",
       "      <td>45989074</td>\n",
       "      <td>https://www.airbnb.com/rooms/45989074</td>\n",
       "      <td>Two Bedroom Apartment in Midtown west</td>\n",
       "      <td>Bright Two bedroom apartment located in Midtow...</td>\n",
       "      <td>NaN</td>\n",
       "      <td>51501835</td>\n",
       "      <td>https://www.airbnb.com/users/show/51501835</td>\n",
       "      <td>Jeniffer</td>\n",
       "      <td>NaN</td>\n",
       "      <td>Hell's Kitchen</td>\n",
       "      <td>...</td>\n",
       "      <td>4</td>\n",
       "      <td>1 bath</td>\n",
       "      <td>2.0</td>\n",
       "      <td>1.0</td>\n",
       "      <td>[\"Kitchen\", \"TV\", \"Carbon monoxide alarm\", \"Es...</td>\n",
       "      <td>$90.00</td>\n",
       "      <td>1</td>\n",
       "      <td>[0.6]</td>\n",
       "      <td>1706113115179974658</td>\n",
       "      <td>0.804656</td>\n",
       "    </tr>\n",
       "    <tr>\n",
       "      <th>14</th>\n",
       "      <td>19160912</td>\n",
       "      <td>https://www.airbnb.com/rooms/19160912</td>\n",
       "      <td>Spacious Guest room 3 blocks from NY Presbyter...</td>\n",
       "      <td>Spacious guest bedroom available in sunny, cha...</td>\n",
       "      <td>NaN</td>\n",
       "      <td>1728792</td>\n",
       "      <td>https://www.airbnb.com/users/show/1728792</td>\n",
       "      <td>Brittany</td>\n",
       "      <td>NaN</td>\n",
       "      <td>Washington Heights</td>\n",
       "      <td>...</td>\n",
       "      <td>2</td>\n",
       "      <td>1 shared bath</td>\n",
       "      <td>1.0</td>\n",
       "      <td>1.0</td>\n",
       "      <td>[\"Hot water\", \"Essentials\", \"Smoke alarm\", \"Wi...</td>\n",
       "      <td>$76.00</td>\n",
       "      <td>4</td>\n",
       "      <td>[0.16]</td>\n",
       "      <td>1706113110340796417</td>\n",
       "      <td>0.775606</td>\n",
       "    </tr>\n",
       "    <tr>\n",
       "      <th>39</th>\n",
       "      <td>45732541</td>\n",
       "      <td>https://www.airbnb.com/rooms/45732541</td>\n",
       "      <td>Central Williamsburg location ! Close to L and J</td>\n",
       "      <td>Sunny two bedroom apartment close to coffee sh...</td>\n",
       "      <td>NaN</td>\n",
       "      <td>101573638</td>\n",
       "      <td>https://www.airbnb.com/users/show/101573638</td>\n",
       "      <td>Natasha</td>\n",
       "      <td>NaN</td>\n",
       "      <td>Williamsburg</td>\n",
       "      <td>...</td>\n",
       "      <td>2</td>\n",
       "      <td>1 shared bath</td>\n",
       "      <td>1.0</td>\n",
       "      <td>1.0</td>\n",
       "      <td>[\"Kitchen\", \"Hot water\", \"Essentials\", \"Heatin...</td>\n",
       "      <td>$65.00</td>\n",
       "      <td>11</td>\n",
       "      <td>[1.82]</td>\n",
       "      <td>1706113115075117058</td>\n",
       "      <td>0.757887</td>\n",
       "    </tr>\n",
       "    <tr>\n",
       "      <th>79</th>\n",
       "      <td>46432262</td>\n",
       "      <td>https://www.airbnb.com/rooms/46432262</td>\n",
       "      <td>Two Bedroom Apartment in Midtown West</td>\n",
       "      <td>Two bedroom apartment in Midtown West</td>\n",
       "      <td>NaN</td>\n",
       "      <td>51501835</td>\n",
       "      <td>https://www.airbnb.com/users/show/51501835</td>\n",
       "      <td>Jeniffer</td>\n",
       "      <td>NaN</td>\n",
       "      <td>Hell's Kitchen</td>\n",
       "      <td>...</td>\n",
       "      <td>4</td>\n",
       "      <td>1 bath</td>\n",
       "      <td>2.0</td>\n",
       "      <td>1.0</td>\n",
       "      <td>[\"Kitchen\", \"TV\", \"Carbon monoxide alarm\", \"Ha...</td>\n",
       "      <td>$150.00</td>\n",
       "      <td>0</td>\n",
       "      <td>NaN</td>\n",
       "      <td>1706113115320483842</td>\n",
       "      <td>0.756615</td>\n",
       "    </tr>\n",
       "    <tr>\n",
       "      <th>...</th>\n",
       "      <td>...</td>\n",
       "      <td>...</td>\n",
       "      <td>...</td>\n",
       "      <td>...</td>\n",
       "      <td>...</td>\n",
       "      <td>...</td>\n",
       "      <td>...</td>\n",
       "      <td>...</td>\n",
       "      <td>...</td>\n",
       "      <td>...</td>\n",
       "      <td>...</td>\n",
       "      <td>...</td>\n",
       "      <td>...</td>\n",
       "      <td>...</td>\n",
       "      <td>...</td>\n",
       "      <td>...</td>\n",
       "      <td>...</td>\n",
       "      <td>...</td>\n",
       "      <td>...</td>\n",
       "      <td>...</td>\n",
       "      <td>...</td>\n",
       "    </tr>\n",
       "    <tr>\n",
       "      <th>3</th>\n",
       "      <td>27903031</td>\n",
       "      <td>https://www.airbnb.com/rooms/27903031</td>\n",
       "      <td>Lovely Room/ private Bath in Prewar Midtown Gem</td>\n",
       "      <td>Very well located elegant 3 bedroom sunny prew...</td>\n",
       "      <td>This is a great family apartment in the middle...</td>\n",
       "      <td>7580102</td>\n",
       "      <td>https://www.airbnb.com/users/show/7580102</td>\n",
       "      <td>Jamie</td>\n",
       "      <td>New York, United States</td>\n",
       "      <td>Midtown</td>\n",
       "      <td>...</td>\n",
       "      <td>2</td>\n",
       "      <td>1 shared bath</td>\n",
       "      <td>1.0</td>\n",
       "      <td>1.0</td>\n",
       "      <td>[\"Cable TV\", \"Essentials\", \"Dryer\", \"Long term...</td>\n",
       "      <td>$175.00</td>\n",
       "      <td>5</td>\n",
       "      <td>[0.16]</td>\n",
       "      <td>1706113111743791106</td>\n",
       "      <td>0.259540</td>\n",
       "    </tr>\n",
       "    <tr>\n",
       "      <th>78</th>\n",
       "      <td>938022</td>\n",
       "      <td>https://www.airbnb.com/rooms/938022</td>\n",
       "      <td>Private Bedroom in Williamsburg</td>\n",
       "      <td>Big sunny room with queen bed. Well located in...</td>\n",
       "      <td>Conveniently located on the eastern edge of Wi...</td>\n",
       "      <td>1866827</td>\n",
       "      <td>https://www.airbnb.com/users/show/1866827</td>\n",
       "      <td>Gregory</td>\n",
       "      <td>Brooklyn, New York, United States</td>\n",
       "      <td>Williamsburg</td>\n",
       "      <td>...</td>\n",
       "      <td>2</td>\n",
       "      <td>NaN</td>\n",
       "      <td>1.0</td>\n",
       "      <td>1.0</td>\n",
       "      <td>[\"Refrigerator\", \"Essentials\", \"Long term stay...</td>\n",
       "      <td>$85.00</td>\n",
       "      <td>103</td>\n",
       "      <td>[1.04]</td>\n",
       "      <td>1706113107109085185</td>\n",
       "      <td>0.254714</td>\n",
       "    </tr>\n",
       "    <tr>\n",
       "      <th>25</th>\n",
       "      <td>47423109</td>\n",
       "      <td>https://www.airbnb.com/rooms/47423109</td>\n",
       "      <td>Bohemian style, New Unit in Prime location</td>\n",
       "      <td>Bohemian and modern and perfect location! Quie...</td>\n",
       "      <td>Midtown East - Prime location</td>\n",
       "      <td>51589519</td>\n",
       "      <td>https://www.airbnb.com/users/show/51589519</td>\n",
       "      <td>Asi</td>\n",
       "      <td>New York, United States</td>\n",
       "      <td>Midtown</td>\n",
       "      <td>...</td>\n",
       "      <td>2</td>\n",
       "      <td>1 bath</td>\n",
       "      <td>NaN</td>\n",
       "      <td>1.0</td>\n",
       "      <td>[\"Cable TV\", \"Refrigerator\", \"Shower gel\", \"Es...</td>\n",
       "      <td>$125.00</td>\n",
       "      <td>1</td>\n",
       "      <td>[1.0]</td>\n",
       "      <td>1706113115622473728</td>\n",
       "      <td>0.230108</td>\n",
       "    </tr>\n",
       "    <tr>\n",
       "      <th>19</th>\n",
       "      <td>40897147</td>\n",
       "      <td>https://www.airbnb.com/rooms/40897147</td>\n",
       "      <td>Sunny Astoria</td>\n",
       "      <td>Sunny private room in a two-bedroom apartment ...</td>\n",
       "      <td>Astoria is one of the hottest neighborhoods in...</td>\n",
       "      <td>25768880</td>\n",
       "      <td>https://www.airbnb.com/users/show/25768880</td>\n",
       "      <td>Andi</td>\n",
       "      <td>Queens, New York, United States</td>\n",
       "      <td>Astoria</td>\n",
       "      <td>...</td>\n",
       "      <td>1</td>\n",
       "      <td>1 shared bath</td>\n",
       "      <td>1.0</td>\n",
       "      <td>1.0</td>\n",
       "      <td>[\"Hair dryer\", \"Shampoo\", \"Kitchen\", \"Fire ext...</td>\n",
       "      <td>$45.00</td>\n",
       "      <td>1</td>\n",
       "      <td>[0.06]</td>\n",
       "      <td>1706113113927974916</td>\n",
       "      <td>0.200648</td>\n",
       "    </tr>\n",
       "    <tr>\n",
       "      <th>38</th>\n",
       "      <td>12622845</td>\n",
       "      <td>https://www.airbnb.com/rooms/12622845</td>\n",
       "      <td>Your SUNNYROOM 15mnts to Manhattan!</td>\n",
       "      <td>Cozy and spacious private room. Very sunny; tw...</td>\n",
       "      <td>Sunnyside is a pretty and quiet neighborhood, ...</td>\n",
       "      <td>14498263</td>\n",
       "      <td>https://www.airbnb.com/users/show/14498263</td>\n",
       "      <td>Penélope</td>\n",
       "      <td>Queens, New York, United States</td>\n",
       "      <td>Sunnyside</td>\n",
       "      <td>...</td>\n",
       "      <td>2</td>\n",
       "      <td>1 shared bath</td>\n",
       "      <td>1.0</td>\n",
       "      <td>1.0</td>\n",
       "      <td>[\"Dishes and silverware\", \"Air conditioning\", ...</td>\n",
       "      <td>$62.00</td>\n",
       "      <td>128</td>\n",
       "      <td>[2.14]</td>\n",
       "      <td>1706113109344649218</td>\n",
       "      <td>0.198416</td>\n",
       "    </tr>\n",
       "  </tbody>\n",
       "</table>\n",
       "<p>100 rows × 22 columns</p>\n",
       "</div>"
      ],
      "text/plain": [
       "          id                            listing_url  \\\n",
       "44  48102360  https://www.airbnb.com/rooms/48102360   \n",
       "73  45989074  https://www.airbnb.com/rooms/45989074   \n",
       "14  19160912  https://www.airbnb.com/rooms/19160912   \n",
       "39  45732541  https://www.airbnb.com/rooms/45732541   \n",
       "79  46432262  https://www.airbnb.com/rooms/46432262   \n",
       "..       ...                                    ...   \n",
       "3   27903031  https://www.airbnb.com/rooms/27903031   \n",
       "78    938022    https://www.airbnb.com/rooms/938022   \n",
       "25  47423109  https://www.airbnb.com/rooms/47423109   \n",
       "19  40897147  https://www.airbnb.com/rooms/40897147   \n",
       "38  12622845  https://www.airbnb.com/rooms/12622845   \n",
       "\n",
       "                                                 name  \\\n",
       "44                   Convenient to all transportation   \n",
       "73              Two Bedroom Apartment in Midtown west   \n",
       "14  Spacious Guest room 3 blocks from NY Presbyter...   \n",
       "39   Central Williamsburg location ! Close to L and J   \n",
       "79              Two Bedroom Apartment in Midtown West   \n",
       "..                                                ...   \n",
       "3     Lovely Room/ private Bath in Prewar Midtown Gem   \n",
       "78                    Private Bedroom in Williamsburg   \n",
       "25         Bohemian style, New Unit in Prime location   \n",
       "19                                      Sunny Astoria   \n",
       "38                Your SUNNYROOM 15mnts to Manhattan!   \n",
       "\n",
       "                                          description  \\\n",
       "44  Beautiful sunny quiet upper West side two bedr...   \n",
       "73  Bright Two bedroom apartment located in Midtow...   \n",
       "14  Spacious guest bedroom available in sunny, cha...   \n",
       "39  Sunny two bedroom apartment close to coffee sh...   \n",
       "79              Two bedroom apartment in Midtown West   \n",
       "..                                                ...   \n",
       "3   Very well located elegant 3 bedroom sunny prew...   \n",
       "78  Big sunny room with queen bed. Well located in...   \n",
       "25  Bohemian and modern and perfect location! Quie...   \n",
       "19  Sunny private room in a two-bedroom apartment ...   \n",
       "38  Cozy and spacious private room. Very sunny; tw...   \n",
       "\n",
       "                                neighborhood_overview    host_id  \\\n",
       "44                                                NaN   13481312   \n",
       "73                                                NaN   51501835   \n",
       "14                                                NaN    1728792   \n",
       "39                                                NaN  101573638   \n",
       "79                                                NaN   51501835   \n",
       "..                                                ...        ...   \n",
       "3   This is a great family apartment in the middle...    7580102   \n",
       "78  Conveniently located on the eastern edge of Wi...    1866827   \n",
       "25                      Midtown East - Prime location   51589519   \n",
       "19  Astoria is one of the hottest neighborhoods in...   25768880   \n",
       "38  Sunnyside is a pretty and quiet neighborhood, ...   14498263   \n",
       "\n",
       "                                       host_url host_name  \\\n",
       "44   https://www.airbnb.com/users/show/13481312     Susan   \n",
       "73   https://www.airbnb.com/users/show/51501835  Jeniffer   \n",
       "14    https://www.airbnb.com/users/show/1728792  Brittany   \n",
       "39  https://www.airbnb.com/users/show/101573638   Natasha   \n",
       "79   https://www.airbnb.com/users/show/51501835  Jeniffer   \n",
       "..                                          ...       ...   \n",
       "3     https://www.airbnb.com/users/show/7580102     Jamie   \n",
       "78    https://www.airbnb.com/users/show/1866827   Gregory   \n",
       "25   https://www.airbnb.com/users/show/51589519       Asi   \n",
       "19   https://www.airbnb.com/users/show/25768880      Andi   \n",
       "38   https://www.airbnb.com/users/show/14498263  Penélope   \n",
       "\n",
       "                        neighbourhood neighbourhood_cleansed  ...  \\\n",
       "44                                NaN        Upper West Side  ...   \n",
       "73                                NaN         Hell's Kitchen  ...   \n",
       "14                                NaN     Washington Heights  ...   \n",
       "39                                NaN           Williamsburg  ...   \n",
       "79                                NaN         Hell's Kitchen  ...   \n",
       "..                                ...                    ...  ...   \n",
       "3             New York, United States                Midtown  ...   \n",
       "78  Brooklyn, New York, United States           Williamsburg  ...   \n",
       "25            New York, United States                Midtown  ...   \n",
       "19    Queens, New York, United States                Astoria  ...   \n",
       "38    Queens, New York, United States              Sunnyside  ...   \n",
       "\n",
       "   accommodates bathrooms_text  bedrooms beds  \\\n",
       "44            4         1 bath       2.0  2.0   \n",
       "73            4         1 bath       2.0  1.0   \n",
       "14            2  1 shared bath       1.0  1.0   \n",
       "39            2  1 shared bath       1.0  1.0   \n",
       "79            4         1 bath       2.0  1.0   \n",
       "..          ...            ...       ...  ...   \n",
       "3             2  1 shared bath       1.0  1.0   \n",
       "78            2            NaN       1.0  1.0   \n",
       "25            2         1 bath       NaN  1.0   \n",
       "19            1  1 shared bath       1.0  1.0   \n",
       "38            2  1 shared bath       1.0  1.0   \n",
       "\n",
       "                                            amenities    price  \\\n",
       "44  [\"Kitchen\", \"Cable TV\", \"TV\", \"Carbon monoxide...  $150.00   \n",
       "73  [\"Kitchen\", \"TV\", \"Carbon monoxide alarm\", \"Es...   $90.00   \n",
       "14  [\"Hot water\", \"Essentials\", \"Smoke alarm\", \"Wi...   $76.00   \n",
       "39  [\"Kitchen\", \"Hot water\", \"Essentials\", \"Heatin...   $65.00   \n",
       "79  [\"Kitchen\", \"TV\", \"Carbon monoxide alarm\", \"Ha...  $150.00   \n",
       "..                                                ...      ...   \n",
       "3   [\"Cable TV\", \"Essentials\", \"Dryer\", \"Long term...  $175.00   \n",
       "78  [\"Refrigerator\", \"Essentials\", \"Long term stay...   $85.00   \n",
       "25  [\"Cable TV\", \"Refrigerator\", \"Shower gel\", \"Es...  $125.00   \n",
       "19  [\"Hair dryer\", \"Shampoo\", \"Kitchen\", \"Fire ext...   $45.00   \n",
       "38  [\"Dishes and silverware\", \"Air conditioning\", ...   $62.00   \n",
       "\n",
       "   number_of_reviews reviews_per_month            _version_ Similarity  \n",
       "44                 0               NaN  1706113115790245890   0.838188  \n",
       "73                 1             [0.6]  1706113115179974658   0.804656  \n",
       "14                 4            [0.16]  1706113110340796417   0.775606  \n",
       "39                11            [1.82]  1706113115075117058   0.757887  \n",
       "79                 0               NaN  1706113115320483842   0.756615  \n",
       "..               ...               ...                  ...        ...  \n",
       "3                  5            [0.16]  1706113111743791106   0.259540  \n",
       "78               103            [1.04]  1706113107109085185   0.254714  \n",
       "25                 1             [1.0]  1706113115622473728   0.230108  \n",
       "19                 1            [0.06]  1706113113927974916   0.200648  \n",
       "38               128            [2.14]  1706113109344649218   0.198416  \n",
       "\n",
       "[100 rows x 22 columns]"
      ]
     },
     "execution_count": 20,
     "metadata": {},
     "output_type": "execute_result"
    }
   ],
   "source": [
    "df_non_expanded_results"
   ]
  },
  {
   "cell_type": "code",
   "execution_count": 21,
   "metadata": {
    "pycharm": {
     "name": "#%%\n"
    }
   },
   "outputs": [
    {
     "name": "stdout",
     "output_type": "stream",
     "text": [
      "Most similar document before expansion has description: \n",
      "\n",
      "Beautiful sunny quiet upper West side two bedroom apartment.\n",
      "With similarity: 0.8381876945495605\n"
     ]
    }
   ],
   "source": [
    "print(f'Most similar document before expansion has description: \\n\\n{df_non_expanded_results[\"description\"].iloc[0]}\\nWith similarity: {df_non_expanded_results[\"Similarity\"].iloc[0]}')"
   ]
  },
  {
   "cell_type": "code",
   "execution_count": 22,
   "metadata": {
    "pycharm": {
     "name": "#%%\n"
    }
   },
   "outputs": [],
   "source": [
    "df_expanded_results = pd.DataFrame(expanded_results)\n",
    "new_similarities = []\n",
    "for result in expanded_results:\n",
    "    try:\n",
    "        similarity = doc2vec_model.similarity_unseen_docs(doc_words1=tokenized_query, doc_words2= list(gensim.utils.simple_preprocess(result[\"description\"])))\n",
    "    except KeyError:\n",
    "        similarity = 0\n",
    "    new_similarities.append(similarity)\n",
    "df_expanded_results[\"Similarity\"] = pd.Series(new_similarities)\n",
    "df_expanded_results.sort_values(by=\"Similarity\", ascending=False, inplace=True)"
   ]
  },
  {
   "cell_type": "code",
   "execution_count": 23,
   "metadata": {
    "pycharm": {
     "name": "#%%\n"
    }
   },
   "outputs": [
    {
     "name": "stdout",
     "output_type": "stream",
     "text": [
      "Most similar document after expansion has description: \n",
      "\n",
      "A sunny, spacious and furnished two bedroom apartment with skylight and balcony. A quick walk to the JMZ subway lines with an express train to Manhattan.\n",
      "With similarity: 0.7855047583580017\n"
     ]
    }
   ],
   "source": [
    "print(f'Most similar document after expansion has description: \\n\\n{df_expanded_results[\"description\"].iloc[0]}\\nWith similarity: {df_expanded_results[\"Similarity\"].iloc[0]}')"
   ]
  },
  {
   "cell_type": "code",
   "execution_count": 24,
   "metadata": {
    "pycharm": {
     "name": "#%%\n"
    }
   },
   "outputs": [
    {
     "name": "stdout",
     "output_type": "stream",
     "text": [
      "Number of documents that surpass 0.5 similarity threshold: 32\n"
     ]
    }
   ],
   "source": [
    "print(f'Number of documents that surpass 0.5 similarity threshold: {len(df_expanded_results[df_expanded_results[\"Similarity\"] >= 0.5])}')\n"
   ]
  },
  {
   "cell_type": "code",
   "execution_count": null,
   "metadata": {
    "pycharm": {
     "name": "#%%\n"
    }
   },
   "outputs": [],
   "source": []
  }
 ],
 "metadata": {
  "kernelspec": {
   "display_name": "local-venv",
   "language": "python",
   "name": "local-venv"
  },
  "language_info": {
   "codemirror_mode": {
    "name": "ipython",
    "version": 3
   },
   "file_extension": ".py",
   "mimetype": "text/x-python",
   "name": "python",
   "nbconvert_exporter": "python",
   "pygments_lexer": "ipython3",
   "version": "3.7.3"
  }
 },
 "nbformat": 4,
 "nbformat_minor": 1
}