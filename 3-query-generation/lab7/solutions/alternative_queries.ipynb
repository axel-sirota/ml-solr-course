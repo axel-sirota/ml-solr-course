{
 "cells": [
  {
   "cell_type": "code",
   "execution_count": null,
   "metadata": {},
   "outputs": [],
   "source": [
    "import gensim\n",
    "import numpy as np\n",
    "import pandas as pd\n",
    "import pysolr\n",
    "from gensim.models import Doc2Vec\n",
    "\n",
    "np.random.seed(42)\n",
    "import tensorflow as tf\n",
    "import sys"
   ]
  },
  {
   "cell_type": "code",
   "execution_count": null,
   "metadata": {},
   "outputs": [],
   "source": [
    "# In case your sys.path does not contain the base repo, go there.\n",
    "print(sys.path)\n",
    "%cd '~/ml-solr-course'"
   ]
  },
  {
   "cell_type": "code",
   "execution_count": null,
   "metadata": {
    "pycharm": {
     "name": "#%%\n"
    }
   },
   "outputs": [],
   "source": [
    "model_path = '3-query-generation/lab6/alternative_queries'\n",
    "query = 'Midtown sunny two bedroom'\n",
    "alternative_queries_model = tf.saved_model.load(model_path)\n",
    "print(f'Model loaded')\n"
   ]
  },
  {
   "cell_type": "code",
   "execution_count": null,
   "metadata": {
    "pycharm": {
     "name": "#%%\n"
    }
   },
   "outputs": [],
   "source": [
    "# Create a client instance. The timeout and authentication options are not required.\n",
    "solr = pysolr.Solr('http://localhost:8983/solr/airbnb', always_commit=True, timeout=10)"
   ]
  },
  {
   "cell_type": "code",
   "execution_count": null,
   "metadata": {
    "pycharm": {
     "name": "#%%\n"
    }
   },
   "outputs": [],
   "source": [
    "non_expanded_results = solr.search(query, **{\n",
    "                'rows': 100,\n",
    "            })"
   ]
  },
  {
   "cell_type": "code",
   "execution_count": null,
   "metadata": {
    "pycharm": {
     "name": "#%%\n"
    }
   },
   "outputs": [],
   "source": [
    "i = 0\n",
    "for result in non_expanded_results:\n",
    "    i +=1\n",
    "    if i == 10:\n",
    "        break\n",
    "    print(f'The Neighborhood is {result[\"neighbourhood_cleansed\"]} and title is {result[\"name\"]}')\n"
   ]
  },
  {
   "cell_type": "code",
   "execution_count": null,
   "metadata": {},
   "outputs": [],
   "source": [
    "states = None\n",
    "next_char = tf.constant([query])\n",
    "alternative_query = []\n",
    "\n",
    "for n in range(75):\n",
    "  next_char, states = alternative_queries_model.generate_one_step(next_char, states=states)\n",
    "  alternative_query.append(next_char)\n",
    "\n",
    "print(tf.strings.join(alternative_query)[0].numpy().decode(\"utf-8\"))\n"
   ]
  },
  {
   "cell_type": "code",
   "execution_count": null,
   "metadata": {
    "pycharm": {
     "name": "#%%\n"
    }
   },
   "outputs": [],
   "source": [
    "new_query = ' '.join([query, ' ', tf.strings.join(alternative_query)[0].numpy().decode(\"utf-8\")])"
   ]
  },
  {
   "cell_type": "code",
   "execution_count": null,
   "metadata": {
    "pycharm": {
     "name": "#%%\n"
    }
   },
   "outputs": [],
   "source": [
    "new_query"
   ]
  },
  {
   "cell_type": "code",
   "execution_count": null,
   "metadata": {
    "pycharm": {
     "name": "#%%\n"
    }
   },
   "outputs": [],
   "source": [
    "expanded_results = solr.search(new_query, **{\n",
    "                'rows': 100,\n",
    "            })"
   ]
  },
  {
   "cell_type": "code",
   "execution_count": null,
   "metadata": {},
   "outputs": [],
   "source": [
    "i = 0\n",
    "for result in expanded_results:\n",
    "    i +=1\n",
    "    if i == 10:\n",
    "        break\n",
    "    print(f'The Neighborhood is {result[\"neighbourhood_cleansed\"]} and title is {result[\"name\"]}')"
   ]
  },
  {
   "cell_type": "code",
   "execution_count": null,
   "metadata": {},
   "outputs": [],
   "source": [
    "model_path = '2-ranking/lab4/airbnb_model'\n",
    "doc2vec_model = Doc2Vec.load(model_path)\n",
    "print(f'Doc2Vec Model loaded')"
   ]
  },
  {
   "cell_type": "code",
   "execution_count": null,
   "metadata": {
    "pycharm": {
     "name": "#%%\n"
    }
   },
   "outputs": [],
   "source": [
    "tokenized_query = list(gensim.utils.simple_preprocess(query))\n",
    "tokenized_new_query = list(gensim.utils.simple_preprocess(new_query))"
   ]
  },
  {
   "cell_type": "code",
   "execution_count": null,
   "metadata": {},
   "outputs": [],
   "source": [
    "tokenized_new_query"
   ]
  },
  {
   "cell_type": "code",
   "execution_count": null,
   "metadata": {
    "pycharm": {
     "name": "#%%\n"
    }
   },
   "outputs": [],
   "source": [
    "df_non_expanded_results = pd.DataFrame(non_expanded_results)\n",
    "similarities = []\n",
    "for result in non_expanded_results:\n",
    "    try:\n",
    "        similarity = doc2vec_model.similarity_unseen_docs(doc_words1=tokenized_query, doc_words2= list(gensim.utils.simple_preprocess(result[\"description\"])))\n",
    "    except KeyError:\n",
    "        similarity = 0\n",
    "    similarities.append(similarity)\n",
    "df_non_expanded_results[\"Similarity\"] = pd.Series(similarities)\n",
    "df_non_expanded_results.sort_values(by=\"Similarity\", ascending=False, inplace=True)\n"
   ]
  },
  {
   "cell_type": "code",
   "execution_count": null,
   "metadata": {},
   "outputs": [],
   "source": [
    "df_non_expanded_results"
   ]
  },
  {
   "cell_type": "code",
   "execution_count": null,
   "metadata": {
    "pycharm": {
     "name": "#%%\n"
    }
   },
   "outputs": [],
   "source": [
    "print(f'Most similar document before expansion has description: \\n\\n{df_non_expanded_results[\"description\"].iloc[0]}\\nWith similarity: {df_non_expanded_results[\"Similarity\"].iloc[0]}')"
   ]
  },
  {
   "cell_type": "code",
   "execution_count": null,
   "metadata": {
    "pycharm": {
     "name": "#%%\n"
    }
   },
   "outputs": [],
   "source": [
    "df_expanded_results = pd.DataFrame(expanded_results)\n",
    "new_similarities = []\n",
    "for result in expanded_results:\n",
    "    try:\n",
    "        similarity = doc2vec_model.similarity_unseen_docs(doc_words1=tokenized_query, doc_words2= list(gensim.utils.simple_preprocess(result[\"description\"])))\n",
    "    except KeyError:\n",
    "        similarity = 0\n",
    "    new_similarities.append(similarity)\n",
    "df_expanded_results[\"Similarity\"] = pd.Series(new_similarities)\n",
    "df_expanded_results.sort_values(by=\"Similarity\", ascending=False, inplace=True)"
   ]
  },
  {
   "cell_type": "code",
   "execution_count": null,
   "metadata": {
    "pycharm": {
     "name": "#%%\n"
    }
   },
   "outputs": [],
   "source": [
    "print(f'Most similar document after expansion has description: \\n\\n{df_expanded_results[\"description\"].iloc[0]}\\nWith similarity: {df_expanded_results[\"Similarity\"].iloc[0]}')"
   ]
  },
  {
   "cell_type": "code",
   "execution_count": null,
   "metadata": {
    "pycharm": {
     "name": "#%%\n"
    }
   },
   "outputs": [],
   "source": [
    "print(f'Number of documents that surpass 0.5 similarity threshold: {len(df_expanded_results[df_expanded_results[\"Similarity\"] >= 0.5])}')\n"
   ]
  },
  {
   "cell_type": "code",
   "execution_count": null,
   "metadata": {
    "pycharm": {
     "name": "#%%\n"
    }
   },
   "outputs": [],
   "source": []
  }
 ],
 "metadata": {
  "kernelspec": {
   "display_name": "local-venv",
   "language": "python",
   "name": "local-venv"
  },
  "language_info": {
   "codemirror_mode": {
    "name": "ipython",
    "version": 3
   },
   "file_extension": ".py",
   "mimetype": "text/x-python",
   "name": "python",
   "nbconvert_exporter": "python",
   "pygments_lexer": "ipython3",
   "version": "3.7.3"
  }
 },
 "nbformat": 4,
 "nbformat_minor": 1
}
