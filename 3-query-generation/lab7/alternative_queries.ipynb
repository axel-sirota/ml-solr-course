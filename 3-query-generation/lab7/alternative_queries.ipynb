{
 "cells": [
  {
   "cell_type": "code",
   "execution_count": 23,
   "metadata": {},
   "outputs": [],
   "source": [
    "import gensim\n",
    "import numpy as np\n",
    "import pandas as pd\n",
    "import pysolr\n",
    "from gensim.models import Doc2Vec\n",
    "\n",
    "np.random.seed(42)\n",
    "import tensorflow as tf\n",
    "import sys"
   ]
  },
  {
   "cell_type": "code",
   "execution_count": 24,
   "metadata": {},
   "outputs": [
    {
     "name": "stdout",
     "output_type": "stream",
     "text": [
      "['/Users/axelsirota/repos/ml-solr-course/3-query-generation/lab7', '/Users/axelsirota/.pyenv/versions/3.7.3/lib/python37.zip', '/Users/axelsirota/.pyenv/versions/3.7.3/lib/python3.7', '/Users/axelsirota/.pyenv/versions/3.7.3/lib/python3.7/lib-dynload', '', '/Users/axelsirota/repos/ml-solr-course/.venv/lib/python3.7/site-packages', '/Users/axelsirota/repos/ml-solr-course/.venv/lib/python3.7/site-packages/IPython/extensions', '/Users/axelsirota/.ipython']\n",
      "/Users/axelsirota/repos/ml-solr-course\n"
     ]
    }
   ],
   "source": [
    "# In case your sys.path does not contain the base repo, go there.\n",
    "print(sys.path)\n",
    "%cd '/Users/axelsirota/repos/ml-solr-course'"
   ]
  },
  {
   "cell_type": "code",
   "execution_count": 25,
   "metadata": {
    "pycharm": {
     "name": "#%%\n"
    }
   },
   "outputs": [
    {
     "name": "stdout",
     "output_type": "stream",
     "text": [
      "Model loaded\n"
     ]
    }
   ],
   "source": [
    "model_path = '3-query-generation/lab6/alternative_queries'\n",
    "query = 'Midtown sunny two bedroom'\n",
    "alternative_queries_model = tf.saved_model.load(model_path)\n",
    "print(f'Model loaded')\n"
   ]
  },
  {
   "cell_type": "code",
   "execution_count": 26,
   "metadata": {
    "pycharm": {
     "name": "#%%\n"
    }
   },
   "outputs": [],
   "source": [
    "# Create a client instance. The timeout and authentication options are not required.\n",
    "solr = pysolr.Solr('http://localhost:8983/solr/airbnb', always_commit=True, timeout=10)"
   ]
  },
  {
   "cell_type": "code",
   "execution_count": 27,
   "metadata": {
    "pycharm": {
     "name": "#%%\n"
    }
   },
   "outputs": [],
   "source": [
    "non_expanded_results = solr.search(query, **{\n",
    "                'rows': 100,\n",
    "            })"
   ]
  },
  {
   "cell_type": "code",
   "execution_count": 28,
   "metadata": {
    "pycharm": {
     "name": "#%%\n"
    }
   },
   "outputs": [
    {
     "name": "stdout",
     "output_type": "stream",
     "text": [
      "The ID is 10684164 and title is Private 1 Bdrm Apt - Prospect Park\n",
      "The ID is 4248788 and title is W70s Lg. Studio with outdoor space\n",
      "The ID is 48270841 and title is Romantic East Village Getaway\n",
      "The ID is 39920510 and title is Large Elevator 1 Bedroom Best Location\n",
      "The ID is 15721847 and title is Colorful Artist Loft w. your own Ocean Oasis\n",
      "The ID is 30811958 and title is Sunny 2 Bedroom Penthouse with Good Vibes\n",
      "The ID is 23852303 and title is A house in Flatbush.\n",
      "The ID is 24894476 and title is Super Large Bedroom in Harlem\n",
      "The ID is 19314589 and title is THE SMALL CHATEAU IN THE TREES\n",
      "The ID is 19160912 and title is Spacious Guest room 3 blocks from NY Presbyterian!\n",
      "The ID is 44752485 and title is West 37th street! Sunny, beautiful, serene 2BR\n",
      "The ID is 11943 and title is Country space in the city\n",
      "The ID is 11573269 and title is SUNNY STUDIO - 23rd FLOOR, DOORMAN\n",
      "The ID is 11584340 and title is Super Cute and Sunny Studio\n",
      "The ID is 18485487 and title is Sunny, Spacious, Private Room Close to Train!\n",
      "The ID is 14668738 and title is Sunny Room near Grand Central, Central Park\n",
      "The ID is 16427245 and title is Beautiful private room by N/W subway in Astoria\n",
      "The ID is 39411928 and title is Modern Sunny Apartment - 10 mins to Manhattan\n",
      "The ID is 43387571 and title is Sunny, Spacious and Artistic Apartment\n",
      "The ID is 47785447 and title is Bright and Cozy 1 bedroom 1 bathroom-Madison Ave!\n",
      "The ID is 24627684 and title is Quaint NYC studio- tree lined St.- great location!\n",
      "The ID is 46962568 and title is 15 foot ceiling Bright Studio - Madison Avenue!\n",
      "The ID is 25971425 and title is Big, beautiful, sunny room in Hamilton Heights\n",
      "The ID is 22203734 and title is Charming 1 bedroom APT in the heart of Astoria\n",
      "The ID is 29754946 and title is Large studio in Midtown\n",
      "The ID is 46964548 and title is One bed room best location near all\n",
      "The ID is 1138727 and title is BIG Bedroom AVAILable MONTHLY For Less ASK\n",
      "The ID is 33996721 and title is Sunny, Spacious 2-BR Apt in HK\n",
      "The ID is 12450817 and title is Ft Green Sunlit 1 Bedroom Apartment\n",
      "The ID is 22794168 and title is Sunny park-view room in Harlem brownstone\n",
      "The ID is 36967643 and title is Sunny Room, close to subway, 20 mins to Midtown\n",
      "The ID is 21175160 and title is Sunny park view room in Harlem brownstone\n",
      "The ID is 21175597 and title is Sunny church view room in Harlem brownstone\n",
      "The ID is 16821077 and title is Park Slope - Bright Spacious Sunny Room - Flexible\n",
      "The ID is 18971993 and title is Sunny Bedroom Steps to Subway & Central Park\n",
      "The ID is 38291768 and title is Private Penthouse in Midtown East\n",
      "The ID is 27903031 and title is Lovely Room/ private Bath in Prewar Midtown Gem\n",
      "The ID is 8186181 and title is AMAZING LOCATION Large Studio Centrally Located\n",
      "The ID is 16339429 and title is Quiet Room in Unique Carroll Gardens\n",
      "The ID is 48851559 and title is Entire 1bd Apt 5 minutes to Manhattan by subway\n",
      "The ID is 34093881 and title is A Cute and cozy two bedrooms apartment.\n",
      "The ID is 18635370 and title is Fantastic Sunny peaceful room in Riverdale\n",
      "The ID is 39331950 and title is Sunny bedroom in beautiful Park Slope!\n",
      "The ID is 1155885 and title is Fresh and modern 1BR in Bed-Stuy\n",
      "The ID is 13912725 and title is Master bedroom with a California king size bed\n",
      "The ID is 22862793 and title is A Zen Oasis in the East Village\n",
      "The ID is 7048518 and title is Spare room in Williamsburg\n",
      "The ID is 27608063 and title is Best of Both Worlds! Sunny Bedroom 15 Min to NYC\n",
      "The ID is 39331263 and title is Sunny 2 bedroom apartment in beautiful Park Slope!\n",
      "The ID is 829935 and title is Charming Backyard Apt in Townhouse\n",
      "The ID is 4221999 and title is Spacious & Bright: 1 BR Midtown!\n",
      "The ID is 9242243 and title is Cozy 1bdrm apt in Midtown Manhattan\n",
      "The ID is 982276 and title is *Perfect Bedroom! Large Sunny Apt*Manhattan*NYC\n",
      "The ID is 1403635 and title is Sunny & large W. Harlem private 1 bedroom.\n",
      "The ID is 9319688 and title is Excellent  location near Manhattan!\n",
      "The ID is 30938001 and title is Huge 400 sf BR, amazing location\n",
      "The ID is 21422090 and title is Bedroom 5 min away from E, 7, F, M, R trains!\n",
      "The ID is 26291721 and title is Gem in NoMad - entire apartment\n",
      "The ID is 29825681 and title is Airy, Clean, Elegant, Sunny Studio in Midtown East\n",
      "The ID is 455734 and title is Sunny, spacious 1-bedroom in Upper Manhattan\n",
      "The ID is 1051575 and title is Quiet, Comfort, and the Cutest Cats on the Planet\n",
      "The ID is 30244166 and title is Gorgeous Midtown East Apt. Open Concept 1 Bedroom\n",
      "The ID is 2289612 and title is Private Room in Best Location!!\n",
      "The ID is 18108648 and title is Large 2bd 15 min to Midtown Manhattan\n",
      "The ID is 25635162 and title is LARGE SUNNY 1BD 10 MIN TO MANHATTAN\n",
      "The ID is 20413811 and title is Women only - Bright & tranquil room 37th street!\n",
      "The ID is 20459277 and title is Women only -Peaceful & cozy room - 37th street!\n",
      "The ID is 23749862 and title is Midtown. Walk everywhere.  Work  w/high speed WIFI\n",
      "The ID is 29680716 and title is Best location midtown ,walk to all minute to train\n",
      "The ID is 45921174 and title is Sunny, Spacious Bedroom in Hamilton Heights\n",
      "The ID is 12495831 and title is Sunny Loft Elevator & Park views\n",
      "The ID is 36104174 and title is Stunning ! All new near U.N. & Central Park\n",
      "The ID is 39588134 and title is Bright & Elegant, Convenient to Manhattan and JFK.\n",
      "The ID is 47423109 and title is Bohemian style, New Unit in Prime location\n",
      "The ID is 387666 and title is Historic townhouse in convenient location\n",
      "The ID is 24287062 and title is Sally's hideaway - Entire Apartment - 2BR+Balcony\n",
      "The ID is 2142092 and title is Furnished room - W. 181 St. by A, 1\n",
      "The ID is 8680417 and title is Sunny beautiful home Audubon Distr\n",
      "The ID is 13083030 and title is Your own 2 Bedroom apartment available for 3 weeks\n",
      "The ID is 18207319 and title is Brownstone w/ Luxurious private room & bay windows\n",
      "The ID is 29923654 and title is Deluxe Suite ~ Near Central Park\n",
      "The ID is 36338659 and title is Modern Clean Single Room in Bushwick\n",
      "The ID is 43404491 and title is Spacious & Sunny Luxury Apartment in Midtown\n",
      "The ID is 47729497 and title is Gorgeous furnished studio in Midtown Manhattan.\n",
      "The ID is 13203601 and title is Sunny, cosmopolitan and modern apartment.\n",
      "The ID is 265506 and title is Luxury NYC 2 Bedroom with Terrace\n",
      "The ID is 1171581 and title is Spacious 2 bedroom near Times Sq\n",
      "The ID is 1623431 and title is Enormous Chrysler-View Bedroom/Bath\n",
      "The ID is 3605524 and title is Midtown Apt, Quiet, Walk to Subway\n",
      "The ID is 5040919 and title is Furnished room in DUMBO/Fort Greene\n",
      "The ID is 19206550 and title is Huge sunny room PRIVATE BATHROOM 15 min 2 Times Sq\n",
      "The ID is 37598495 and title is 1BR steps from Bell Blvd and Bayside Train Station\n",
      "The ID is 41592197 and title is AMAZING TWO BEDS IN MEATPACKING/CHELSEA MARKET!!\n",
      "The ID is 46775906 and title is 5 BEDS IN DOWNTOWN MEATPACKING/CHELSEA!!\n",
      "The ID is 46986418 and title is THREE REAL BEDROOMS IN BEST PART OF CHELSEA!!\n",
      "The ID is 48297304 and title is 5 BEDS IN MEATPACKING. BEST LOCATION NYC\n",
      "The ID is 49016369 and title is CHELSEA/MEATPACKING 5 BEDS. BEST LOCATION NYC\n",
      "The ID is 4707057 and title is Private, sunny room!\n",
      "The ID is 60673 and title is Private Room/bath Luxurious Harlem\n",
      "The ID is 246916 and title is Quality Cozy Studio Next to Subway\n"
     ]
    }
   ],
   "source": [
    "for result in non_expanded_results:\n",
    "    print(f'The ID is {result[\"id\"]} and title is {result[\"name\"]}')\n"
   ]
  },
  {
   "cell_type": "code",
   "execution_count": 29,
   "metadata": {},
   "outputs": [
    {
     "name": "stdout",
     "output_type": "stream",
     "text": [
      "l and coming space is lighting..There is a hostis of the dire for building \n"
     ]
    }
   ],
   "source": [
    "states = None\n",
    "next_char = tf.constant([query])\n",
    "alternative_query = []\n",
    "\n",
    "for n in range(75):\n",
    "  next_char, states = alternative_queries_model.generate_one_step(next_char, states=states)\n",
    "  alternative_query.append(next_char)\n",
    "\n",
    "print(tf.strings.join(alternative_query)[0].numpy().decode(\"utf-8\"))\n"
   ]
  },
  {
   "cell_type": "code",
   "execution_count": 30,
   "metadata": {
    "pycharm": {
     "name": "#%%\n"
    }
   },
   "outputs": [],
   "source": [
    "new_query = ' '.join([query, ' ', tf.strings.join(alternative_query)[0].numpy().decode(\"utf-8\")])"
   ]
  },
  {
   "cell_type": "code",
   "execution_count": 31,
   "metadata": {
    "pycharm": {
     "name": "#%%\n"
    }
   },
   "outputs": [
    {
     "data": {
      "text/plain": [
       "'Midtown sunny chateau l and coming space is lighting..There is a hostis of the dire for building '"
      ]
     },
     "execution_count": 31,
     "metadata": {},
     "output_type": "execute_result"
    }
   ],
   "source": [
    "new_query"
   ]
  },
  {
   "cell_type": "code",
   "execution_count": 32,
   "metadata": {
    "pycharm": {
     "name": "#%%\n"
    }
   },
   "outputs": [],
   "source": [
    "expanded_results = solr.search(new_query, **{\n",
    "                'rows': 100,\n",
    "            })"
   ]
  },
  {
   "cell_type": "code",
   "execution_count": 33,
   "metadata": {},
   "outputs": [
    {
     "name": "stdout",
     "output_type": "stream",
     "text": [
      "The ID is 9474607 and title is Brand new apt in heart of Midtown!\n",
      "The ID is 592853 and title is A GEM IN THE CITY\n",
      "The ID is 13445027 and title is Large sunny Bedroom in Brooklyn Loft\n",
      "The ID is 10684164 and title is Private 1 Bdrm Apt - Prospect Park\n",
      "The ID is 22792711 and title is Bright and Beautiful Artists’ Haven\n",
      "The ID is 40912943 and title is Fun Comfy & Cozy Railroad Apt near L train\n",
      "The ID is 31556929 and title is Sunny Central Corner Room in Bushwick\n",
      "The ID is 13424027 and title is LOFT-LIKE FLOOR THRU BROWNSTONE LIGHT SPACIOUS\n",
      "The ID is 698094 and title is 5th Ave Apartment in Midtown!\n",
      "The ID is 400039 and title is Big Beautiful Railroad in Brooklyn\n",
      "The ID is 14406256 and title is Sunny bedroom, private backyard\n",
      "The ID is 1404828 and title is Bohemian Paradise in Industrial BK\n",
      "The ID is 28313785 and title is Luxury 2BR apartment in Midtown\n",
      "The ID is 4248788 and title is W70s Lg. Studio with outdoor space\n",
      "The ID is 14668738 and title is Sunny Room near Grand Central, Central Park\n",
      "The ID is 43060572 and title is Bright and airy 1 BR in heart of East Village!\n",
      "The ID is 1806651 and title is Bright and Airy Brooklyn Loft\n",
      "The ID is 8234295 and title is Sunny, spacious, bedroom for rent\n",
      "The ID is 30811958 and title is Sunny 2 Bedroom Penthouse with Good Vibes\n",
      "The ID is 30958980 and title is Comfy & Convenient Private Bedroom for Stay\n",
      "The ID is 17008022 and title is 1 Bedroom near Columbia University\n",
      "The ID is 24627684 and title is Quaint NYC studio- tree lined St.- great location!\n",
      "The ID is 17446640 and title is Clean and Comfortable\n",
      "The ID is 21814906 and title is Live/Work East Williamsburg Loft\n",
      "The ID is 29506320 and title is Scandinavian Style 1BR in the Upper East Side\n",
      "The ID is 12567993 and title is Private bedroom near L & M trains\n",
      "The ID is 5792453 and title is Renovated 1 BDRMUnion Sq/E.Village\n",
      "The ID is 7581611 and title is Room in Spacious Williamsburg Loft\n",
      "The ID is 4748873 and title is Capturing Meditation Style Room\n",
      "The ID is 7176975 and title is New/spacious 2 bedrooom 1.5 bath!\n",
      "The ID is 12966771 and title is Spacious Midtown Studio\n",
      "The ID is 22184960 and title is Experience Zen Williamsburg Life\n",
      "The ID is 15721847 and title is Colorful Artist Loft w. your own Ocean Oasis\n",
      "The ID is 46375709 and title is Clean, Cozy, Room overlooking Yankee Stadium Park\n",
      "The ID is 24454304 and title is Cozy apartment close to Midtown!\n",
      "The ID is 1887600 and title is Tri level loft in the heart of NYC!\n",
      "The ID is 13361785 and title is Bridge View, Designer Brick & Timber Loft\n",
      "The ID is 4173751 and title is Lovely Apartment in Harlem West\n",
      "The ID is 18971993 and title is Sunny Bedroom Steps to Subway & Central Park\n",
      "The ID is 2977232 and title is Priv Room in Artists UES Apt, Central Park & Train\n",
      "The ID is 40710124 and title is 1 Bedroom, quiet and perfect for visiting NYC.\n",
      "The ID is 22534758 and title is Beautiful Williamsburg Condo with Private Roof\n",
      "The ID is 38449283 and title is Safe/quiet/Great located 501 Manhattan Studio\n",
      "The ID is 938022 and title is Private Bedroom in Williamsburg\n",
      "The ID is 47006783 and title is The Place to be📍Beautiful Studio in heart of NYC!\n",
      "The ID is 48270841 and title is Romantic East Village Getaway\n",
      "The ID is 48489781 and title is Newly Renovated King Bed Suite\n",
      "The ID is 30244166 and title is Gorgeous Midtown East Apt. Open Concept 1 Bedroom\n",
      "The ID is 42388432 and title is Brand new 2BR~Prime midtown~Newly furnished!\n",
      "The ID is 11391811 and title is Convenient Harlem Hideout\n",
      "The ID is 5358354 and title is New BLDG~Balcony~W/D~Prime location\n",
      "The ID is 42565700 and title is newly furnished JR1BR~W/D~Private terrace!Elev bld\n",
      "The ID is 9786543 and title is Private bdrm in bedstuy brownstone\n",
      "The ID is 45493468 and title is East Village Apartment\n",
      "The ID is 18866187 and title is Carroll Gardens Modern Sunny Loft\n",
      "The ID is 13912725 and title is Master bedroom with a California king size bed\n",
      "The ID is 3241287 and title is Small Cozy Private Room in NYC\n",
      "The ID is 16182780 and title is Cool/Cozy bedroom up for grabs!\n",
      "The ID is 22188050 and title is Beautiful Cosy Luxurious Apartment - Full Doorman\n",
      "The ID is 11850380 and title is Sunny Spacious Sublet near Prospect Park\n",
      "The ID is 28604793 and title is 6MinTrainMasterRm#1/MaimonidesLutheranIndustryCity\n",
      "The ID is 7048518 and title is Spare room in Williamsburg\n",
      "The ID is 3880588 and title is Penthouse Apt with Roofdeck\n",
      "The ID is 1672977 and title is NEW_2BR_PrivateRoof&CityView_Beauty\n",
      "The ID is 33930528 and title is ☀️Sunny 1 BR Garden-Level in the ❤️of Williamsburg\n",
      "The ID is 1928570 and title is Studio Apt. in Williamsburg, Brooklyn, NY\n",
      "The ID is 5697237 and title is New bldg~Junior 1~colombus circle~Terrace~WD\n",
      "The ID is 44630189 and title is WILLIAMSBURG - Furnished Bedroom - Long Term Share\n",
      "The ID is 13164770 and title is Sunny Bedroom in Beautiful Apartment in Bushwick\n",
      "The ID is 318187 and title is Huge, Sunny, Open Loft in Brooklyn\n",
      "The ID is 21891406 and title is Bright studio size room in the East Village\n",
      "The ID is 45632196 and title is Exterior Studio beside Empire State #29\n",
      "The ID is 48089000 and title is Studio Exterior #5\n",
      "The ID is 820218 and title is Lovely East Village Apartment, Sept. 2 to 5 Only\n",
      "The ID is 439750 and title is Perfect apt. above L train Graham stop\n",
      "The ID is 1331960 and title is COZY & CONVENIENT in Williamsburg.\n",
      "The ID is 9662070 and title is Large private bedroom in bushwick\n",
      "The ID is 31823779 and title is Sunny bedroom in Greenpoint/Williamsburg Brooklyn.\n",
      "The ID is 10567332 and title is Private room 1 block from Bedford L\n",
      "The ID is 48230852 and title is Beautiful studio in midtown east/UES\n",
      "The ID is 48720514 and title is Prime location studio in midtown east/UES\n",
      "The ID is 6528046 and title is Immaculate Gramercy One-Bedroom\n",
      "The ID is 4169094 and title is Room in 2br apt Location by N,W,M60bus,Beer Garden\n",
      "The ID is 18893778 and title is Plush Top Floor Apartment\n",
      "The ID is 5183502 and title is Airy, Modern, Large Room W'burg two blocks subway\n",
      "The ID is 34511326 and title is Luxury Two Bedroom - Rooftop/Deck - Gaming , Drman\n",
      "The ID is 34511422 and title is Modern & Exquisite Apt - Doorman, Roofdeck, Gym\n",
      "The ID is 16136213 and title is Sunlit Brooklyn Bedroom w/ Private Entrance\n",
      "The ID is 112304 and title is Cozy Private Room in West Harlem!\n",
      "The ID is 2243769 and title is Super Bowl New York City Apartment\n",
      "The ID is 21618858 and title is City Skyline View Private Entrance &Roof loft room\n",
      "The ID is 21394596 and title is Room avail: Newly-renovated Washington Heights APT\n",
      "The ID is 13668573 and title is Private Modern Room in Williamsburg\n",
      "The ID is 31641843 and title is Sunny Bedroom in Williamsburg / Chambre privée\n",
      "The ID is 41902902 and title is Art Henna House BK\n",
      "The ID is 41431376 and title is The Hawthorne - Spacious 3-Bedroom Apartment\n",
      "The ID is 34473821 and title is Whole-floor 2Bdrm Apt in NYC’s Theater District\n",
      "The ID is 14463527 and title is Sunny Room in Greenpoint.\n",
      "The ID is 23852303 and title is A house in Flatbush.\n",
      "The ID is 16350431 and title is Cozy room Williamsburg\n"
     ]
    }
   ],
   "source": [
    "for result in expanded_results:\n",
    "    print(f'The ID is {result[\"id\"]} and title is {result[\"name\"]}')\n"
   ]
  },
  {
   "cell_type": "code",
   "execution_count": 34,
   "metadata": {},
   "outputs": [
    {
     "name": "stdout",
     "output_type": "stream",
     "text": [
      "Doc2Vec Model loaded\n"
     ]
    }
   ],
   "source": [
    "model_path = '2-ranking/lab4/airbnb_model'\n",
    "doc2vec_model = Doc2Vec.load(model_path)\n",
    "print(f'Doc2Vec Model loaded')"
   ]
  },
  {
   "cell_type": "code",
   "execution_count": 35,
   "metadata": {
    "pycharm": {
     "name": "#%%\n"
    }
   },
   "outputs": [],
   "source": [
    "tokenized_query = list(gensim.utils.simple_preprocess(query))\n",
    "tokenized_new_query = list(gensim.utils.simple_preprocess(new_query))"
   ]
  },
  {
   "cell_type": "code",
   "execution_count": 36,
   "metadata": {},
   "outputs": [
    {
     "data": {
      "text/plain": [
       "['midtown',\n",
       " 'sunny',\n",
       " 'chateau',\n",
       " 'and',\n",
       " 'coming',\n",
       " 'space',\n",
       " 'is',\n",
       " 'lighting',\n",
       " 'there',\n",
       " 'is',\n",
       " 'hostis',\n",
       " 'of',\n",
       " 'the',\n",
       " 'dire',\n",
       " 'for',\n",
       " 'building']"
      ]
     },
     "execution_count": 36,
     "metadata": {},
     "output_type": "execute_result"
    }
   ],
   "source": [
    "tokenized_new_query"
   ]
  },
  {
   "cell_type": "code",
   "execution_count": 37,
   "metadata": {
    "pycharm": {
     "name": "#%%\n"
    }
   },
   "outputs": [],
   "source": [
    "df_non_expanded_results = pd.DataFrame(non_expanded_results)\n",
    "similarities = []\n",
    "for result in non_expanded_results:\n",
    "    try:\n",
    "        similarity = doc2vec_model.similarity_unseen_docs(doc_words1=tokenized_query, doc_words2= list(gensim.utils.simple_preprocess(result[\"description\"])))\n",
    "    except KeyError:\n",
    "        similarity = 0\n",
    "    similarities.append(similarity)\n",
    "df_non_expanded_results[\"Similarity\"] = pd.Series(similarities)\n",
    "df_non_expanded_results.sort_values(by=\"Similarity\", ascending=False, inplace=True)\n"
   ]
  },
  {
   "cell_type": "code",
   "execution_count": 38,
   "metadata": {},
   "outputs": [
    {
     "data": {
      "text/html": [
       "<div>\n",
       "<style scoped>\n",
       "    .dataframe tbody tr th:only-of-type {\n",
       "        vertical-align: middle;\n",
       "    }\n",
       "\n",
       "    .dataframe tbody tr th {\n",
       "        vertical-align: top;\n",
       "    }\n",
       "\n",
       "    .dataframe thead th {\n",
       "        text-align: right;\n",
       "    }\n",
       "</style>\n",
       "<table border=\"1\" class=\"dataframe\">\n",
       "  <thead>\n",
       "    <tr style=\"text-align: right;\">\n",
       "      <th></th>\n",
       "      <th>id</th>\n",
       "      <th>listing_url</th>\n",
       "      <th>name</th>\n",
       "      <th>description</th>\n",
       "      <th>neighborhood_overview</th>\n",
       "      <th>host_id</th>\n",
       "      <th>host_url</th>\n",
       "      <th>host_name</th>\n",
       "      <th>neighbourhood</th>\n",
       "      <th>neighbourhood_cleansed</th>\n",
       "      <th>...</th>\n",
       "      <th>accommodates</th>\n",
       "      <th>bathrooms_text</th>\n",
       "      <th>bedrooms</th>\n",
       "      <th>beds</th>\n",
       "      <th>amenities</th>\n",
       "      <th>price</th>\n",
       "      <th>number_of_reviews</th>\n",
       "      <th>reviews_per_month</th>\n",
       "      <th>_version_</th>\n",
       "      <th>Similarity</th>\n",
       "    </tr>\n",
       "  </thead>\n",
       "  <tbody>\n",
       "    <tr>\n",
       "      <th>13</th>\n",
       "      <td>11584340</td>\n",
       "      <td>https://www.airbnb.com/rooms/11584340</td>\n",
       "      <td>Super Cute and Sunny Studio</td>\n",
       "      <td>This sunny studio is located in the heart of H...</td>\n",
       "      <td>NaN</td>\n",
       "      <td>10563705</td>\n",
       "      <td>https://www.airbnb.com/users/show/10563705</td>\n",
       "      <td>Hailey</td>\n",
       "      <td>NaN</td>\n",
       "      <td>Washington Heights</td>\n",
       "      <td>...</td>\n",
       "      <td>2</td>\n",
       "      <td>1 bath</td>\n",
       "      <td>NaN</td>\n",
       "      <td>1.0</td>\n",
       "      <td>[\"Kitchen\", \"TV\", \"Carbon monoxide alarm\", \"Es...</td>\n",
       "      <td>$110.00</td>\n",
       "      <td>0</td>\n",
       "      <td>NaN</td>\n",
       "      <td>1705862867488604161</td>\n",
       "      <td>0.432699</td>\n",
       "    </tr>\n",
       "    <tr>\n",
       "      <th>52</th>\n",
       "      <td>982276</td>\n",
       "      <td>https://www.airbnb.com/rooms/982276</td>\n",
       "      <td>*Perfect Bedroom! Large Sunny Apt*Manhattan*NYC</td>\n",
       "      <td>Large sunny apt in historic Chinatown, Lower M...</td>\n",
       "      <td>I live in Chinatown, Lower East Side. I love t...</td>\n",
       "      <td>1449904</td>\n",
       "      <td>https://www.airbnb.com/users/show/1449904</td>\n",
       "      <td>Edel</td>\n",
       "      <td>New York, United States</td>\n",
       "      <td>Two Bridges</td>\n",
       "      <td>...</td>\n",
       "      <td>1</td>\n",
       "      <td>1.5 baths</td>\n",
       "      <td>1.0</td>\n",
       "      <td>1.0</td>\n",
       "      <td>[\"Refrigerator\", \"Essentials\", \"Long term stay...</td>\n",
       "      <td>$98.00</td>\n",
       "      <td>49</td>\n",
       "      <td>[0.51]</td>\n",
       "      <td>1705862865376772098</td>\n",
       "      <td>0.403186</td>\n",
       "    </tr>\n",
       "    <tr>\n",
       "      <th>7</th>\n",
       "      <td>24894476</td>\n",
       "      <td>https://www.airbnb.com/rooms/24894476</td>\n",
       "      <td>Super Large Bedroom in Harlem</td>\n",
       "      <td>Large and sunny bedroom in Harlem. Two blocks ...</td>\n",
       "      <td>Sugar Hill is a landmark residential area in N...</td>\n",
       "      <td>15940253</td>\n",
       "      <td>https://www.airbnb.com/users/show/15940253</td>\n",
       "      <td>Raimundo</td>\n",
       "      <td>New York, United States</td>\n",
       "      <td>Harlem</td>\n",
       "      <td>...</td>\n",
       "      <td>2</td>\n",
       "      <td>1 shared bath</td>\n",
       "      <td>1.0</td>\n",
       "      <td>1.0</td>\n",
       "      <td>[\"Shampoo\", \"Wifi\", \"Long term stays allowed\",...</td>\n",
       "      <td>$72.00</td>\n",
       "      <td>4</td>\n",
       "      <td>[0.14]</td>\n",
       "      <td>1705862869734653954</td>\n",
       "      <td>0.402635</td>\n",
       "    </tr>\n",
       "    <tr>\n",
       "      <th>90</th>\n",
       "      <td>19206550</td>\n",
       "      <td>https://www.airbnb.com/rooms/19206550</td>\n",
       "      <td>Huge sunny room PRIVATE BATHROOM 15 min 2 Time...</td>\n",
       "      <td>Beautiful private guest room with full private...</td>\n",
       "      <td>Safe and quiet location. One block away from 7...</td>\n",
       "      <td>128156060</td>\n",
       "      <td>https://www.airbnb.com/users/show/128156060</td>\n",
       "      <td>Doa</td>\n",
       "      <td>Woodside, New York, United States</td>\n",
       "      <td>Woodside</td>\n",
       "      <td>...</td>\n",
       "      <td>3</td>\n",
       "      <td>1 private bath</td>\n",
       "      <td>1.0</td>\n",
       "      <td>2.0</td>\n",
       "      <td>[\"Dishes and silverware\", \"Air conditioning\", ...</td>\n",
       "      <td>$65.00</td>\n",
       "      <td>22</td>\n",
       "      <td>[0.51]</td>\n",
       "      <td>1705862868722778115</td>\n",
       "      <td>0.394241</td>\n",
       "    </tr>\n",
       "    <tr>\n",
       "      <th>16</th>\n",
       "      <td>16427245</td>\n",
       "      <td>https://www.airbnb.com/rooms/16427245</td>\n",
       "      <td>Beautiful private room by N/W subway in Astoria</td>\n",
       "      <td>Sunny, contemporary, spacious and newly renova...</td>\n",
       "      <td>NaN</td>\n",
       "      <td>18978686</td>\n",
       "      <td>https://www.airbnb.com/users/show/18978686</td>\n",
       "      <td>Kristin</td>\n",
       "      <td>NaN</td>\n",
       "      <td>Ditmars Steinway</td>\n",
       "      <td>...</td>\n",
       "      <td>1</td>\n",
       "      <td>1 shared bath</td>\n",
       "      <td>1.0</td>\n",
       "      <td>1.0</td>\n",
       "      <td>[\"Hair dryer\", \"Shampoo\", \"Kitchen\", \"Breakfas...</td>\n",
       "      <td>$60.00</td>\n",
       "      <td>0</td>\n",
       "      <td>NaN</td>\n",
       "      <td>1705862868331659265</td>\n",
       "      <td>0.385350</td>\n",
       "    </tr>\n",
       "    <tr>\n",
       "      <th>...</th>\n",
       "      <td>...</td>\n",
       "      <td>...</td>\n",
       "      <td>...</td>\n",
       "      <td>...</td>\n",
       "      <td>...</td>\n",
       "      <td>...</td>\n",
       "      <td>...</td>\n",
       "      <td>...</td>\n",
       "      <td>...</td>\n",
       "      <td>...</td>\n",
       "      <td>...</td>\n",
       "      <td>...</td>\n",
       "      <td>...</td>\n",
       "      <td>...</td>\n",
       "      <td>...</td>\n",
       "      <td>...</td>\n",
       "      <td>...</td>\n",
       "      <td>...</td>\n",
       "      <td>...</td>\n",
       "      <td>...</td>\n",
       "      <td>...</td>\n",
       "    </tr>\n",
       "    <tr>\n",
       "      <th>97</th>\n",
       "      <td>4707057</td>\n",
       "      <td>https://www.airbnb.com/rooms/4707057</td>\n",
       "      <td>Private, sunny room!</td>\n",
       "      <td>Located in northern Harlem and close to the tr...</td>\n",
       "      <td>Great neighborhood, quiet and friendly people....</td>\n",
       "      <td>6327629</td>\n",
       "      <td>https://www.airbnb.com/users/show/6327629</td>\n",
       "      <td>Bb</td>\n",
       "      <td>New York, United States</td>\n",
       "      <td>Harlem</td>\n",
       "      <td>...</td>\n",
       "      <td>1</td>\n",
       "      <td>1.5 baths</td>\n",
       "      <td>1.0</td>\n",
       "      <td>1.0</td>\n",
       "      <td>[\"Kitchen\", \"Washer\", \"Dryer\", \"Wifi\", \"Long t...</td>\n",
       "      <td>$90.00</td>\n",
       "      <td>1</td>\n",
       "      <td>[0.01]</td>\n",
       "      <td>1705862866169495552</td>\n",
       "      <td>0.071910</td>\n",
       "    </tr>\n",
       "    <tr>\n",
       "      <th>76</th>\n",
       "      <td>2142092</td>\n",
       "      <td>https://www.airbnb.com/rooms/2142092</td>\n",
       "      <td>Furnished room - W. 181 St. by A, 1</td>\n",
       "      <td>Furnished room in renovated railroad apartment...</td>\n",
       "      <td>You can't beat Washington Heights - a neighbor...</td>\n",
       "      <td>8280182</td>\n",
       "      <td>https://www.airbnb.com/users/show/8280182</td>\n",
       "      <td>Alejandro</td>\n",
       "      <td>New York, United States</td>\n",
       "      <td>Washington Heights</td>\n",
       "      <td>...</td>\n",
       "      <td>1</td>\n",
       "      <td>1 bath</td>\n",
       "      <td>1.0</td>\n",
       "      <td>1.0</td>\n",
       "      <td>[\"Kitchen\", \"Heating\", \"Wifi\", \"Long term stay...</td>\n",
       "      <td>$300.00</td>\n",
       "      <td>0</td>\n",
       "      <td>NaN</td>\n",
       "      <td>1705862865645207555</td>\n",
       "      <td>0.059720</td>\n",
       "    </tr>\n",
       "    <tr>\n",
       "      <th>87</th>\n",
       "      <td>1623431</td>\n",
       "      <td>https://www.airbnb.com/rooms/1623431</td>\n",
       "      <td>Enormous Chrysler-View Bedroom/Bath</td>\n",
       "      <td>This west-facing Chrysler-view bedroom has hig...</td>\n",
       "      <td>Food selection, access to transportation, cent...</td>\n",
       "      <td>5440087</td>\n",
       "      <td>https://www.airbnb.com/users/show/5440087</td>\n",
       "      <td>Dn</td>\n",
       "      <td>New York, United States</td>\n",
       "      <td>Midtown</td>\n",
       "      <td>...</td>\n",
       "      <td>2</td>\n",
       "      <td>1 bath</td>\n",
       "      <td>1.0</td>\n",
       "      <td>1.0</td>\n",
       "      <td>[\"Kitchen\", \"TV\", \"Essentials\", \"Washer\", \"Dry...</td>\n",
       "      <td>$292.00</td>\n",
       "      <td>1</td>\n",
       "      <td>[0.01]</td>\n",
       "      <td>1705862865522524160</td>\n",
       "      <td>0.050045</td>\n",
       "    </tr>\n",
       "    <tr>\n",
       "      <th>58</th>\n",
       "      <td>29825681</td>\n",
       "      <td>https://www.airbnb.com/rooms/29825681</td>\n",
       "      <td>Airy, Clean, Elegant, Sunny Studio in Midtown ...</td>\n",
       "      <td>Beautiful Art-Deco 24 hour doorman, elevator p...</td>\n",
       "      <td>The neighborhood of Sutton Place in Midtown Ea...</td>\n",
       "      <td>1995636</td>\n",
       "      <td>https://www.airbnb.com/users/show/1995636</td>\n",
       "      <td>Oleg</td>\n",
       "      <td>New York, United States</td>\n",
       "      <td>Midtown</td>\n",
       "      <td>...</td>\n",
       "      <td>2</td>\n",
       "      <td>1 bath</td>\n",
       "      <td>NaN</td>\n",
       "      <td>1.0</td>\n",
       "      <td>[\"Hair dryer\", \"Kitchen\", \"Waterfront\", \"Eleva...</td>\n",
       "      <td>$225.00</td>\n",
       "      <td>0</td>\n",
       "      <td>NaN</td>\n",
       "      <td>1705862870418325504</td>\n",
       "      <td>0.049020</td>\n",
       "    </tr>\n",
       "    <tr>\n",
       "      <th>64</th>\n",
       "      <td>25635162</td>\n",
       "      <td>https://www.airbnb.com/rooms/25635162</td>\n",
       "      <td>LARGE SUNNY 1BD 10 MIN TO MANHATTAN</td>\n",
       "      <td>Steps to the Subway Stop, 15 min to Midtown Ma...</td>\n",
       "      <td>NaN</td>\n",
       "      <td>193126561</td>\n",
       "      <td>https://www.airbnb.com/users/show/193126561</td>\n",
       "      <td>NaN</td>\n",
       "      <td>NaN</td>\n",
       "      <td>Astoria</td>\n",
       "      <td>...</td>\n",
       "      <td>4</td>\n",
       "      <td>1 bath</td>\n",
       "      <td>1.0</td>\n",
       "      <td>2.0</td>\n",
       "      <td>[\"Kitchen\", \"TV\", \"Hot water\", \"Hangers\", \"Ess...</td>\n",
       "      <td>$109.00</td>\n",
       "      <td>70</td>\n",
       "      <td>[2.13]</td>\n",
       "      <td>1705862869819588610</td>\n",
       "      <td>0.044560</td>\n",
       "    </tr>\n",
       "  </tbody>\n",
       "</table>\n",
       "<p>100 rows × 22 columns</p>\n",
       "</div>"
      ],
      "text/plain": [
       "          id                            listing_url  \\\n",
       "13  11584340  https://www.airbnb.com/rooms/11584340   \n",
       "52    982276    https://www.airbnb.com/rooms/982276   \n",
       "7   24894476  https://www.airbnb.com/rooms/24894476   \n",
       "90  19206550  https://www.airbnb.com/rooms/19206550   \n",
       "16  16427245  https://www.airbnb.com/rooms/16427245   \n",
       "..       ...                                    ...   \n",
       "97   4707057   https://www.airbnb.com/rooms/4707057   \n",
       "76   2142092   https://www.airbnb.com/rooms/2142092   \n",
       "87   1623431   https://www.airbnb.com/rooms/1623431   \n",
       "58  29825681  https://www.airbnb.com/rooms/29825681   \n",
       "64  25635162  https://www.airbnb.com/rooms/25635162   \n",
       "\n",
       "                                                 name  \\\n",
       "13                        Super Cute and Sunny Studio   \n",
       "52    *Perfect Bedroom! Large Sunny Apt*Manhattan*NYC   \n",
       "7                       Super Large Bedroom in Harlem   \n",
       "90  Huge sunny room PRIVATE BATHROOM 15 min 2 Time...   \n",
       "16    Beautiful private room by N/W subway in Astoria   \n",
       "..                                                ...   \n",
       "97                               Private, sunny room!   \n",
       "76                Furnished room - W. 181 St. by A, 1   \n",
       "87                Enormous Chrysler-View Bedroom/Bath   \n",
       "58  Airy, Clean, Elegant, Sunny Studio in Midtown ...   \n",
       "64                LARGE SUNNY 1BD 10 MIN TO MANHATTAN   \n",
       "\n",
       "                                          description  \\\n",
       "13  This sunny studio is located in the heart of H...   \n",
       "52  Large sunny apt in historic Chinatown, Lower M...   \n",
       "7   Large and sunny bedroom in Harlem. Two blocks ...   \n",
       "90  Beautiful private guest room with full private...   \n",
       "16  Sunny, contemporary, spacious and newly renova...   \n",
       "..                                                ...   \n",
       "97  Located in northern Harlem and close to the tr...   \n",
       "76  Furnished room in renovated railroad apartment...   \n",
       "87  This west-facing Chrysler-view bedroom has hig...   \n",
       "58  Beautiful Art-Deco 24 hour doorman, elevator p...   \n",
       "64  Steps to the Subway Stop, 15 min to Midtown Ma...   \n",
       "\n",
       "                                neighborhood_overview    host_id  \\\n",
       "13                                                NaN   10563705   \n",
       "52  I live in Chinatown, Lower East Side. I love t...    1449904   \n",
       "7   Sugar Hill is a landmark residential area in N...   15940253   \n",
       "90  Safe and quiet location. One block away from 7...  128156060   \n",
       "16                                                NaN   18978686   \n",
       "..                                                ...        ...   \n",
       "97  Great neighborhood, quiet and friendly people....    6327629   \n",
       "76  You can't beat Washington Heights - a neighbor...    8280182   \n",
       "87  Food selection, access to transportation, cent...    5440087   \n",
       "58  The neighborhood of Sutton Place in Midtown Ea...    1995636   \n",
       "64                                                NaN  193126561   \n",
       "\n",
       "                                       host_url  host_name  \\\n",
       "13   https://www.airbnb.com/users/show/10563705     Hailey   \n",
       "52    https://www.airbnb.com/users/show/1449904       Edel   \n",
       "7    https://www.airbnb.com/users/show/15940253   Raimundo   \n",
       "90  https://www.airbnb.com/users/show/128156060        Doa   \n",
       "16   https://www.airbnb.com/users/show/18978686    Kristin   \n",
       "..                                          ...        ...   \n",
       "97    https://www.airbnb.com/users/show/6327629         Bb   \n",
       "76    https://www.airbnb.com/users/show/8280182  Alejandro   \n",
       "87    https://www.airbnb.com/users/show/5440087         Dn   \n",
       "58    https://www.airbnb.com/users/show/1995636       Oleg   \n",
       "64  https://www.airbnb.com/users/show/193126561        NaN   \n",
       "\n",
       "                        neighbourhood neighbourhood_cleansed  ...  \\\n",
       "13                                NaN     Washington Heights  ...   \n",
       "52            New York, United States            Two Bridges  ...   \n",
       "7             New York, United States                 Harlem  ...   \n",
       "90  Woodside, New York, United States               Woodside  ...   \n",
       "16                                NaN       Ditmars Steinway  ...   \n",
       "..                                ...                    ...  ...   \n",
       "97            New York, United States                 Harlem  ...   \n",
       "76            New York, United States     Washington Heights  ...   \n",
       "87            New York, United States                Midtown  ...   \n",
       "58            New York, United States                Midtown  ...   \n",
       "64                                NaN                Astoria  ...   \n",
       "\n",
       "   accommodates  bathrooms_text  bedrooms beds  \\\n",
       "13            2          1 bath       NaN  1.0   \n",
       "52            1       1.5 baths       1.0  1.0   \n",
       "7             2   1 shared bath       1.0  1.0   \n",
       "90            3  1 private bath       1.0  2.0   \n",
       "16            1   1 shared bath       1.0  1.0   \n",
       "..          ...             ...       ...  ...   \n",
       "97            1       1.5 baths       1.0  1.0   \n",
       "76            1          1 bath       1.0  1.0   \n",
       "87            2          1 bath       1.0  1.0   \n",
       "58            2          1 bath       NaN  1.0   \n",
       "64            4          1 bath       1.0  2.0   \n",
       "\n",
       "                                            amenities    price  \\\n",
       "13  [\"Kitchen\", \"TV\", \"Carbon monoxide alarm\", \"Es...  $110.00   \n",
       "52  [\"Refrigerator\", \"Essentials\", \"Long term stay...   $98.00   \n",
       "7   [\"Shampoo\", \"Wifi\", \"Long term stays allowed\",...   $72.00   \n",
       "90  [\"Dishes and silverware\", \"Air conditioning\", ...   $65.00   \n",
       "16  [\"Hair dryer\", \"Shampoo\", \"Kitchen\", \"Breakfas...   $60.00   \n",
       "..                                                ...      ...   \n",
       "97  [\"Kitchen\", \"Washer\", \"Dryer\", \"Wifi\", \"Long t...   $90.00   \n",
       "76  [\"Kitchen\", \"Heating\", \"Wifi\", \"Long term stay...  $300.00   \n",
       "87  [\"Kitchen\", \"TV\", \"Essentials\", \"Washer\", \"Dry...  $292.00   \n",
       "58  [\"Hair dryer\", \"Kitchen\", \"Waterfront\", \"Eleva...  $225.00   \n",
       "64  [\"Kitchen\", \"TV\", \"Hot water\", \"Hangers\", \"Ess...  $109.00   \n",
       "\n",
       "   number_of_reviews reviews_per_month            _version_ Similarity  \n",
       "13                 0               NaN  1705862867488604161   0.432699  \n",
       "52                49            [0.51]  1705862865376772098   0.403186  \n",
       "7                  4            [0.14]  1705862869734653954   0.402635  \n",
       "90                22            [0.51]  1705862868722778115   0.394241  \n",
       "16                 0               NaN  1705862868331659265   0.385350  \n",
       "..               ...               ...                  ...        ...  \n",
       "97                 1            [0.01]  1705862866169495552   0.071910  \n",
       "76                 0               NaN  1705862865645207555   0.059720  \n",
       "87                 1            [0.01]  1705862865522524160   0.050045  \n",
       "58                 0               NaN  1705862870418325504   0.049020  \n",
       "64                70            [2.13]  1705862869819588610   0.044560  \n",
       "\n",
       "[100 rows x 22 columns]"
      ]
     },
     "execution_count": 38,
     "metadata": {},
     "output_type": "execute_result"
    }
   ],
   "source": [
    "df_non_expanded_results"
   ]
  },
  {
   "cell_type": "code",
   "execution_count": 39,
   "metadata": {
    "pycharm": {
     "name": "#%%\n"
    }
   },
   "outputs": [
    {
     "name": "stdout",
     "output_type": "stream",
     "text": [
      "Most similar document before expansion has description: \n",
      "\n",
      "This sunny studio is located in the heart of Hudson Heights. An amazing location in Manhattan. Very close to great restaurants, beautiful parks. Just ONE block away from the express A train you are in midtown in 20 minutes!\n",
      "With similarity: 0.4326986074447632\n"
     ]
    }
   ],
   "source": [
    "print(f'Most similar document before expansion has description: \\n\\n{df_non_expanded_results[\"description\"].iloc[0]}\\nWith similarity: {df_non_expanded_results[\"Similarity\"].iloc[0]}')"
   ]
  },
  {
   "cell_type": "code",
   "execution_count": 44,
   "metadata": {
    "pycharm": {
     "name": "#%%\n"
    }
   },
   "outputs": [],
   "source": [
    "df_expanded_results = pd.DataFrame(expanded_results)\n",
    "new_similarities = []\n",
    "for result in expanded_results:\n",
    "    try:\n",
    "        similarity = doc2vec_model.similarity_unseen_docs(doc_words1=tokenized_query, doc_words2= list(gensim.utils.simple_preprocess(result[\"description\"])))\n",
    "    except KeyError:\n",
    "        similarity = 0\n",
    "    new_similarities.append(similarity)\n",
    "df_expanded_results[\"Similarity\"] = pd.Series(new_similarities)\n",
    "df_expanded_results.sort_values(by=\"Similarity\", ascending=False, inplace=True)"
   ]
  },
  {
   "cell_type": "code",
   "execution_count": 45,
   "metadata": {
    "pycharm": {
     "name": "#%%\n"
    }
   },
   "outputs": [
    {
     "name": "stdout",
     "output_type": "stream",
     "text": [
      "Most similar document after expansion has description: \n",
      "\n",
      "THE APARTMENT<br />This is a sunny bedroom with a full size bed in a beautiful 6 bedroom apartment in Bushwick. The room is upstairs, so it has some privacy. The roommates are all friendly and accommodating! They all work full time, so the apartment is usually peaceful.<br /><br />THE NEIGHBORHOOD <br />The apartment is in an \"up and coming\" neighborhood in Bushwick, off the Halsey J.  It's a short subway ride from Williamsburg or Manhattan. There are several restaurants in the area. Feel free to ask!\n",
      "With similarity: 0.36164888739585876\n"
     ]
    }
   ],
   "source": [
    "print(f'Most similar document after expansion has description: \\n\\n{df_expanded_results[\"description\"].iloc[0]}\\nWith similarity: {df_expanded_results[\"Similarity\"].iloc[0]}')"
   ]
  },
  {
   "cell_type": "code",
   "execution_count": 46,
   "metadata": {
    "pycharm": {
     "name": "#%%\n"
    }
   },
   "outputs": [
    {
     "name": "stdout",
     "output_type": "stream",
     "text": [
      "Number of documents that surpass 0.5 similarity threshold: 0\n"
     ]
    }
   ],
   "source": [
    "print(f'Number of documents that surpass 0.5 similarity threshold: {len(df_expanded_results[df_expanded_results[\"Similarity\"] >= 0.5])}')\n"
   ]
  },
  {
   "cell_type": "code",
   "execution_count": null,
   "metadata": {},
   "outputs": [],
   "source": []
  }
 ],
 "metadata": {
  "kernelspec": {
   "display_name": "local-venv",
   "language": "python",
   "name": "local-venv"
  },
  "language_info": {
   "codemirror_mode": {
    "name": "ipython",
    "version": 3
   },
   "file_extension": ".py",
   "mimetype": "text/x-python",
   "name": "python",
   "nbconvert_exporter": "python",
   "pygments_lexer": "ipython3",
   "version": "3.7.3"
  }
 },
 "nbformat": 4,
 "nbformat_minor": 1
}