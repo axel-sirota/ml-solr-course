{
 "cells": [
  {
   "cell_type": "code",
   "execution_count": 6,
   "metadata": {},
   "outputs": [],
   "source": [
    "import gensim\n",
    "import numpy as np\n",
    "import pandas as pd\n",
    "import pysolr\n",
    "from gensim.models import Doc2Vec\n",
    "from transformers import pipeline, set_seed\n",
    "set_seed(42)\n",
    "np.random.seed(42)\n",
    "import sys"
   ]
  },
  {
   "cell_type": "code",
   "execution_count": 7,
   "metadata": {},
   "outputs": [
    {
     "name": "stdout",
     "output_type": "stream",
     "text": [
      "['/Users/axelsirota/repos/ml-solr-course/3-query-generation/lab8', '/Users/axelsirota/.pyenv/versions/3.7.3/lib/python37.zip', '/Users/axelsirota/.pyenv/versions/3.7.3/lib/python3.7', '/Users/axelsirota/.pyenv/versions/3.7.3/lib/python3.7/lib-dynload', '', '/Users/axelsirota/repos/ml-solr-course/.venv/lib/python3.7/site-packages', '/Users/axelsirota/repos/ml-solr-course/.venv/lib/python3.7/site-packages/IPython/extensions', '/Users/axelsirota/.ipython']\n",
      "/Users/axelsirota/repos/ml-solr-course\n"
     ]
    }
   ],
   "source": [
    "# In case your sys.path does not contain the base repo, go there.\n",
    "print(sys.path)\n",
    "%cd '/Users/axelsirota/repos/ml-solr-course'"
   ]
  },
  {
   "cell_type": "code",
   "execution_count": 10,
   "metadata": {
    "pycharm": {
     "name": "#%%\n"
    }
   },
   "outputs": [
    {
     "name": "stderr",
     "output_type": "stream",
     "text": [
      "All model checkpoint layers were used when initializing TFGPT2LMHeadModel.\n",
      "\n",
      "All the layers of TFGPT2LMHeadModel were initialized from the model checkpoint at gpt2.\n",
      "If your task is similar to the task the model of the checkpoint was trained on, you can already use TFGPT2LMHeadModel for predictions without further training.\n",
      "All model checkpoint layers were used when initializing TFGPT2Model.\n",
      "\n",
      "All the layers of TFGPT2Model were initialized from the model checkpoint at gpt2.\n",
      "If your task is similar to the task the model of the checkpoint was trained on, you can already use TFGPT2Model for predictions without further training.\n",
      "Setting `pad_token_id` to 50256 (first `eos_token_id`) to generate sequence\n"
     ]
    }
   ],
   "source": [
    "generator = pipeline('text-generation', model='gpt2')\n",
    "query = 'Midtown sunny two bedroom'\n",
    "expanded_query = generator(query, max_length=50, num_return_sequences=1)[0]['generated_text']"
   ]
  },
  {
   "cell_type": "code",
   "execution_count": 11,
   "metadata": {
    "pycharm": {
     "name": "#%%\n"
    }
   },
   "outputs": [],
   "source": [
    "# Create a client instance. The timeout and authentication options are not required.\n",
    "solr = pysolr.Solr('http://localhost:8983/solr/airbnb', always_commit=True, timeout=10)"
   ]
  },
  {
   "cell_type": "code",
   "execution_count": 15,
   "metadata": {
    "pycharm": {
     "name": "#%%\n"
    }
   },
   "outputs": [],
   "source": [
    "non_expanded_results = solr.search(query, **{\n",
    "                'rows': 10,\n",
    "            })"
   ]
  },
  {
   "cell_type": "code",
   "execution_count": 16,
   "metadata": {
    "pycharm": {
     "name": "#%%\n"
    }
   },
   "outputs": [
    {
     "name": "stdout",
     "output_type": "stream",
     "text": [
      "The ID is 24894476 and title is Super Large Bedroom in Harlem\n",
      "The ID is 30811958 and title is Sunny 2 Bedroom Penthouse with Good Vibes\n",
      "The ID is 18971993 and title is Sunny Bedroom Steps to Subway & Central Park\n",
      "The ID is 27903031 and title is Lovely Room/ private Bath in Prewar Midtown Gem\n",
      "The ID is 21422090 and title is Bedroom 5 min away from E, 7, F, M, R trains!\n",
      "The ID is 18108648 and title is Large 2bd 15 min to Midtown Manhattan\n",
      "The ID is 982276 and title is *Perfect Bedroom! Large Sunny Apt*Manhattan*NYC\n",
      "The ID is 4221999 and title is Spacious & Bright: 1 BR Midtown!\n",
      "The ID is 16339429 and title is Quiet Room in Unique Carroll Gardens\n",
      "The ID is 387666 and title is Historic townhouse in convenient location\n"
     ]
    }
   ],
   "source": [
    "for result in non_expanded_results:\n",
    "    print(f'The ID is {result[\"id\"]} and title is {result[\"name\"]}')\n"
   ]
  },
  {
   "cell_type": "code",
   "execution_count": 17,
   "metadata": {
    "pycharm": {
     "name": "#%%\n"
    }
   },
   "outputs": [
    {
     "data": {
      "text/plain": [
       "'Midtown sunny two bedroom, two bathrooms available. A few bedrooms.\\n\\n1-800-273-8255\\n\\nwww.jimsonjames.com\\n\\n(206) 522-2046\\n\\nwww.n'"
      ]
     },
     "execution_count": 17,
     "metadata": {},
     "output_type": "execute_result"
    }
   ],
   "source": [
    "expanded_query"
   ]
  },
  {
   "cell_type": "code",
   "execution_count": 19,
   "metadata": {
    "pycharm": {
     "name": "#%%\n"
    }
   },
   "outputs": [],
   "source": [
    "expanded_results = solr.search(expanded_query, **{\n",
    "                'rows': 10,\n",
    "            })"
   ]
  },
  {
   "cell_type": "code",
   "execution_count": 20,
   "metadata": {},
   "outputs": [
    {
     "name": "stdout",
     "output_type": "stream",
     "text": [
      "The ID is 30562364 and title is Stunning 2,000 sq ft 2BR in Williamsburg\n",
      "The ID is 20607037 and title is Midtown East 2 Bed/2 Bath Elevator Building Apt\n",
      "The ID is 43324727 and title is 2-bedroom apartment right next to Mt. Sinai West\n",
      "The ID is 387666 and title is Historic townhouse in convenient location\n",
      "The ID is 1150869 and title is Large 2-bedr UWS Apt $200.00/day, May- Sept 2020\n",
      "The ID is 11486601 and title is Beautiful Spacious Loft near subway and train\n",
      "The ID is 3395238 and title is 3 Bedroom House with Garden\n",
      "The ID is 21422090 and title is Bedroom 5 min away from E, 7, F, M, R trains!\n",
      "The ID is 48102119 and title is 3 Bedroom Apartment in Midtown West Manhattan\n",
      "The ID is 295231 and title is Sunny, clean br available\n"
     ]
    }
   ],
   "source": [
    "for result in expanded_results:\n",
    "    print(f'The ID is {result[\"id\"]} and title is {result[\"name\"]}')\n"
   ]
  },
  {
   "cell_type": "code",
   "execution_count": 21,
   "metadata": {},
   "outputs": [
    {
     "name": "stdout",
     "output_type": "stream",
     "text": [
      "huggingface/tokenizers: The current process just got forked, after parallelism has already been used. Disabling parallelism to avoid deadlocks...\n",
      "To disable this warning, you can either:\n",
      "\t- Avoid using `tokenizers` before the fork if possible\n",
      "\t- Explicitly set the environment variable TOKENIZERS_PARALLELISM=(true | false)\n",
      "Doc2Vec Model loaded\n"
     ]
    }
   ],
   "source": [
    "model_path = '2-ranking/lab4/airbnb_model'\n",
    "doc2vec_model = Doc2Vec.load(model_path)\n",
    "print(f'Doc2Vec Model loaded')"
   ]
  },
  {
   "cell_type": "code",
   "execution_count": 22,
   "metadata": {
    "pycharm": {
     "name": "#%%\n"
    }
   },
   "outputs": [],
   "source": [
    "tokenized_query = list(gensim.utils.simple_preprocess(query))\n",
    "tokenized_new_query = list(gensim.utils.simple_preprocess(expanded_query))"
   ]
  },
  {
   "cell_type": "code",
   "execution_count": 23,
   "metadata": {},
   "outputs": [
    {
     "data": {
      "text/plain": [
       "['midtown',\n",
       " 'sunny',\n",
       " 'two',\n",
       " 'bedroom',\n",
       " 'two',\n",
       " 'bathrooms',\n",
       " 'available',\n",
       " 'few',\n",
       " 'bedrooms',\n",
       " 'www',\n",
       " 'jimsonjames',\n",
       " 'com',\n",
       " 'www']"
      ]
     },
     "execution_count": 23,
     "metadata": {},
     "output_type": "execute_result"
    }
   ],
   "source": [
    "tokenized_new_query"
   ]
  },
  {
   "cell_type": "code",
   "execution_count": 24,
   "metadata": {
    "pycharm": {
     "name": "#%%\n"
    }
   },
   "outputs": [],
   "source": [
    "df_non_expanded_results = pd.DataFrame(non_expanded_results)\n",
    "similarities = []\n",
    "for result in non_expanded_results:\n",
    "    try:\n",
    "        similarity = doc2vec_model.similarity_unseen_docs(doc_words1=tokenized_query, doc_words2= list(gensim.utils.simple_preprocess(result[\"description\"])))\n",
    "    except KeyError:\n",
    "        similarity = 0\n",
    "    similarities.append(similarity)\n",
    "df_non_expanded_results[\"Similarity\"] = pd.Series(similarities)\n",
    "df_non_expanded_results.sort_values(by=\"Similarity\", ascending=False, inplace=True)\n"
   ]
  },
  {
   "cell_type": "code",
   "execution_count": 25,
   "metadata": {},
   "outputs": [
    {
     "data": {
      "text/html": [
       "<div>\n",
       "<style scoped>\n",
       "    .dataframe tbody tr th:only-of-type {\n",
       "        vertical-align: middle;\n",
       "    }\n",
       "\n",
       "    .dataframe tbody tr th {\n",
       "        vertical-align: top;\n",
       "    }\n",
       "\n",
       "    .dataframe thead th {\n",
       "        text-align: right;\n",
       "    }\n",
       "</style>\n",
       "<table border=\"1\" class=\"dataframe\">\n",
       "  <thead>\n",
       "    <tr style=\"text-align: right;\">\n",
       "      <th></th>\n",
       "      <th>id</th>\n",
       "      <th>listing_url</th>\n",
       "      <th>name</th>\n",
       "      <th>description</th>\n",
       "      <th>neighborhood_overview</th>\n",
       "      <th>host_id</th>\n",
       "      <th>host_url</th>\n",
       "      <th>host_name</th>\n",
       "      <th>neighbourhood</th>\n",
       "      <th>neighbourhood_cleansed</th>\n",
       "      <th>...</th>\n",
       "      <th>accommodates</th>\n",
       "      <th>bathrooms_text</th>\n",
       "      <th>bedrooms</th>\n",
       "      <th>beds</th>\n",
       "      <th>amenities</th>\n",
       "      <th>price</th>\n",
       "      <th>number_of_reviews</th>\n",
       "      <th>reviews_per_month</th>\n",
       "      <th>_version_</th>\n",
       "      <th>Similarity</th>\n",
       "    </tr>\n",
       "  </thead>\n",
       "  <tbody>\n",
       "    <tr>\n",
       "      <th>0</th>\n",
       "      <td>24894476</td>\n",
       "      <td>https://www.airbnb.com/rooms/24894476</td>\n",
       "      <td>Super Large Bedroom in Harlem</td>\n",
       "      <td>Large and sunny bedroom in Harlem. Two blocks ...</td>\n",
       "      <td>Sugar Hill is a landmark residential area in N...</td>\n",
       "      <td>15940253</td>\n",
       "      <td>https://www.airbnb.com/users/show/15940253</td>\n",
       "      <td>Raimundo</td>\n",
       "      <td>New York, United States</td>\n",
       "      <td>Harlem</td>\n",
       "      <td>...</td>\n",
       "      <td>2</td>\n",
       "      <td>1 shared bath</td>\n",
       "      <td>1.0</td>\n",
       "      <td>1.0</td>\n",
       "      <td>[\"Shampoo\", \"Wifi\", \"Long term stays allowed\",...</td>\n",
       "      <td>$72.00</td>\n",
       "      <td>4</td>\n",
       "      <td>[0.14]</td>\n",
       "      <td>1705862869734653954</td>\n",
       "      <td>0.512166</td>\n",
       "    </tr>\n",
       "    <tr>\n",
       "      <th>1</th>\n",
       "      <td>30811958</td>\n",
       "      <td>https://www.airbnb.com/rooms/30811958</td>\n",
       "      <td>Sunny 2 Bedroom Penthouse with Good Vibes</td>\n",
       "      <td>Welcome to NYC!!!&lt;br /&gt;Spacious Private Sunny ...</td>\n",
       "      <td>Jacky Robinson park, New York sports club, man...</td>\n",
       "      <td>230498530</td>\n",
       "      <td>https://www.airbnb.com/users/show/230498530</td>\n",
       "      <td>Patricia</td>\n",
       "      <td>New York, United States</td>\n",
       "      <td>Harlem</td>\n",
       "      <td>...</td>\n",
       "      <td>5</td>\n",
       "      <td>1 bath</td>\n",
       "      <td>2.0</td>\n",
       "      <td>2.0</td>\n",
       "      <td>[\"Refrigerator\", \"Essentials\", \"Dryer\", \"Long ...</td>\n",
       "      <td>$95.00</td>\n",
       "      <td>3</td>\n",
       "      <td>[0.13]</td>\n",
       "      <td>1705862870632235009</td>\n",
       "      <td>0.503906</td>\n",
       "    </tr>\n",
       "    <tr>\n",
       "      <th>6</th>\n",
       "      <td>982276</td>\n",
       "      <td>https://www.airbnb.com/rooms/982276</td>\n",
       "      <td>*Perfect Bedroom! Large Sunny Apt*Manhattan*NYC</td>\n",
       "      <td>Large sunny apt in historic Chinatown, Lower M...</td>\n",
       "      <td>I live in Chinatown, Lower East Side. I love t...</td>\n",
       "      <td>1449904</td>\n",
       "      <td>https://www.airbnb.com/users/show/1449904</td>\n",
       "      <td>Edel</td>\n",
       "      <td>New York, United States</td>\n",
       "      <td>Two Bridges</td>\n",
       "      <td>...</td>\n",
       "      <td>1</td>\n",
       "      <td>1.5 baths</td>\n",
       "      <td>1.0</td>\n",
       "      <td>1.0</td>\n",
       "      <td>[\"Refrigerator\", \"Essentials\", \"Long term stay...</td>\n",
       "      <td>$98.00</td>\n",
       "      <td>49</td>\n",
       "      <td>[0.51]</td>\n",
       "      <td>1705862865376772098</td>\n",
       "      <td>0.492481</td>\n",
       "    </tr>\n",
       "    <tr>\n",
       "      <th>4</th>\n",
       "      <td>21422090</td>\n",
       "      <td>https://www.airbnb.com/rooms/21422090</td>\n",
       "      <td>Bedroom 5 min away from E, 7, F, M, R trains!</td>\n",
       "      <td>Sunny bedroom available in a two bedroom apart...</td>\n",
       "      <td>The neighborhood is very quiet and dynamic, fu...</td>\n",
       "      <td>106766048</td>\n",
       "      <td>https://www.airbnb.com/users/show/106766048</td>\n",
       "      <td>Chelsea</td>\n",
       "      <td>Queens, New York, United States</td>\n",
       "      <td>Jackson Heights</td>\n",
       "      <td>...</td>\n",
       "      <td>2</td>\n",
       "      <td>1 shared bath</td>\n",
       "      <td>1.0</td>\n",
       "      <td>1.0</td>\n",
       "      <td>[\"Kitchen\", \"Essentials\", \"Hangers\", \"Heating\"...</td>\n",
       "      <td>$35.00</td>\n",
       "      <td>12</td>\n",
       "      <td>[0.42]</td>\n",
       "      <td>1705862869131722752</td>\n",
       "      <td>0.487014</td>\n",
       "    </tr>\n",
       "    <tr>\n",
       "      <th>2</th>\n",
       "      <td>18971993</td>\n",
       "      <td>https://www.airbnb.com/rooms/18971993</td>\n",
       "      <td>Sunny Bedroom Steps to Subway &amp; Central Park</td>\n",
       "      <td>Sunny queen size bedroom in a large two bedroo...</td>\n",
       "      <td>NaN</td>\n",
       "      <td>128237188</td>\n",
       "      <td>https://www.airbnb.com/users/show/128237188</td>\n",
       "      <td>Mante</td>\n",
       "      <td>NaN</td>\n",
       "      <td>East Harlem</td>\n",
       "      <td>...</td>\n",
       "      <td>2</td>\n",
       "      <td>1 shared bath</td>\n",
       "      <td>1.0</td>\n",
       "      <td>1.0</td>\n",
       "      <td>[\"Kitchen\", \"TV\", \"Carbon monoxide alarm\", \"Ha...</td>\n",
       "      <td>$79.00</td>\n",
       "      <td>91</td>\n",
       "      <td>[1.97]</td>\n",
       "      <td>1705862868682932224</td>\n",
       "      <td>0.448070</td>\n",
       "    </tr>\n",
       "    <tr>\n",
       "      <th>9</th>\n",
       "      <td>387666</td>\n",
       "      <td>https://www.airbnb.com/rooms/387666</td>\n",
       "      <td>Historic townhouse in convenient location</td>\n",
       "      <td>Welcome to Michaelny, our town house in the Ju...</td>\n",
       "      <td>The Morris Jumel HIstoric District is a few bl...</td>\n",
       "      <td>1939728</td>\n",
       "      <td>https://www.airbnb.com/users/show/1939728</td>\n",
       "      <td>Michael &amp; Aleksandra</td>\n",
       "      <td>New York, United States</td>\n",
       "      <td>Washington Heights</td>\n",
       "      <td>...</td>\n",
       "      <td>2</td>\n",
       "      <td>2 shared baths</td>\n",
       "      <td>2.0</td>\n",
       "      <td>3.0</td>\n",
       "      <td>[\"Cable TV\", \"Refrigerator\", \"Essentials\", \"Lo...</td>\n",
       "      <td>$99.00</td>\n",
       "      <td>9</td>\n",
       "      <td>[0.29]</td>\n",
       "      <td>1705862865104142338</td>\n",
       "      <td>0.437023</td>\n",
       "    </tr>\n",
       "    <tr>\n",
       "      <th>5</th>\n",
       "      <td>18108648</td>\n",
       "      <td>https://www.airbnb.com/rooms/18108648</td>\n",
       "      <td>Large 2bd 15 min to Midtown Manhattan</td>\n",
       "      <td>Large and sunny 2 bedroom apartment. Elevator ...</td>\n",
       "      <td>Located in Astoria, one of the best neighborho...</td>\n",
       "      <td>10194688</td>\n",
       "      <td>https://www.airbnb.com/users/show/10194688</td>\n",
       "      <td>Mariela</td>\n",
       "      <td>Queens, New York, United States</td>\n",
       "      <td>Ditmars Steinway</td>\n",
       "      <td>...</td>\n",
       "      <td>6</td>\n",
       "      <td>1 bath</td>\n",
       "      <td>2.0</td>\n",
       "      <td>4.0</td>\n",
       "      <td>[\"Cable TV\", \"Refrigerator\", \"Essentials\", \"Lo...</td>\n",
       "      <td>$176.00</td>\n",
       "      <td>152</td>\n",
       "      <td>[3.16]</td>\n",
       "      <td>1705862868544520194</td>\n",
       "      <td>0.421073</td>\n",
       "    </tr>\n",
       "    <tr>\n",
       "      <th>3</th>\n",
       "      <td>27903031</td>\n",
       "      <td>https://www.airbnb.com/rooms/27903031</td>\n",
       "      <td>Lovely Room/ private Bath in Prewar Midtown Gem</td>\n",
       "      <td>Very well located elegant 3 bedroom sunny prew...</td>\n",
       "      <td>This is a great family apartment in the middle...</td>\n",
       "      <td>7580102</td>\n",
       "      <td>https://www.airbnb.com/users/show/7580102</td>\n",
       "      <td>Jamie</td>\n",
       "      <td>New York, United States</td>\n",
       "      <td>Midtown</td>\n",
       "      <td>...</td>\n",
       "      <td>2</td>\n",
       "      <td>1 shared bath</td>\n",
       "      <td>1.0</td>\n",
       "      <td>1.0</td>\n",
       "      <td>[\"Cable TV\", \"Essentials\", \"Dryer\", \"Long term...</td>\n",
       "      <td>$175.00</td>\n",
       "      <td>5</td>\n",
       "      <td>[0.16]</td>\n",
       "      <td>1705862870150938624</td>\n",
       "      <td>0.393158</td>\n",
       "    </tr>\n",
       "    <tr>\n",
       "      <th>7</th>\n",
       "      <td>4221999</td>\n",
       "      <td>https://www.airbnb.com/rooms/4221999</td>\n",
       "      <td>Spacious &amp; Bright: 1 BR Midtown!</td>\n",
       "      <td>Our spacious and clean one bedroom apartment s...</td>\n",
       "      <td>The neighborhood and our block is residential,...</td>\n",
       "      <td>20335235</td>\n",
       "      <td>https://www.airbnb.com/users/show/20335235</td>\n",
       "      <td>Stephen</td>\n",
       "      <td>New York, United States</td>\n",
       "      <td>Midtown</td>\n",
       "      <td>...</td>\n",
       "      <td>2</td>\n",
       "      <td>1 bath</td>\n",
       "      <td>1.0</td>\n",
       "      <td>1.0</td>\n",
       "      <td>[\"Kitchen\", \"Cable TV\", \"TV\", \"Carbon monoxide...</td>\n",
       "      <td>$225.00</td>\n",
       "      <td>10</td>\n",
       "      <td>[0.13]</td>\n",
       "      <td>1705862866067783680</td>\n",
       "      <td>0.354973</td>\n",
       "    </tr>\n",
       "    <tr>\n",
       "      <th>8</th>\n",
       "      <td>16339429</td>\n",
       "      <td>https://www.airbnb.com/rooms/16339429</td>\n",
       "      <td>Quiet Room in Unique Carroll Gardens</td>\n",
       "      <td>A sunny furnished room in quiet building on th...</td>\n",
       "      <td>NaN</td>\n",
       "      <td>106977720</td>\n",
       "      <td>https://www.airbnb.com/users/show/106977720</td>\n",
       "      <td>Kristan</td>\n",
       "      <td>NaN</td>\n",
       "      <td>Carroll Gardens</td>\n",
       "      <td>...</td>\n",
       "      <td>1</td>\n",
       "      <td>2 shared baths</td>\n",
       "      <td>1.0</td>\n",
       "      <td>1.0</td>\n",
       "      <td>[\"Kitchen\", \"Dedicated workspace\", \"Wifi\", \"TV...</td>\n",
       "      <td>$40.00</td>\n",
       "      <td>2</td>\n",
       "      <td>[0.04]</td>\n",
       "      <td>1705862868306493444</td>\n",
       "      <td>0.338038</td>\n",
       "    </tr>\n",
       "  </tbody>\n",
       "</table>\n",
       "<p>10 rows × 22 columns</p>\n",
       "</div>"
      ],
      "text/plain": [
       "         id                            listing_url  \\\n",
       "0  24894476  https://www.airbnb.com/rooms/24894476   \n",
       "1  30811958  https://www.airbnb.com/rooms/30811958   \n",
       "6    982276    https://www.airbnb.com/rooms/982276   \n",
       "4  21422090  https://www.airbnb.com/rooms/21422090   \n",
       "2  18971993  https://www.airbnb.com/rooms/18971993   \n",
       "9    387666    https://www.airbnb.com/rooms/387666   \n",
       "5  18108648  https://www.airbnb.com/rooms/18108648   \n",
       "3  27903031  https://www.airbnb.com/rooms/27903031   \n",
       "7   4221999   https://www.airbnb.com/rooms/4221999   \n",
       "8  16339429  https://www.airbnb.com/rooms/16339429   \n",
       "\n",
       "                                              name  \\\n",
       "0                    Super Large Bedroom in Harlem   \n",
       "1        Sunny 2 Bedroom Penthouse with Good Vibes   \n",
       "6  *Perfect Bedroom! Large Sunny Apt*Manhattan*NYC   \n",
       "4    Bedroom 5 min away from E, 7, F, M, R trains!   \n",
       "2     Sunny Bedroom Steps to Subway & Central Park   \n",
       "9        Historic townhouse in convenient location   \n",
       "5            Large 2bd 15 min to Midtown Manhattan   \n",
       "3  Lovely Room/ private Bath in Prewar Midtown Gem   \n",
       "7                 Spacious & Bright: 1 BR Midtown!   \n",
       "8             Quiet Room in Unique Carroll Gardens   \n",
       "\n",
       "                                         description  \\\n",
       "0  Large and sunny bedroom in Harlem. Two blocks ...   \n",
       "1  Welcome to NYC!!!<br />Spacious Private Sunny ...   \n",
       "6  Large sunny apt in historic Chinatown, Lower M...   \n",
       "4  Sunny bedroom available in a two bedroom apart...   \n",
       "2  Sunny queen size bedroom in a large two bedroo...   \n",
       "9  Welcome to Michaelny, our town house in the Ju...   \n",
       "5  Large and sunny 2 bedroom apartment. Elevator ...   \n",
       "3  Very well located elegant 3 bedroom sunny prew...   \n",
       "7  Our spacious and clean one bedroom apartment s...   \n",
       "8  A sunny furnished room in quiet building on th...   \n",
       "\n",
       "                               neighborhood_overview    host_id  \\\n",
       "0  Sugar Hill is a landmark residential area in N...   15940253   \n",
       "1  Jacky Robinson park, New York sports club, man...  230498530   \n",
       "6  I live in Chinatown, Lower East Side. I love t...    1449904   \n",
       "4  The neighborhood is very quiet and dynamic, fu...  106766048   \n",
       "2                                                NaN  128237188   \n",
       "9  The Morris Jumel HIstoric District is a few bl...    1939728   \n",
       "5  Located in Astoria, one of the best neighborho...   10194688   \n",
       "3  This is a great family apartment in the middle...    7580102   \n",
       "7  The neighborhood and our block is residential,...   20335235   \n",
       "8                                                NaN  106977720   \n",
       "\n",
       "                                      host_url             host_name  \\\n",
       "0   https://www.airbnb.com/users/show/15940253              Raimundo   \n",
       "1  https://www.airbnb.com/users/show/230498530              Patricia   \n",
       "6    https://www.airbnb.com/users/show/1449904                  Edel   \n",
       "4  https://www.airbnb.com/users/show/106766048               Chelsea   \n",
       "2  https://www.airbnb.com/users/show/128237188                 Mante   \n",
       "9    https://www.airbnb.com/users/show/1939728  Michael & Aleksandra   \n",
       "5   https://www.airbnb.com/users/show/10194688               Mariela   \n",
       "3    https://www.airbnb.com/users/show/7580102                 Jamie   \n",
       "7   https://www.airbnb.com/users/show/20335235               Stephen   \n",
       "8  https://www.airbnb.com/users/show/106977720               Kristan   \n",
       "\n",
       "                     neighbourhood neighbourhood_cleansed  ... accommodates  \\\n",
       "0          New York, United States                 Harlem  ...            2   \n",
       "1          New York, United States                 Harlem  ...            5   \n",
       "6          New York, United States            Two Bridges  ...            1   \n",
       "4  Queens, New York, United States        Jackson Heights  ...            2   \n",
       "2                              NaN            East Harlem  ...            2   \n",
       "9          New York, United States     Washington Heights  ...            2   \n",
       "5  Queens, New York, United States       Ditmars Steinway  ...            6   \n",
       "3          New York, United States                Midtown  ...            2   \n",
       "7          New York, United States                Midtown  ...            2   \n",
       "8                              NaN        Carroll Gardens  ...            1   \n",
       "\n",
       "   bathrooms_text  bedrooms beds  \\\n",
       "0   1 shared bath       1.0  1.0   \n",
       "1          1 bath       2.0  2.0   \n",
       "6       1.5 baths       1.0  1.0   \n",
       "4   1 shared bath       1.0  1.0   \n",
       "2   1 shared bath       1.0  1.0   \n",
       "9  2 shared baths       2.0  3.0   \n",
       "5          1 bath       2.0  4.0   \n",
       "3   1 shared bath       1.0  1.0   \n",
       "7          1 bath       1.0  1.0   \n",
       "8  2 shared baths       1.0  1.0   \n",
       "\n",
       "                                           amenities    price  \\\n",
       "0  [\"Shampoo\", \"Wifi\", \"Long term stays allowed\",...   $72.00   \n",
       "1  [\"Refrigerator\", \"Essentials\", \"Dryer\", \"Long ...   $95.00   \n",
       "6  [\"Refrigerator\", \"Essentials\", \"Long term stay...   $98.00   \n",
       "4  [\"Kitchen\", \"Essentials\", \"Hangers\", \"Heating\"...   $35.00   \n",
       "2  [\"Kitchen\", \"TV\", \"Carbon monoxide alarm\", \"Ha...   $79.00   \n",
       "9  [\"Cable TV\", \"Refrigerator\", \"Essentials\", \"Lo...   $99.00   \n",
       "5  [\"Cable TV\", \"Refrigerator\", \"Essentials\", \"Lo...  $176.00   \n",
       "3  [\"Cable TV\", \"Essentials\", \"Dryer\", \"Long term...  $175.00   \n",
       "7  [\"Kitchen\", \"Cable TV\", \"TV\", \"Carbon monoxide...  $225.00   \n",
       "8  [\"Kitchen\", \"Dedicated workspace\", \"Wifi\", \"TV...   $40.00   \n",
       "\n",
       "  number_of_reviews reviews_per_month            _version_ Similarity  \n",
       "0                 4            [0.14]  1705862869734653954   0.512166  \n",
       "1                 3            [0.13]  1705862870632235009   0.503906  \n",
       "6                49            [0.51]  1705862865376772098   0.492481  \n",
       "4                12            [0.42]  1705862869131722752   0.487014  \n",
       "2                91            [1.97]  1705862868682932224   0.448070  \n",
       "9                 9            [0.29]  1705862865104142338   0.437023  \n",
       "5               152            [3.16]  1705862868544520194   0.421073  \n",
       "3                 5            [0.16]  1705862870150938624   0.393158  \n",
       "7                10            [0.13]  1705862866067783680   0.354973  \n",
       "8                 2            [0.04]  1705862868306493444   0.338038  \n",
       "\n",
       "[10 rows x 22 columns]"
      ]
     },
     "execution_count": 25,
     "metadata": {},
     "output_type": "execute_result"
    }
   ],
   "source": [
    "df_non_expanded_results"
   ]
  },
  {
   "cell_type": "code",
   "execution_count": 30,
   "metadata": {
    "pycharm": {
     "name": "#%%\n"
    }
   },
   "outputs": [
    {
     "name": "stdout",
     "output_type": "stream",
     "text": [
      "Most similar document before expansion has description: \n",
      "\n",
      "Large and sunny bedroom in Harlem. Two blocks from A and D express train (that will take you to midtown in 20 minutes) and 7 minutes to the 1 train. Plenty of stores, restaurants, cafes, parks, supermarkets nearby, but still a very quiet apartment. Beautiful area.<br /><br /><b>The space</b><br />The room is very large and sunny. Two windows that receive amazing light and a nice view to two large trees :)\n",
      "\n",
      "With similarity: 0.5121657252311707\n"
     ]
    }
   ],
   "source": [
    "print(f'Most similar document before expansion has description: \\n\\n{df_non_expanded_results[\"description\"].iloc[0]}\\n\\nWith similarity: {df_non_expanded_results[\"Similarity\"].iloc[0]}')"
   ]
  },
  {
   "cell_type": "code",
   "execution_count": 27,
   "metadata": {
    "pycharm": {
     "name": "#%%\n"
    }
   },
   "outputs": [],
   "source": [
    "df_expanded_results = pd.DataFrame(expanded_results)\n",
    "new_similarities = []\n",
    "for result in expanded_results:\n",
    "    try:\n",
    "        similarity = doc2vec_model.similarity_unseen_docs(doc_words1=tokenized_query, doc_words2= list(gensim.utils.simple_preprocess(result[\"description\"])))\n",
    "    except KeyError:\n",
    "        similarity = 0\n",
    "    new_similarities.append(similarity)\n",
    "df_expanded_results[\"Similarity\"] = pd.Series(new_similarities)\n",
    "df_expanded_results.sort_values(by=\"Similarity\", ascending=False, inplace=True)"
   ]
  },
  {
   "cell_type": "code",
   "execution_count": 31,
   "metadata": {
    "pycharm": {
     "name": "#%%\n"
    }
   },
   "outputs": [
    {
     "name": "stdout",
     "output_type": "stream",
     "text": [
      "Most similar document after expansion has description: \n",
      "\n",
      "Spacious & beautiful two bedroom, two bathroom apartment available in Midtown Manhattan. Great for families or couples, this apartment has two large bedrooms (queen beds), 2 sleek bathrooms, updated kitchen and large living room. Equipped with wifi, cable TV, dishwasher and more! Elevator building just blocks from Grand Central Station, offering easy access to subways, buses and all that midtown has to offer! Feel free to reach out with specific questions.\n",
      "\n",
      "With similarity: 0.5262804627418518\n"
     ]
    }
   ],
   "source": [
    "print(f'Most similar document after expansion has description: \\n\\n{df_expanded_results[\"description\"].iloc[0]}\\n\\nWith similarity: {df_expanded_results[\"Similarity\"].iloc[0]}')"
   ]
  },
  {
   "cell_type": "code",
   "execution_count": 29,
   "metadata": {
    "pycharm": {
     "name": "#%%\n"
    }
   },
   "outputs": [
    {
     "name": "stdout",
     "output_type": "stream",
     "text": [
      "Number of documents that surpass 0.5 similarity threshold: 1\n"
     ]
    }
   ],
   "source": [
    "print(f'Number of documents that surpass 0.5 similarity threshold: {len(df_expanded_results[df_expanded_results[\"Similarity\"] >= 0.5])}')\n"
   ]
  },
  {
   "cell_type": "code",
   "execution_count": null,
   "metadata": {},
   "outputs": [],
   "source": []
  },
  {
   "cell_type": "code",
   "execution_count": null,
   "metadata": {},
   "outputs": [],
   "source": []
  }
 ],
 "metadata": {
  "kernelspec": {
   "display_name": "local-venv",
   "language": "python",
   "name": "local-venv"
  },
  "language_info": {
   "codemirror_mode": {
    "name": "ipython",
    "version": 3
   },
   "file_extension": ".py",
   "mimetype": "text/x-python",
   "name": "python",
   "nbconvert_exporter": "python",
   "pygments_lexer": "ipython3",
   "version": "3.7.3"
  }
 },
 "nbformat": 4,
 "nbformat_minor": 1
}