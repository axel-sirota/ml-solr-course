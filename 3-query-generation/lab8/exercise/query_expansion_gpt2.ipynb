{
 "cells": [
  {
   "cell_type": "code",
   "execution_count": 1,
   "metadata": {},
   "outputs": [],
   "source": [
    "import gensim\n",
    "import numpy as np\n",
    "import pandas as pd\n",
    "import pysolr\n",
    "from gensim.models import Doc2Vec\n",
    "from transformers import pipeline, set_seed\n",
    "set_seed(42)\n",
    "np.random.seed(42)\n",
    "import sys"
   ]
  },
  {
   "cell_type": "code",
   "execution_count": 2,
   "metadata": {},
   "outputs": [
    {
     "name": "stdout",
     "output_type": "stream",
     "text": [
      "['/Users/axelsirota/repos/ml-solr-course/3-query-generation/lab8/solutions', '/Users/axelsirota/.pyenv/versions/3.7.3/lib/python37.zip', '/Users/axelsirota/.pyenv/versions/3.7.3/lib/python3.7', '/Users/axelsirota/.pyenv/versions/3.7.3/lib/python3.7/lib-dynload', '', '/Users/axelsirota/repos/ml-solr-course/.venv/lib/python3.7/site-packages', '/Users/axelsirota/repos/ml-solr-course/.venv/lib/python3.7/site-packages/IPython/extensions', '/Users/axelsirota/.ipython']\n",
      "/Users/axelsirota/repos/ml-solr-course\n"
     ]
    }
   ],
   "source": [
    "# In case your sys.path does not contain the base repo, cd there.\n",
    "print(sys.path)\n",
    "%cd 'PATH_OF_BASE_REPO'  # In the solution it will be the path to my repo. This is such that python loads al the files from the top."
   ]
  },
  {
   "cell_type": "code",
   "execution_count": 3,
   "metadata": {
    "pycharm": {
     "name": "#%%\n"
    }
   },
   "outputs": [
    {
     "name": "stderr",
     "output_type": "stream",
     "text": [
      "Setting `pad_token_id` to `eos_token_id`:50256 for open-end generation.\n"
     ]
    }
   ],
   "source": [
    "# Use the pipeline method to invoke the text-generation solution with gpt-2 as model.\n",
    "generator = None\n",
    "query = 'Midtown sunny two bedroom'\n",
    "expanded_queries = None #  Generate 10 possible expansions of 50 characters"
   ]
  },
  {
   "cell_type": "code",
   "execution_count": 4,
   "metadata": {},
   "outputs": [
    {
     "data": {
      "text/plain": [
       "[{'generated_text': 'Midtown sunny two bedroom apartments, with two double doors and plenty of private balconies to see your family down in, with the view of the city skyline in just a single window.\\n\\nGet a look up at the best in trendy boutiques all over the city from the best in Downtown Eastside to the finest in Midtown, with views all over town, and'},\n",
       " {'generated_text': \"Midtown sunny two bedroom home in the Westside's former downtown development. As you walk down the block, you'll see what looked like a small garage. In its name, it looks like the neighborhood is an abandoned abandoned trailer park. It's a lot smaller than I knew it. Some parts are still abandoned, while others are simply abandoned apartments, like the one you\"},\n",
       " {'generated_text': 'Midtown sunny two bedroom home in Burbank - with a great view of the bay in the background with a view overlooking the river.\\n\\n\\nLocated on the west side of Santa Monica Blvd and has over 1,300 square feet of living room, living room, & business.\\n\\n\\nNearby is a private property with approximately 1,250 square feet of living room,'},\n",
       " {'generated_text': 'Midtown sunny two bedroom condo. I\\'m sure you didn\\'t feel that, too!\" She smiled, and the girls had a hard time figuring out what she was thinking. She didn\\'t look at them so clearly. \"Okay, but, I\\'ll go pick it up first. Let me explain.\" After three minutes of talking I sat on the top of her apartment building'},\n",
       " {'generated_text': \"Midtown sunny two bedroom with one balcony of 3,600 square feet and a large patio with pool in the front yard. This was a good place to shop, do some cooking and then relax. All the rooms were comfortable as well; the bathroom was open from 2:00pm till 11:30pm and an elevator.\\n\\nHaven't visited in years and\"},\n",
       " {'generated_text': \"Midtown sunny two bedroom with couch at the living room which he has on the left side so the room is a little less noisy then his bedroom at the right.\\n\\nI think he is the one getting the best looking bedroom possible. He is one of London's greatest beauties, a genius and a genius's person. I am more interested in his career and how\"},\n",
       " {'generated_text': 'Midtown sunny two bedroom, two bathroom with separate bathrooms and kitchenette\\n\\nRenting to an apartment in the historic downtown office of the Chicago White Sox, a mixed-use-convenience store will be open 24 hours, 365 days/year.\\n\\nFounded in 1855 as the Wirthy Park Company, the restaurant, located at 101 West and'},\n",
       " {'generated_text': 'Midtown sunny two bedroom neighborhood that serves as a gateway to many different neighborhoods around town.\\n\\nThe neighborhood has an interesting history that continues to make some connections between those that live there and the people who work there. For example, a few years ago at least one of those workers worked in the community that serves as the \"Tiger Way\" at the restaurant, and'},\n",
       " {'generated_text': \"Midtown sunny two bedroom condo with four bedrooms and four bathrooms.\\n\\nLocated in Northeast Side, this unit was the home of Michael and Kelly, two of Manhattan's oldest residents.\\n\\nKelly's grandfather, Robert F. Odom, was born in New York City at 20 years old in 1929, to Jewish parents.\\n\\nFrom an early age Kelly took pride\"},\n",
       " {'generated_text': \"Midtown sunny two bedroom. A single sheet. A bedroom, two windows. The best looking room in the lot. Very tidy, cozy. The closest thing to a house. And a bedroom. And a living room. The only thing I didn't like about the place (and I won't tell what it was until I get my own copy) was the closets\"}]"
      ]
     },
     "execution_count": 4,
     "metadata": {},
     "output_type": "execute_result"
    }
   ],
   "source": [
    "expanded_queries"
   ]
  },
  {
   "cell_type": "code",
   "execution_count": 5,
   "metadata": {},
   "outputs": [
    {
     "name": "stdout",
     "output_type": "stream",
     "text": [
      "huggingface/tokenizers: The current process just got forked, after parallelism has already been used. Disabling parallelism to avoid deadlocks...\n",
      "To disable this warning, you can either:\n",
      "\t- Avoid using `tokenizers` before the fork if possible\n",
      "\t- Explicitly set the environment variable TOKENIZERS_PARALLELISM=(true | false)\n",
      "Doc2Vec Model loaded\n"
     ]
    }
   ],
   "source": [
    "model_path = '2-ranking/lab4/airbnb_model'\n",
    "doc2vec_model = Doc2Vec.load(model_path)\n",
    "print(f'Doc2Vec Model loaded')"
   ]
  },
  {
   "cell_type": "code",
   "execution_count": 6,
   "metadata": {},
   "outputs": [
    {
     "data": {
      "text/html": [
       "<div>\n",
       "<style scoped>\n",
       "    .dataframe tbody tr th:only-of-type {\n",
       "        vertical-align: middle;\n",
       "    }\n",
       "\n",
       "    .dataframe tbody tr th {\n",
       "        vertical-align: top;\n",
       "    }\n",
       "\n",
       "    .dataframe thead th {\n",
       "        text-align: right;\n",
       "    }\n",
       "</style>\n",
       "<table border=\"1\" class=\"dataframe\">\n",
       "  <thead>\n",
       "    <tr style=\"text-align: right;\">\n",
       "      <th></th>\n",
       "      <th>query</th>\n",
       "      <th>similarity</th>\n",
       "    </tr>\n",
       "  </thead>\n",
       "  <tbody>\n",
       "    <tr>\n",
       "      <th>2</th>\n",
       "      <td>Midtown sunny two bedroom home in Burbank - wi...</td>\n",
       "      <td>0.676217</td>\n",
       "    </tr>\n",
       "    <tr>\n",
       "      <th>7</th>\n",
       "      <td>Midtown sunny two bedroom neighborhood that se...</td>\n",
       "      <td>0.573251</td>\n",
       "    </tr>\n",
       "    <tr>\n",
       "      <th>0</th>\n",
       "      <td>Midtown sunny two bedroom apartments, with two...</td>\n",
       "      <td>0.550182</td>\n",
       "    </tr>\n",
       "    <tr>\n",
       "      <th>8</th>\n",
       "      <td>Midtown sunny two bedroom condo with four bedr...</td>\n",
       "      <td>0.545813</td>\n",
       "    </tr>\n",
       "    <tr>\n",
       "      <th>9</th>\n",
       "      <td>Midtown sunny two bedroom. A single sheet. A b...</td>\n",
       "      <td>0.403343</td>\n",
       "    </tr>\n",
       "  </tbody>\n",
       "</table>\n",
       "</div>"
      ],
      "text/plain": [
       "                                               query  similarity\n",
       "2  Midtown sunny two bedroom home in Burbank - wi...    0.676217\n",
       "7  Midtown sunny two bedroom neighborhood that se...    0.573251\n",
       "0  Midtown sunny two bedroom apartments, with two...    0.550182\n",
       "8  Midtown sunny two bedroom condo with four bedr...    0.545813\n",
       "9  Midtown sunny two bedroom. A single sheet. A b...    0.403343"
      ]
     },
     "execution_count": 6,
     "metadata": {},
     "output_type": "execute_result"
    }
   ],
   "source": [
    "queries = []\n",
    "# For each possible expansion, get the similarity with the original query and get the best\n",
    "for expanded_query in expanded_queries:\n",
    "    pass\n",
    "expanded_query = ''"
   ]
  },
  {
   "cell_type": "code",
   "execution_count": 8,
   "metadata": {
    "pycharm": {
     "name": "#%%\n"
    }
   },
   "outputs": [],
   "source": [
    "# Create a client instance.\n",
    "solr = pysolr.Solr('http://localhost:8983/solr/airbnb', always_commit=True, timeout=10)"
   ]
  },
  {
   "cell_type": "code",
   "execution_count": 9,
   "metadata": {
    "pycharm": {
     "name": "#%%\n"
    }
   },
   "outputs": [],
   "source": [
    "non_expanded_results = solr.search(query, **{\n",
    "                'rows': 100,\n",
    "            })\n"
   ]
  },
  {
   "cell_type": "code",
   "execution_count": 11,
   "metadata": {
    "pycharm": {
     "name": "#%%\n"
    }
   },
   "outputs": [],
   "source": [
    "expanded_results = solr.search(expanded_query, **{\n",
    "                'rows': 100,\n",
    "            })"
   ]
  },
  {
   "cell_type": "code",
   "execution_count": 12,
   "metadata": {
    "pycharm": {
     "name": "#%%\n"
    }
   },
   "outputs": [],
   "source": [
    "#Tokenize both the query, get the similarities with both the expanded and not expanded results in the pandas dataframe as always\n",
    "tokenized_query = None"
   ]
  },
  {
   "cell_type": "code",
   "execution_count": 13,
   "metadata": {
    "pycharm": {
     "name": "#%%\n"
    }
   },
   "outputs": [],
   "source": [
    "df_non_expanded_results = pd.DataFrame(non_expanded_results)\n",
    "# Fill\n",
    "df_non_expanded_results.sort_values(by=\"Similarity\", ascending=False, inplace=True)\n"
   ]
  },
  {
   "cell_type": "code",
   "execution_count": 14,
   "metadata": {
    "pycharm": {
     "name": "#%%\n"
    }
   },
   "outputs": [
    {
     "name": "stdout",
     "output_type": "stream",
     "text": [
      "Most similar document before expansion has description: \n",
      "\n",
      "Bright Two bedroom apartment located in Midtown West\n",
      "\n",
      "With similarity: 0.8133248686790466\n"
     ]
    }
   ],
   "source": [
    "print(f'Most similar document before expansion has description: \\n\\n{df_non_expanded_results[\"description\"].iloc[0]}\\n\\nWith similarity: {df_non_expanded_results[\"Similarity\"].iloc[0]}')"
   ]
  },
  {
   "cell_type": "code",
   "execution_count": 15,
   "metadata": {
    "pycharm": {
     "name": "#%%\n"
    }
   },
   "outputs": [],
   "source": [
    "df_expanded_results = pd.DataFrame(expanded_results)\n",
    "# Fill\n",
    "df_expanded_results.sort_values(by=\"Similarity\", ascending=False, inplace=True)"
   ]
  },
  {
   "cell_type": "code",
   "execution_count": 16,
   "metadata": {
    "pycharm": {
     "name": "#%%\n"
    }
   },
   "outputs": [
    {
     "name": "stdout",
     "output_type": "stream",
     "text": [
      "Most similar document after expansion has description: \n",
      "\n",
      "Entire one bedroom apartment located in the heart of Manhattan. The alcove living room has floor to ceiling windows and the view on the city and Hudson river.  Doorman building with a gym, rooftop and terrace with sun beds.  Walking distance to Times Square and Port Authority Bus Terminal.<br /><br /><b>The space</b><br />One bedroom apartment located in Midtown West.\n",
      "\n",
      "With similarity: 0.672989010810852\n"
     ]
    }
   ],
   "source": [
    "print(f'Most similar document after expansion has description: \\n\\n{df_expanded_results[\"description\"].iloc[0]}\\n\\nWith similarity: {df_expanded_results[\"Similarity\"].iloc[0]}')"
   ]
  },
  {
   "cell_type": "code",
   "execution_count": 17,
   "metadata": {
    "pycharm": {
     "name": "#%%\n"
    }
   },
   "outputs": [
    {
     "name": "stdout",
     "output_type": "stream",
     "text": [
      "Number of documents that surpass 0.5 similarity threshold: 16\n"
     ]
    }
   ],
   "source": [
    "print(f'Number of documents that surpass 0.5 similarity threshold: {len(df_expanded_results[df_expanded_results[\"Similarity\"] >= 0.5])}')\n"
   ]
  },
  {
   "cell_type": "markdown",
   "metadata": {
    "pycharm": {
     "name": "#%% md\n"
    }
   },
   "source": [
    "So it was useless? A key part of our models is that they are trained with our data. I leave you as exercise to see how much it improves if you finetune gpt-2 with a simple dense layer and train that over our airbnb dataset.\n",
    "\n",
    "Other problem to fix is that our airbnb similarity model is based on our airbnb data, but gpt-2 is generic. We should evaluate word similarity in the same terms, with the glove vectors alone instead. I leave it to you as exercise to see how much that changes as well.\n",
    "\n",
    "\n"
   ]
  }
 ],
 "metadata": {
  "kernelspec": {
   "display_name": "local-venv",
   "language": "python",
   "name": "local-venv"
  },
  "language_info": {
   "codemirror_mode": {
    "name": "ipython",
    "version": 3
   },
   "file_extension": ".py",
   "mimetype": "text/x-python",
   "name": "python",
   "nbconvert_exporter": "python",
   "pygments_lexer": "ipython3",
   "version": "3.7.3"
  }
 },
 "nbformat": 4,
 "nbformat_minor": 1
}