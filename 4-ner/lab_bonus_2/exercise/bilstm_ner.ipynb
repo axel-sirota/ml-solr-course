{
 "cells": [
  {
   "cell_type": "code",
   "execution_count": null,
   "metadata": {},
   "outputs": [],
   "source": [
    "import matplotlib.pyplot as plt\n",
    "import numpy as np\n",
    "import pandas as pd\n",
    "from keras.callbacks import EarlyStopping\n",
    "from sklearn.model_selection import train_test_split\n",
    "from tensorflow.keras import Model, Input\n",
    "from tensorflow.keras.layers import LSTM, Embedding, Dense\n",
    "from tensorflow.keras.layers import TimeDistributed, SpatialDropout1D, Bidirectional\n",
    "from tensorflow.keras.preprocessing.sequence import pad_sequences\n",
    "from tensorflow.keras.utils import to_categorical\n",
    "\n",
    "np.random.seed(42)\n",
    "plt.style.use(\"ggplot\")\n",
    "max_len = 50"
   ]
  },
  {
   "cell_type": "code",
   "execution_count": null,
   "metadata": {
    "pycharm": {
     "name": "#%%\n"
    }
   },
   "outputs": [],
   "source": [
    "data= pd.read_csv(\"./ner_dataset.csv\",encoding=\"latin1\")"
   ]
  },
  {
   "cell_type": "code",
   "execution_count": null,
   "metadata": {
    "pycharm": {
     "name": "#%%\n"
    }
   },
   "outputs": [],
   "source": [
    "# Fix the problem that Sentence number is missing a lot of times!\n",
    "data = None # Magic here\n",
    "data.head()"
   ]
  },
  {
   "cell_type": "code",
   "execution_count": null,
   "metadata": {
    "pycharm": {
     "name": "#%%\n"
    }
   },
   "outputs": [],
   "source": [
    "print(\"Unique Words in corpus:\",data['Word'].nunique())\n",
    "print(\"Unique Tag in corpus:\",data['Tag'].nunique())"
   ]
  },
  {
   "cell_type": "code",
   "execution_count": null,
   "metadata": {
    "pycharm": {
     "name": "#%%\n"
    }
   },
   "outputs": [],
   "source": [
    "#Get a vocabulary of available words and tags. Add the word ENDPAD to the vocab to represent padding\n",
    "words = list()\n",
    "words.append(\"ENDPAD\")\n",
    "num_words = len(words)\n",
    "tags = list()\n",
    "num_tags = len(tags)"
   ]
  },
  {
   "cell_type": "code",
   "execution_count": null,
   "metadata": {
    "pycharm": {
     "name": "#%%\n"
    }
   },
   "outputs": [],
   "source": [
    "class SentenceGetter(object):\n",
    "  def __init__(self,data):\n",
    "    self.n_sent = 1 #counter\n",
    "    self.data = data\n",
    "    agg_func = lambda s:[(w,p,t) for w,p,t in zip(s['Word'].tolist(),s['POS'].tolist(),s['Tag'].tolist())]\n",
    "    self.grouped = self.data.groupby(\"Sentence #\").apply(agg_func)\n",
    "    self.sentences = [s for s in self.grouped]\n",
    "\n",
    "getter = SentenceGetter(data)\n",
    "sentences = getter.sentences   # This was each sentence is correctly formatted"
   ]
  },
  {
   "cell_type": "code",
   "execution_count": null,
   "metadata": {
    "pycharm": {
     "name": "#%%\n"
    }
   },
   "outputs": [],
   "source": [
    "sentences[0]"
   ]
  },
  {
   "cell_type": "code",
   "execution_count": null,
   "metadata": {
    "pycharm": {
     "name": "#%%\n"
    }
   },
   "outputs": [],
   "source": [
    "#Construct a word to index map and a tag to index map\n",
    "word2idx =  {}\n",
    "tag2idx  =  {}"
   ]
  },
  {
   "cell_type": "code",
   "execution_count": null,
   "metadata": {
    "pycharm": {
     "name": "#%%\n"
    }
   },
   "outputs": [],
   "source": [
    "X = [[word2idx[w[0]] for w in s]for s in sentences]\n",
    "X = pad_sequences(maxlen = max_len , sequences =X, padding='post', value =num_words-1)\n",
    "\n",
    "y = [[tag2idx[w[2]] for w in s]for s in sentences]\n",
    "y = pad_sequences(maxlen = max_len , sequences =y, padding='post', value =tag2idx[\"O\"])\n",
    "y = [to_categorical(i, num_classes=num_tags) for i in y]\n",
    "\n",
    "# Split X and y into train and val sets.\n",
    "x_train,x_test,y_train,y_test = None\n"
   ]
  },
  {
   "cell_type": "code",
   "execution_count": null,
   "metadata": {
    "pycharm": {
     "name": "#%%\n"
    }
   },
   "outputs": [],
   "source": [
    "# Create the model, first an Embedding layer. We will add dropout to avoid overfitting, this is a good technique to reproduce in NLP.\n",
    "input_word = Input(shape = (max_len,))\n",
    "model = Embedding( )(input_word)  # Fill\n",
    "model = SpatialDropout1D(0.1)(model)\n",
    "# Add a Bi-LSTM layer. Specify that the previous layer had recurrent_dropout=0.1 such that it is aware.\n",
    "model = None # Fill\n",
    "out = TimeDistributed(Dense(num_tags,activation='softmax'))(model)  # This layer allows to save space by reusing the weights on every word\n",
    "model = None\n",
    "model.summary()"
   ]
  },
  {
   "cell_type": "code",
   "execution_count": null,
   "metadata": {
    "pycharm": {
     "name": "#%%\n"
    }
   },
   "outputs": [],
   "source": [
    "\n",
    "# Compile and fit the model.\n",
    "history = None"
   ]
  },
  {
   "cell_type": "code",
   "execution_count": null,
   "metadata": {
    "pycharm": {
     "name": "#%%\n"
    }
   },
   "outputs": [],
   "source": [
    "# Evaluate the model to get the true accuracy\n",
    "model.evaluate(x_test, np.array(y_test))"
   ]
  },
  {
   "cell_type": "code",
   "execution_count": null,
   "metadata": {
    "pycharm": {
     "name": "#%%\n"
    }
   },
   "outputs": [],
   "source": [
    "# Perform a prediction on a sample sentence and evaluate if all tags were correct\n",
    "i = np.random.randint(0, x_test.shape[0])\n",
    "p = model.predict()  # Fill\n",
    "# Fill"
   ]
  }
 ],
 "metadata": {
  "kernelspec": {
   "display_name": "Python 3 (ipykernel)",
   "language": "python",
   "name": "python3"
  },
  "language_info": {
   "codemirror_mode": {
    "name": "ipython",
    "version": 3
   },
   "file_extension": ".py",
   "mimetype": "text/x-python",
   "name": "python",
   "nbconvert_exporter": "python",
   "pygments_lexer": "ipython3",
   "version": "3.7.3"
  }
 },
 "nbformat": 4,
 "nbformat_minor": 1
}
