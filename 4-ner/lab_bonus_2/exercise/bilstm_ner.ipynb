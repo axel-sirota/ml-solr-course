{
 "cells": [
  {
   "cell_type": "code",
   "execution_count": 1,
   "metadata": {},
   "outputs": [],
   "source": [
    "import matplotlib.pyplot as plt\n",
    "import numpy as np\n",
    "import pandas as pd\n",
    "from keras.callbacks import EarlyStopping\n",
    "from sklearn.model_selection import train_test_split\n",
    "from tensorflow.keras import Model, Input\n",
    "from tensorflow.keras.layers import LSTM, Embedding, Dense\n",
    "from tensorflow.keras.layers import TimeDistributed, SpatialDropout1D, Bidirectional\n",
    "from tensorflow.keras.preprocessing.sequence import pad_sequences\n",
    "from tensorflow.keras.utils import to_categorical\n",
    "\n",
    "np.random.seed(42)\n",
    "plt.style.use(\"ggplot\")\n",
    "max_len = 50"
   ]
  },
  {
   "cell_type": "code",
   "execution_count": 2,
   "metadata": {
    "pycharm": {
     "name": "#%%\n"
    }
   },
   "outputs": [],
   "source": [
    "data= pd.read_csv(\"./ner_dataset.csv\",encoding=\"latin1\")"
   ]
  },
  {
   "cell_type": "code",
   "execution_count": 3,
   "metadata": {
    "pycharm": {
     "name": "#%%\n"
    }
   },
   "outputs": [
    {
     "data": {
      "text/html": [
       "<div>\n",
       "<style scoped>\n",
       "    .dataframe tbody tr th:only-of-type {\n",
       "        vertical-align: middle;\n",
       "    }\n",
       "\n",
       "    .dataframe tbody tr th {\n",
       "        vertical-align: top;\n",
       "    }\n",
       "\n",
       "    .dataframe thead th {\n",
       "        text-align: right;\n",
       "    }\n",
       "</style>\n",
       "<table border=\"1\" class=\"dataframe\">\n",
       "  <thead>\n",
       "    <tr style=\"text-align: right;\">\n",
       "      <th></th>\n",
       "      <th>Sentence #</th>\n",
       "      <th>Word</th>\n",
       "      <th>POS</th>\n",
       "      <th>Tag</th>\n",
       "    </tr>\n",
       "  </thead>\n",
       "  <tbody>\n",
       "    <tr>\n",
       "      <th>0</th>\n",
       "      <td>Sentence: 1</td>\n",
       "      <td>Thousands</td>\n",
       "      <td>NNS</td>\n",
       "      <td>O</td>\n",
       "    </tr>\n",
       "    <tr>\n",
       "      <th>1</th>\n",
       "      <td>Sentence: 1</td>\n",
       "      <td>of</td>\n",
       "      <td>IN</td>\n",
       "      <td>O</td>\n",
       "    </tr>\n",
       "    <tr>\n",
       "      <th>2</th>\n",
       "      <td>Sentence: 1</td>\n",
       "      <td>demonstrators</td>\n",
       "      <td>NNS</td>\n",
       "      <td>O</td>\n",
       "    </tr>\n",
       "    <tr>\n",
       "      <th>3</th>\n",
       "      <td>Sentence: 1</td>\n",
       "      <td>have</td>\n",
       "      <td>VBP</td>\n",
       "      <td>O</td>\n",
       "    </tr>\n",
       "    <tr>\n",
       "      <th>4</th>\n",
       "      <td>Sentence: 1</td>\n",
       "      <td>marched</td>\n",
       "      <td>VBN</td>\n",
       "      <td>O</td>\n",
       "    </tr>\n",
       "  </tbody>\n",
       "</table>\n",
       "</div>"
      ],
      "text/plain": [
       "    Sentence #           Word  POS Tag\n",
       "0  Sentence: 1      Thousands  NNS   O\n",
       "1  Sentence: 1             of   IN   O\n",
       "2  Sentence: 1  demonstrators  NNS   O\n",
       "3  Sentence: 1           have  VBP   O\n",
       "4  Sentence: 1        marched  VBN   O"
      ]
     },
     "execution_count": 3,
     "metadata": {},
     "output_type": "execute_result"
    }
   ],
   "source": [
    "# Fix the problem that Sentence number is missing a lot of times!\n",
    "data = None # Magic here\n",
    "data.head()"
   ]
  },
  {
   "cell_type": "code",
   "execution_count": 4,
   "metadata": {
    "pycharm": {
     "name": "#%%\n"
    }
   },
   "outputs": [
    {
     "name": "stdout",
     "output_type": "stream",
     "text": [
      "Unique Words in corpus: 35178\n",
      "Unique Tag in corpus: 17\n"
     ]
    }
   ],
   "source": [
    "print(\"Unique Words in corpus:\",data['Word'].nunique())\n",
    "print(\"Unique Tag in corpus:\",data['Tag'].nunique())"
   ]
  },
  {
   "cell_type": "code",
   "execution_count": 5,
   "metadata": {
    "pycharm": {
     "name": "#%%\n"
    }
   },
   "outputs": [],
   "source": [
    "#Get a vocabulary of available words and tags. Add the word ENDPAD to the vocab to represent padding\n",
    "words = list()\n",
    "words.append(\"ENDPAD\")\n",
    "num_words = len(words)\n",
    "tags = list()\n",
    "num_tags = len(tags)"
   ]
  },
  {
   "cell_type": "code",
   "execution_count": 7,
   "metadata": {
    "pycharm": {
     "name": "#%%\n"
    }
   },
   "outputs": [],
   "source": [
    "class SentenceGetter(object):\n",
    "  def __init__(self,data):\n",
    "    self.n_sent = 1 #counter\n",
    "    self.data = data\n",
    "    agg_func = lambda s:[(w,p,t) for w,p,t in zip(s['Word'].tolist(),s['POS'].tolist(),s['Tag'].tolist())]\n",
    "    self.grouped = self.data.groupby(\"Sentence #\").apply(agg_func)\n",
    "    self.sentences = [s for s in self.grouped]\n",
    "\n",
    "getter = SentenceGetter(data)\n",
    "sentences = getter.sentences   # This was each sentence is correctly formatted"
   ]
  },
  {
   "cell_type": "code",
   "execution_count": 8,
   "metadata": {
    "pycharm": {
     "name": "#%%\n"
    }
   },
   "outputs": [
    {
     "data": {
      "text/plain": [
       "[('Thousands', 'NNS', 'O'),\n",
       " ('of', 'IN', 'O'),\n",
       " ('demonstrators', 'NNS', 'O'),\n",
       " ('have', 'VBP', 'O'),\n",
       " ('marched', 'VBN', 'O'),\n",
       " ('through', 'IN', 'O'),\n",
       " ('London', 'NNP', 'B-geo'),\n",
       " ('to', 'TO', 'O'),\n",
       " ('protest', 'VB', 'O'),\n",
       " ('the', 'DT', 'O'),\n",
       " ('war', 'NN', 'O'),\n",
       " ('in', 'IN', 'O'),\n",
       " ('Iraq', 'NNP', 'B-geo'),\n",
       " ('and', 'CC', 'O'),\n",
       " ('demand', 'VB', 'O'),\n",
       " ('the', 'DT', 'O'),\n",
       " ('withdrawal', 'NN', 'O'),\n",
       " ('of', 'IN', 'O'),\n",
       " ('British', 'JJ', 'B-gpe'),\n",
       " ('troops', 'NNS', 'O'),\n",
       " ('from', 'IN', 'O'),\n",
       " ('that', 'DT', 'O'),\n",
       " ('country', 'NN', 'O'),\n",
       " ('.', '.', 'O')]"
      ]
     },
     "execution_count": 8,
     "metadata": {},
     "output_type": "execute_result"
    }
   ],
   "source": [
    "sentences[0]"
   ]
  },
  {
   "cell_type": "code",
   "execution_count": 9,
   "metadata": {
    "pycharm": {
     "name": "#%%\n"
    }
   },
   "outputs": [],
   "source": [
    "#Construct a word to index map and a tag to index map\n",
    "word2idx =  {}\n",
    "tag2idx  =  {}"
   ]
  },
  {
   "cell_type": "code",
   "execution_count": 10,
   "metadata": {
    "pycharm": {
     "name": "#%%\n"
    }
   },
   "outputs": [],
   "source": [
    "X = [[word2idx[w[0]] for w in s]for s in sentences]\n",
    "X = pad_sequences(maxlen = max_len , sequences =X, padding='post', value =num_words-1)\n",
    "\n",
    "y = [[tag2idx[w[2]] for w in s]for s in sentences]\n",
    "y = pad_sequences(maxlen = max_len , sequences =y, padding='post', value =tag2idx[\"O\"])\n",
    "y = [to_categorical(i, num_classes=num_tags) for i in y]\n",
    "\n",
    "# Split X and y into train and val sets.\n",
    "x_train,x_test,y_train,y_test = None\n"
   ]
  },
  {
   "cell_type": "code",
   "execution_count": 11,
   "metadata": {
    "pycharm": {
     "name": "#%%\n"
    }
   },
   "outputs": [
    {
     "name": "stderr",
     "output_type": "stream",
     "text": [
      "2021-07-25 11:15:43.870389: I tensorflow/core/platform/cpu_feature_guard.cc:142] This TensorFlow binary is optimized with oneAPI Deep Neural Network Library (oneDNN) to use the following CPU instructions in performance-critical operations:  AVX2 FMA\n",
      "To enable them in other operations, rebuild TensorFlow with the appropriate compiler flags.\n"
     ]
    },
    {
     "name": "stdout",
     "output_type": "stream",
     "text": [
      "Model: \"model\"\n",
      "_________________________________________________________________\n",
      "Layer (type)                 Output Shape              Param #   \n",
      "=================================================================\n",
      "input_1 (InputLayer)         [(None, 50)]              0         \n",
      "_________________________________________________________________\n",
      "embedding (Embedding)        (None, 50, 50)            1758950   \n",
      "_________________________________________________________________\n",
      "spatial_dropout1d (SpatialDr (None, 50, 50)            0         \n",
      "_________________________________________________________________\n",
      "bidirectional (Bidirectional (None, 50, 200)           120800    \n",
      "_________________________________________________________________\n",
      "time_distributed (TimeDistri (None, 50, 17)            3417      \n",
      "=================================================================\n",
      "Total params: 1,883,167\n",
      "Trainable params: 1,883,167\n",
      "Non-trainable params: 0\n",
      "_________________________________________________________________\n"
     ]
    }
   ],
   "source": [
    "# Create the model, first an Embedding layer. We will add dropout to avoid overfitting, this is a good technique to reproduce in NLP.\n",
    "input_word = Input(shape = (max_len,))\n",
    "model = Embedding( )(input_word)  # Fill\n",
    "model = SpatialDropout1D(0.1)(model)\n",
    "# Add a Bi-LSTM layer. Specify that the previous layer had recurrent_dropout=0.1 such that it is aware.\n",
    "model = None # Fill\n",
    "out = TimeDistributed(Dense(num_tags,activation='softmax'))(model)  # This layer allows to save space by reusing the weights on every word\n",
    "model = None\n",
    "model.summary()"
   ]
  },
  {
   "cell_type": "code",
   "execution_count": 12,
   "metadata": {
    "pycharm": {
     "name": "#%%\n"
    }
   },
   "outputs": [
    {
     "name": "stdout",
     "output_type": "stream",
     "text": [
      "Epoch 1/5\n"
     ]
    },
    {
     "name": "stderr",
     "output_type": "stream",
     "text": [
      "2021-07-25 11:15:44.310281: I tensorflow/compiler/mlir/mlir_graph_optimization_pass.cc:176] None of the MLIR Optimization Passes are enabled (registered 2)\n"
     ]
    },
    {
     "name": "stdout",
     "output_type": "stream",
     "text": [
      "540/540 [==============================] - 45s 77ms/step - loss: 0.2684 - accuracy: 0.9429 - val_loss: 0.1157 - val_accuracy: 0.9672\n",
      "Epoch 2/5\n",
      "540/540 [==============================] - 41s 77ms/step - loss: 0.0781 - accuracy: 0.9779 - val_loss: 0.0601 - val_accuracy: 0.9824\n",
      "Epoch 3/5\n",
      "540/540 [==============================] - 41s 75ms/step - loss: 0.0477 - accuracy: 0.9859 - val_loss: 0.0511 - val_accuracy: 0.9846\n",
      "Epoch 4/5\n",
      "540/540 [==============================] - 41s 76ms/step - loss: 0.0375 - accuracy: 0.9886 - val_loss: 0.0497 - val_accuracy: 0.9850\n",
      "Epoch 5/5\n",
      "540/540 [==============================] - 39s 73ms/step - loss: 0.0316 - accuracy: 0.9902 - val_loss: 0.0486 - val_accuracy: 0.9854\n"
     ]
    }
   ],
   "source": [
    "\n",
    "# Compile and fit the model.\n",
    "history = None"
   ]
  },
  {
   "cell_type": "code",
   "execution_count": 13,
   "metadata": {
    "pycharm": {
     "name": "#%%\n"
    }
   },
   "outputs": [
    {
     "name": "stdout",
     "output_type": "stream",
     "text": [
      "150/150 [==============================] - 1s 9ms/step - loss: 0.0504 - accuracy: 0.9853\n"
     ]
    },
    {
     "data": {
      "text/plain": [
       "[0.05039190128445625, 0.9852502346038818]"
      ]
     },
     "execution_count": 13,
     "metadata": {},
     "output_type": "execute_result"
    }
   ],
   "source": [
    "# Evaluate the model to get the true accuracy\n",
    "model.evaluate(x_test, np.array(y_test))"
   ]
  },
  {
   "cell_type": "code",
   "execution_count": 14,
   "metadata": {
    "pycharm": {
     "name": "#%%\n"
    }
   },
   "outputs": [
    {
     "name": "stdout",
     "output_type": "stream",
     "text": [
      "Word           True \t Pred\n",
      "\n",
      "------------------------------\n",
      "NATO           B-org\tB-org\n",
      "spokesmen      O    \tO\n",
      "Thursday       B-tim\tB-tim\n",
      "declined       O    \tO\n",
      "to             O    \tO\n",
      "say            O    \tO\n",
      "where          O    \tO\n",
      "the            O    \tO\n",
      "search         O    \tO\n",
      "is             O    \tO\n",
      "taking         O    \tO\n",
      "place          O    \tO\n",
      ",              O    \tO\n",
      "citing         O    \tO\n",
      "security       O    \tO\n",
      "reasons        O    \tO\n",
      ".              O    \tO\n",
      "alienate       O    \tO\n",
      "alienate       O    \tO\n",
      "alienate       O    \tO\n",
      "alienate       O    \tO\n",
      "alienate       O    \tO\n",
      "alienate       O    \tO\n",
      "alienate       O    \tO\n",
      "alienate       O    \tO\n",
      "alienate       O    \tO\n",
      "alienate       O    \tO\n",
      "alienate       O    \tO\n",
      "alienate       O    \tO\n",
      "alienate       O    \tO\n",
      "alienate       O    \tO\n",
      "alienate       O    \tO\n",
      "alienate       O    \tO\n",
      "alienate       O    \tO\n",
      "alienate       O    \tO\n",
      "alienate       O    \tO\n",
      "alienate       O    \tO\n",
      "alienate       O    \tO\n",
      "alienate       O    \tO\n",
      "alienate       O    \tO\n",
      "alienate       O    \tO\n",
      "alienate       O    \tO\n",
      "alienate       O    \tO\n",
      "alienate       O    \tO\n",
      "alienate       O    \tO\n",
      "alienate       O    \tO\n",
      "alienate       O    \tO\n",
      "alienate       O    \tO\n",
      "alienate       O    \tO\n",
      "alienate       O    \tO\n"
     ]
    }
   ],
   "source": [
    "# Perform a prediction on a sample sentence and evaluate if all tags were correct\n",
    "i = np.random.randint(0, x_test.shape[0])\n",
    "p = model.predict()  # Fill\n",
    "# Fill"
   ]
  }
 ],
 "metadata": {
  "kernelspec": {
   "display_name": "Python 3 (ipykernel)",
   "language": "python",
   "name": "python3"
  },
  "language_info": {
   "codemirror_mode": {
    "name": "ipython",
    "version": 3
   },
   "file_extension": ".py",
   "mimetype": "text/x-python",
   "name": "python",
   "nbconvert_exporter": "python",
   "pygments_lexer": "ipython3",
   "version": "3.7.3"
  }
 },
 "nbformat": 4,
 "nbformat_minor": 1
}