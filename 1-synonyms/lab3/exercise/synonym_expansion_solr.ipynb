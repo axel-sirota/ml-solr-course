{
 "cells": [
  {
   "cell_type": "code",
   "execution_count": 1,
   "metadata": {},
   "outputs": [],
   "source": [
    "import sys\n",
    "import pysolr\n",
    "\n",
    "import numpy as np\n",
    "\n",
    "np.random.seed(42)\n",
    "\n",
    "import pandas as pd\n",
    "import gensim"
   ]
  },
  {
   "cell_type": "code",
   "execution_count": 2,
   "metadata": {},
   "outputs": [
    {
     "name": "stdout",
     "output_type": "stream",
     "text": [
      "['/Users/axelsirota/repos/ml-solr-course/1-synonyms/lab3', '/Users/axelsirota/.pyenv/versions/3.7.3/lib/python37.zip', '/Users/axelsirota/.pyenv/versions/3.7.3/lib/python3.7', '/Users/axelsirota/.pyenv/versions/3.7.3/lib/python3.7/lib-dynload', '', '/Users/axelsirota/repos/ml-solr-course/.venv/lib/python3.7/site-packages', '/Users/axelsirota/repos/ml-solr-course/.venv/lib/python3.7/site-packages/IPython/extensions', '/Users/axelsirota/.ipython']\n",
      "/Users/axelsirota/repos/ml-solr-course\n"
     ]
    }
   ],
   "source": [
    "# In case your sys.path does not contain the base repo, cd there.\n",
    "print(sys.path)\n",
    "%cd 'PATH_OF_BASE_REPO'  # In the solution it will be the path to my repo. This is such that python loads al the files from the top."
   ]
  },
  {
   "cell_type": "code",
   "execution_count": 3,
   "metadata": {
    "pycharm": {
     "name": "#%%\n"
    }
   },
   "outputs": [],
   "source": [
    "# Create a client instance t the airbnb core\n",
    "solr = None"
   ]
  },
  {
   "cell_type": "code",
   "execution_count": 4,
   "metadata": {
    "pycharm": {
     "name": "#%%\n"
    }
   },
   "outputs": [
    {
     "name": "stdout",
     "output_type": "stream",
     "text": [
      "Number of results were 1\n"
     ]
    }
   ],
   "source": [
    "query = 'pint'  # Maybe we have some Brits trying to find rentals close to bars\n",
    "results = [] # Search in Solr, in the airbnb core, for the top 100 results matching the query\n",
    "print(f'Number of results were {len(results)}')"
   ]
  },
  {
   "cell_type": "markdown",
   "metadata": {},
   "source": [
    "Check the number of results!"
   ]
  },
  {
   "cell_type": "code",
   "execution_count": 5,
   "metadata": {},
   "outputs": [
    {
     "name": "stdout",
     "output_type": "stream",
     "text": [
      "The ID is 14382598 and title is Wyndham Midtown 45 Resort: Hotel Room\n"
     ]
    }
   ],
   "source": [
    "for result in results:\n",
    "    print(f'The ID is {result[\"id\"]} and title is {result[\"name\"]}')\n"
   ]
  },
  {
   "cell_type": "markdown",
   "metadata": {},
   "source": [
    "Let's load the pretrained Glove vector embeddings fine tuned!"
   ]
  },
  {
   "cell_type": "code",
   "execution_count": 6,
   "metadata": {
    "pycharm": {
     "name": "#%%\n"
    }
   },
   "outputs": [],
   "source": [
    "w2v = gensim.models.KeyedVectors.load_word2vec_format('./1-synonyms/lab3/vectors.txt', binary=False)"
   ]
  },
  {
   "cell_type": "code",
   "execution_count": 1,
   "metadata": {},
   "outputs": [],
   "source": [
    "synonyms = None # Use the most_similar method to find the 25 most similar words to the query"
   ]
  },
  {
   "cell_type": "code",
   "execution_count": 8,
   "metadata": {},
   "outputs": [
    {
     "data": {
      "text/plain": [
       "[('pints', 0.747567892074585),\n",
       " ('bottle', 0.6247488856315613),\n",
       " ('bottles', 0.5730443596839905),\n",
       " ('cups', 0.5670326948165894),\n",
       " ('vodka', 0.5636795163154602),\n",
       " ('ounces', 0.5601196885108948),\n",
       " ('cans', 0.5491657853126526),\n",
       " ('jar', 0.5482896566390991),\n",
       " ('cream', 0.5460001230239868),\n",
       " ('strawberries', 0.5449832677841187),\n",
       " ('soda', 0.5366682410240173),\n",
       " ('yogurt', 0.5353776216506958),\n",
       " ('glasses', 0.5322164297103882),\n",
       " ('cubes', 0.5320003628730774),\n",
       " ('beer', 0.5248038172721863),\n",
       " ('cognac', 0.5157261490821838),\n",
       " ('juice', 0.5032832026481628),\n",
       " ('whiskey', 0.4948011636734009),\n",
       " ('milliliters', 0.4896450638771057),\n",
       " ('chocolate', 0.48626217246055603),\n",
       " ('broth', 0.4837869703769684),\n",
       " ('vanilla', 0.4810090661048889),\n",
       " ('cartons', 0.48080769181251526),\n",
       " ('drinks', 0.47991934418678284),\n",
       " ('egg', 0.4789937436580658)]"
      ]
     },
     "execution_count": 8,
     "metadata": {},
     "output_type": "execute_result"
    }
   ],
   "source": [
    "synonyms"
   ]
  },
  {
   "cell_type": "code",
   "execution_count": 9,
   "metadata": {},
   "outputs": [],
   "source": [
    "new_query = None  # Join all those synonyms together separated by spaces to create an abnominal query that will have way more chance of finding the rentals we want."
   ]
  },
  {
   "cell_type": "code",
   "execution_count": 11,
   "metadata": {},
   "outputs": [
    {
     "name": "stdout",
     "output_type": "stream",
     "text": [
      "Number of results were 100\n"
     ]
    }
   ],
   "source": [
    "results = []  # Search again but with the new_query"
   ]
  },
  {
   "cell_type": "code",
   "execution_count": 12,
   "metadata": {},
   "outputs": [
    {
     "name": "stdout",
     "output_type": "stream",
     "text": [
      "The ID is 8942467 and title is Your own hip and cozy 1BD apartment\n",
      "The ID is 21723666 and title is Private cozy room in E. Flatbush\n",
      "The ID is 3580577 and title is Park Slope beauty\n",
      "The ID is 48427436 and title is Clean, Quiet, Cozy like home rooms\n",
      "The ID is 45069853 and title is Prime Nolita Manhattan Full Apt 1Bed & 1Bath\n",
      "The ID is 13613919 and title is Sunny, kid friendly apt in Carroll Gardens\n",
      "The ID is 13881622 and title is Comfy Williamsburg townhouse 950sf w gorgeous yard\n",
      "The ID is 17796480 and title is PRIVATE ROOM near JFK & La Guardia\n",
      "The ID is 1766846 and title is East Village Private Guest Studio - Sanitized\n",
      "The ID is 12387018 and title is Modern 1BR in Downtown Manhattan\n",
      "The ID is 21426648 and title is Bright Airy 1 Bedroom Studio in Prime Downtown NYC\n",
      "The ID is 32932554 and title is Beauty of Brooklyn and short  ride to Manhattan.\n",
      "The ID is 13065655 and title is Charming 1BR in Astoria with HUGE Outdoor Space!\n",
      "The ID is 20133468 and title is The Luxurious Business Getaway | Laptop Friendly\n",
      "The ID is 20333471 and title is Companions Cove | Ideal for Traveling Buddies\n",
      "The ID is 20395608 and title is Cozy Private Nest | Walk/Transit Score 85+ |\n",
      "The ID is 45326505 and title is Newly Renovated 3 Bedroom Home WITH Garage\n",
      "The ID is 4498927 and title is Manhattan townhouse near subway\n",
      "The ID is 4659285 and title is Manhattan! Bunk beds for 10\n",
      "The ID is 19999527 and title is Comfy Spacious Getaway | Walk/Transit Score 85+\n",
      "The ID is 30112494 and title is Huge, super-clean and elegant!\n",
      "The ID is 31796691 and title is Spacious 2 bedroom apt in Bensonhurst\n",
      "The ID is 30662063 and title is Margaret's Place | Studio Apartment\n",
      "The ID is 41319863 and title is UES Large 1Bedroom Exposed Brick NYC Classic Style\n",
      "The ID is 8506757 and title is Brownstone in Brooklyn Heights\n",
      "The ID is 42356174 and title is Cozy basement apartment, three bedroom, parking\n",
      "The ID is 13661280 and title is Room in Carroll Gardens\n",
      "The ID is 45850416 and title is Beautiful private room in South Williamsburg\n",
      "The ID is 29881712 and title is Home Away from Home - Manhattan\n",
      "The ID is 25919220 and title is Massive Bedroom w/Private Yard. NYC/Williamsburg\n",
      "The ID is 7696654 and title is Spacious  Harlem 1-Br. Terrace Apt with Doorman\n",
      "The ID is 29630099 and title is Beauty in the heart of downtown Brooklyn\n",
      "The ID is 13530958 and title is Basically Your Own Apartment: Cobble Hill Gem\n",
      "The ID is 18993091 and title is Brooklyn Spacious Hip+Cosy Room in 2 bdr apartment\n",
      "The ID is 42065555 and title is Pod Hotel BK\n",
      "The ID is 19330742 and title is Sunlit Private Room & Balcony in Trendy Bushwick\n",
      "The ID is 19532789 and title is 1st Floor Entire 2 Bedroom Cozy & Clean Apartment\n",
      "The ID is 35030571 and title is Hippy Home in the Heart of Astoria\n",
      "The ID is 21667120 and title is 2 BED Manhattan Condo with Balcony & Laundry\n",
      "The ID is 39611984 and title is Miko's Terrace - Private Room with Light Breakfast\n",
      "The ID is 25626152 and title is Comfortable Flatbush Bedroom & Living Room (Rm# 3)\n",
      "The ID is 13275896 and title is Gorgeous exclusive Room with all amenities, gym\n",
      "The ID is 25006193 and title is Barclays Place - An Idyllic One Bedroom Apartment\n",
      "The ID is 43855371 and title is A cozy room in Prime Williamsburg\n",
      "The ID is 32788877 and title is Private Queen Room in 2Br on Broadway Astoria\n",
      "The ID is 43535987 and title is Modern Loft with private Backyard Theatre District\n",
      "The ID is 380730 and title is Luxury L-Shape Studio + 3 cats\n",
      "The ID is 12253809 and title is Beautiful View of Hudson and City\n",
      "The ID is 6748711 and title is Awesomely Sunny 1 Bedroom w Balcony\n",
      "The ID is 13167611 and title is Massive Astoria apartment minutes from Manhattan!\n",
      "The ID is 6649555 and title is Amazing 1BR - heart of West Village\n",
      "The ID is 10068269 and title is Large Rm In Williamsburg, Brooklyn\n",
      "The ID is 38935166 and title is Private Entrance Bedroom Astoria\n",
      "The ID is 1151343 and title is Private large room up to 3 guests on park\n",
      "The ID is 2529085 and title is Sunny luxury in Bklyn's best hood\n",
      "The ID is 10040649 and title is Sunny and spacious corner apartment\n",
      "The ID is 12110663 and title is Large Quiet Bedroom in South Harlem\n",
      "The ID is 24043603 and title is Experience Brownstone Living in Brooklyn!\n",
      "The ID is 38742891 and title is Luxury 3 beds 2 bath Apartment in meatpacking\n",
      "The ID is 39371379 and title is Extra-Lux Executive Penthouse With Private Rooftop\n",
      "The ID is 42625184 and title is Nice & large dining area &  2 min to Subway\n",
      "The ID is 43358209 and title is Amazing 1 bedroom in Gramercy Park\n",
      "The ID is 32990282 and title is Cozy 1BR APT in the heart of Astoria\n",
      "The ID is 14421313 and title is Cozy Room, Clean & Quiet, Free laundry\n",
      "The ID is 22231453 and title is HEART OF WILLIAMSBURG APARTMENT COZY&PRIVATE\n",
      "The ID is 22568702 and title is Luxe North Williamsburg Double Bedroom Brooklyn\n",
      "The ID is 17025412 and title is Nolita Bohemian Charmer\n",
      "The ID is 10282307 and title is Ideal Brooklyn Location/Spacious+Bright 1-Bed\n",
      "The ID is 16005448 and title is East Village Jewel\n",
      "The ID is 48255376 and title is The Taproom\n",
      "The ID is 10390902 and title is Cozy spot off L train - 20min>City\n",
      "The ID is 22231557 and title is Cozy Apartment in Williamsburg\n",
      "The ID is 22446479 and title is •COZY APARTMENT IN BEDFORD AREA, 5 MINS MANHATTAN•\n",
      "The ID is 27644 and title is Sugar Hill Rest Stop\n",
      "The ID is 1793104 and title is Hamilton Heights Place\n",
      "The ID is 8173001 and title is Sunny, serene airport NYC getaway\n",
      "The ID is 18455830 and title is Charming 2 bedroom apartment in Brooklyn\n",
      "The ID is 26655705 and title is CESAR'S PALACE (For traveling nurses /quarantine)\n",
      "The ID is 27195600 and title is The Castle 3rd floor Private Apartment\n",
      "The ID is 39265162 and title is Luxury Doorman High-Rise With Balcony\n",
      "The ID is 41582140 and title is Modern Loft with private Backyard in Times Sq\n",
      "The ID is 43562641 and title is Huge Brooklyn Loft with Pool Table and City View\n",
      "The ID is 41033943 and title is Entire one bedroom apt with Roof access & NYC View\n",
      "The ID is 40620977 and title is Relax at the Blue Lagoon\n",
      "The ID is 44413416 and title is Cozy Renovated Studio: Private Entrance, Yard, WFH\n",
      "The ID is 26557266 and title is Cozy private Room in 2 bedrooms appt\n",
      "The ID is 5077231 and title is Charming Bright Upper East Space\n",
      "The ID is 14824160 and title is NYC Photographers Loft\n",
      "The ID is 18668322 and title is Spacious and bright room with working table\n",
      "The ID is 34336135 and title is Shanel's 2 BR Apt 5 mins from JFK\n",
      "The ID is 8955506 and title is Large Room in Artist Loft\n",
      "The ID is 40502336 and title is Furnished Room  Bushwick 3Br/2Bth Dekalb/Jefferson\n",
      "The ID is 44010749 and title is Large, Light-Filled Room in Hell's Kitchen\n",
      "The ID is 28068573 and title is Gorgeous large bedroom in Prime Williamsburg\n",
      "The ID is 15604993 and title is Williambsurg 2 Bed prime location!\n",
      "The ID is 40529516 and title is Cozy Home in the Heart of E. Village/Alphabet City\n",
      "The ID is 22192285 and title is City accommodation-1br\n",
      "The ID is 40484913 and title is Cozy private room in Harlem apartment\n",
      "The ID is 13398406 and title is Big Room, Big Living Room, Rooftop Hot Tub\n",
      "The ID is 13978228 and title is Airy Bright 1 Bedroom in Heart of Greenpoint BK\n"
     ]
    }
   ],
   "source": [
    "for result in results:\n",
    "    print(f'The ID is {result[\"id\"]} and title is {result[\"name\"]}')\n"
   ]
  },
  {
   "cell_type": "markdown",
   "metadata": {},
   "source": [
    "What happened? Usually with a simple algorithm we can easily boost the chances of finding what we want without the user having to think in advance, thanks to AI."
   ]
  },
  {
   "cell_type": "code",
   "execution_count": null,
   "metadata": {},
   "outputs": [],
   "source": []
  }
 ],
 "metadata": {
  "kernelspec": {
   "display_name": "local-venv",
   "language": "python",
   "name": "local-venv"
  },
  "language_info": {
   "codemirror_mode": {
    "name": "ipython",
    "version": 3
   },
   "file_extension": ".py",
   "mimetype": "text/x-python",
   "name": "python",
   "nbconvert_exporter": "python",
   "pygments_lexer": "ipython3",
   "version": "3.7.3"
  }
 },
 "nbformat": 4,
 "nbformat_minor": 1
}