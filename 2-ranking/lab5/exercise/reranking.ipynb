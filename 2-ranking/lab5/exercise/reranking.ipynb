{
 "cells": [
  {
   "cell_type": "code",
   "execution_count": 1,
   "metadata": {},
   "outputs": [],
   "source": [
    "import sys\n",
    "\n",
    "import numpy as np\n",
    "import pysolr\n",
    "from gensim.models import Doc2Vec\n",
    "\n",
    "np.random.seed(42)\n",
    "import smart_open\n",
    "import pandas as pd\n",
    "import gensim"
   ]
  },
  {
   "cell_type": "code",
   "execution_count": 2,
   "metadata": {},
   "outputs": [
    {
     "name": "stdout",
     "output_type": "stream",
     "text": [
      "['/Users/axelsirota/repos/ml-solr-course/2-ranking/lab5', '/Users/axelsirota/.pyenv/versions/3.7.3/lib/python37.zip', '/Users/axelsirota/.pyenv/versions/3.7.3/lib/python3.7', '/Users/axelsirota/.pyenv/versions/3.7.3/lib/python3.7/lib-dynload', '', '/Users/axelsirota/repos/ml-solr-course/.venv/lib/python3.7/site-packages', '/Users/axelsirota/repos/ml-solr-course/.venv/lib/python3.7/site-packages/IPython/extensions', '/Users/axelsirota/.ipython']\n",
      "/Users/axelsirota/repos/ml-solr-course\n"
     ]
    }
   ],
   "source": [
    "# In case your sys.path does not contain the base repo, cd there.\n",
    "print(sys.path)\n",
    "%cd 'PATH_OF_BASE_REPO'  # In the solution it will be the path to my repo. This is such that python loads al the files from the top."
   ]
  },
  {
   "cell_type": "code",
   "execution_count": 3,
   "metadata": {
    "pycharm": {
     "name": "#%%\n"
    }
   },
   "outputs": [
    {
     "name": "stdout",
     "output_type": "stream",
     "text": [
      "Model loaded\n"
     ]
    }
   ],
   "source": [
    "model_path = '2-ranking/lab4/airbnb_model'\n",
    "query = 'Midtown sunny chateau'\n",
    "number_of_initial_retrieved = 100\n",
    "model = None # Load the Doc2Vec model from lab4\n",
    "print(f'Model loaded')"
   ]
  },
  {
   "cell_type": "code",
   "execution_count": 5,
   "metadata": {
    "pycharm": {
     "name": "#%%\n"
    }
   },
   "outputs": [],
   "source": [
    "#Instantiate the client\n",
    "solr = None"
   ]
  },
  {
   "cell_type": "code",
   "execution_count": 6,
   "metadata": {
    "pycharm": {
     "name": "#%%\n"
    }
   },
   "outputs": [
    {
     "name": "stdout",
     "output_type": "stream",
     "text": [
      "Number of results were 100\n"
     ]
    }
   ],
   "source": [
    "#Search for the query\n",
    "results = []\n",
    "print(f'Number of results were {len(results)}')"
   ]
  },
  {
   "cell_type": "code",
   "execution_count": 7,
   "metadata": {
    "pycharm": {
     "name": "#%%\n"
    }
   },
   "outputs": [],
   "source": [
    "# Use the same simple_preprocess from the last lab 4 to tokenize the query\n",
    "tokenized_query = list()"
   ]
  },
  {
   "cell_type": "code",
   "execution_count": 8,
   "metadata": {},
   "outputs": [
    {
     "data": {
      "text/plain": [
       "['midtown', 'sunny', 'chateau']"
      ]
     },
     "execution_count": 8,
     "metadata": {},
     "output_type": "execute_result"
    }
   ],
   "source": [
    "tokenized_query"
   ]
  },
  {
   "cell_type": "code",
   "execution_count": 9,
   "metadata": {
    "pycharm": {
     "name": "#%%\n"
    }
   },
   "outputs": [
    {
     "name": "stdout",
     "output_type": "stream",
     "text": [
      "[ 0.04611075 -0.01602785 -0.05042642  0.00813507  0.08141993 -0.05650167\n",
      " -0.04308004  0.02841107  0.11073185  0.00939624 -0.08110334  0.03788716\n",
      "  0.08754482 -0.00233287  0.04030268  0.00047163  0.0081155   0.07037532\n",
      " -0.08151705  0.10196422  0.01592677 -0.00575189 -0.12328304 -0.0444117\n",
      "  0.05165997 -0.02518846  0.00267151 -0.06886391 -0.03039369  0.01192806\n",
      " -0.04475749  0.05799579 -0.02835805  0.00595889 -0.02112346  0.01466438\n",
      "  0.02133428  0.02144625 -0.00342025  0.03254068 -0.05119841 -0.0741892\n",
      "  0.07039563  0.01408158  0.0570154   0.00671781 -0.07529804 -0.00776306\n",
      "  0.04450541 -0.08031283  0.00220784  0.0538672   0.02823217  0.10577902\n",
      "  0.05967656 -0.00432712  0.0526036   0.01252659  0.03371542 -0.04590331\n",
      "  0.06799655  0.05211353  0.0330506  -0.02344496  0.06321384  0.01104139\n",
      " -0.04707532  0.0724569   0.11450286  0.06106732 -0.01568583  0.02030839\n",
      " -0.04875635 -0.05453167 -0.01567344 -0.02905013  0.04325688 -0.05714364\n",
      "  0.00621019 -0.01695368 -0.03705302  0.02718671  0.04881889 -0.06144463\n",
      "  0.06470003  0.06747368  0.03631894 -0.05419226  0.0263591   0.02908085\n",
      " -0.01278866 -0.0050431  -0.00146253 -0.02322826 -0.1228766  -0.08448089\n",
      " -0.04015017  0.01076211 -0.00117837  0.01650558]\n"
     ]
    }
   ],
   "source": [
    "inferred_vector = model.infer_vector(tokenized_query)\n",
    "print(inferred_vector)"
   ]
  },
  {
   "cell_type": "code",
   "execution_count": 10,
   "metadata": {},
   "outputs": [],
   "source": [
    "df_results = pd.DataFrame(results)\n",
    "similarities = []\n",
    "for result in results:\n",
    "    similarity = 0 # Find the similarity between the query and the result using gensim similarity_unseen_docs method\n",
    "    similarities.append(similarity)\n",
    "df_results[\"Similarity\"] = pd.Series(similarities)  # We store the similarities to order"
   ]
  },
  {
   "cell_type": "markdown",
   "source": [
    "Ok, what we have done is do the query against Solr, then finding the similarity between the descriptions of the query and the results.\n",
    "\n",
    "The idea behind the algorithm would be to reorder the results based on the similarity score, not on BM25. Let's see which one is better.\n"
   ],
   "metadata": {
    "collapsed": false,
    "pycharm": {
     "name": "#%% md\n"
    }
   }
  },
  {
   "cell_type": "code",
   "execution_count": 11,
   "metadata": {
    "pycharm": {
     "name": "#%%\n"
    }
   },
   "outputs": [
    {
     "data": {
      "text/html": [
       "<div>\n",
       "<style scoped>\n",
       "    .dataframe tbody tr th:only-of-type {\n",
       "        vertical-align: middle;\n",
       "    }\n",
       "\n",
       "    .dataframe tbody tr th {\n",
       "        vertical-align: top;\n",
       "    }\n",
       "\n",
       "    .dataframe thead th {\n",
       "        text-align: right;\n",
       "    }\n",
       "</style>\n",
       "<table border=\"1\" class=\"dataframe\">\n",
       "  <thead>\n",
       "    <tr style=\"text-align: right;\">\n",
       "      <th></th>\n",
       "      <th>id</th>\n",
       "      <th>listing_url</th>\n",
       "      <th>name</th>\n",
       "      <th>description</th>\n",
       "      <th>neighborhood_overview</th>\n",
       "      <th>host_id</th>\n",
       "      <th>host_url</th>\n",
       "      <th>host_name</th>\n",
       "      <th>neighbourhood</th>\n",
       "      <th>neighbourhood_cleansed</th>\n",
       "      <th>...</th>\n",
       "      <th>accommodates</th>\n",
       "      <th>bathrooms_text</th>\n",
       "      <th>bedrooms</th>\n",
       "      <th>beds</th>\n",
       "      <th>amenities</th>\n",
       "      <th>price</th>\n",
       "      <th>number_of_reviews</th>\n",
       "      <th>reviews_per_month</th>\n",
       "      <th>_version_</th>\n",
       "      <th>Similarity</th>\n",
       "    </tr>\n",
       "  </thead>\n",
       "  <tbody>\n",
       "    <tr>\n",
       "      <th>0</th>\n",
       "      <td>10684164</td>\n",
       "      <td>https://www.airbnb.com/rooms/10684164</td>\n",
       "      <td>Private 1 Bdrm Apt - Prospect Park</td>\n",
       "      <td>Located in the beautiful Chateau Frontenac, Br...</td>\n",
       "      <td>A nice retreat from the city, this area of Pro...</td>\n",
       "      <td>19227044</td>\n",
       "      <td>https://www.airbnb.com/users/show/19227044</td>\n",
       "      <td>Adam</td>\n",
       "      <td>Brooklyn, New York, United States</td>\n",
       "      <td>Flatbush</td>\n",
       "      <td>...</td>\n",
       "      <td>4</td>\n",
       "      <td>1 bath</td>\n",
       "      <td>1.0</td>\n",
       "      <td>2.0</td>\n",
       "      <td>[\"Kitchen\", \"TV\", \"Essentials\", \"Washer\", \"Dry...</td>\n",
       "      <td>$75.00</td>\n",
       "      <td>1</td>\n",
       "      <td>[0.02]</td>\n",
       "      <td>1706113109094039552</td>\n",
       "      <td>0.290233</td>\n",
       "    </tr>\n",
       "    <tr>\n",
       "      <th>1</th>\n",
       "      <td>4248788</td>\n",
       "      <td>https://www.airbnb.com/rooms/4248788</td>\n",
       "      <td>W70s Lg. Studio with outdoor space</td>\n",
       "      <td>Welcome to the chateau 70-something! This larg...</td>\n",
       "      <td>Charming townhouse on tree-lined Street. &lt;br /...</td>\n",
       "      <td>22047286</td>\n",
       "      <td>https://www.airbnb.com/users/show/22047286</td>\n",
       "      <td>Chloe</td>\n",
       "      <td>New York, United States</td>\n",
       "      <td>Upper West Side</td>\n",
       "      <td>...</td>\n",
       "      <td>2</td>\n",
       "      <td>1 bath</td>\n",
       "      <td>NaN</td>\n",
       "      <td>1.0</td>\n",
       "      <td>[\"Heating\", \"TV\", \"Fire extinguisher\", \"Carbon...</td>\n",
       "      <td>$250.00</td>\n",
       "      <td>5</td>\n",
       "      <td>[0.07]</td>\n",
       "      <td>1706113107789611008</td>\n",
       "      <td>0.264746</td>\n",
       "    </tr>\n",
       "    <tr>\n",
       "      <th>2</th>\n",
       "      <td>48270841</td>\n",
       "      <td>https://www.airbnb.com/rooms/48270841</td>\n",
       "      <td>Romantic East Village Getaway</td>\n",
       "      <td>Welcome to the french chateau in the trees. Th...</td>\n",
       "      <td>The apartment is located in the heart of the E...</td>\n",
       "      <td>202489613</td>\n",
       "      <td>https://www.airbnb.com/users/show/202489613</td>\n",
       "      <td>Louis</td>\n",
       "      <td>New York, United States</td>\n",
       "      <td>Gramercy</td>\n",
       "      <td>...</td>\n",
       "      <td>2</td>\n",
       "      <td>1 bath</td>\n",
       "      <td>1.0</td>\n",
       "      <td>1.0</td>\n",
       "      <td>[\"Kitchen\", \"TV\", \"Hangers\", \"Washer\", \"Essent...</td>\n",
       "      <td>$120.00</td>\n",
       "      <td>0</td>\n",
       "      <td>NaN</td>\n",
       "      <td>1706113115864694787</td>\n",
       "      <td>0.268404</td>\n",
       "    </tr>\n",
       "    <tr>\n",
       "      <th>3</th>\n",
       "      <td>39920510</td>\n",
       "      <td>https://www.airbnb.com/rooms/39920510</td>\n",
       "      <td>Large Elevator 1 Bedroom Best Location</td>\n",
       "      <td>Sunny &amp; Spacious furnished apartment with an a...</td>\n",
       "      <td>NaN</td>\n",
       "      <td>61391963</td>\n",
       "      <td>https://www.airbnb.com/users/show/61391963</td>\n",
       "      <td>Stay With Vibe</td>\n",
       "      <td>NaN</td>\n",
       "      <td>Midtown</td>\n",
       "      <td>...</td>\n",
       "      <td>3</td>\n",
       "      <td>1 bath</td>\n",
       "      <td>1.0</td>\n",
       "      <td>2.0</td>\n",
       "      <td>[\"Essentials\", \"Dryer\", \"Long term stays allow...</td>\n",
       "      <td>$87.00</td>\n",
       "      <td>4</td>\n",
       "      <td>[0.26]</td>\n",
       "      <td>1706113113706725380</td>\n",
       "      <td>0.467339</td>\n",
       "    </tr>\n",
       "    <tr>\n",
       "      <th>4</th>\n",
       "      <td>15721847</td>\n",
       "      <td>https://www.airbnb.com/rooms/15721847</td>\n",
       "      <td>Colorful Artist Loft w. your own Ocean Oasis</td>\n",
       "      <td>The Broadway Chateau, as it's known, is a uniq...</td>\n",
       "      <td>We are in a classic south Williamsburg nabe fi...</td>\n",
       "      <td>909710</td>\n",
       "      <td>https://www.airbnb.com/users/show/909710</td>\n",
       "      <td>Claire</td>\n",
       "      <td>Brooklyn, New York, United States</td>\n",
       "      <td>Williamsburg</td>\n",
       "      <td>...</td>\n",
       "      <td>1</td>\n",
       "      <td>1 shared bath</td>\n",
       "      <td>1.0</td>\n",
       "      <td>1.0</td>\n",
       "      <td>[\"Dishes and silverware\", \"Smoke alarm\", \"Stov...</td>\n",
       "      <td>$49.00</td>\n",
       "      <td>17</td>\n",
       "      <td>[0.32]</td>\n",
       "      <td>1706113109836431361</td>\n",
       "      <td>0.195381</td>\n",
       "    </tr>\n",
       "  </tbody>\n",
       "</table>\n",
       "<p>5 rows × 22 columns</p>\n",
       "</div>"
      ],
      "text/plain": [
       "         id                            listing_url  \\\n",
       "0  10684164  https://www.airbnb.com/rooms/10684164   \n",
       "1   4248788   https://www.airbnb.com/rooms/4248788   \n",
       "2  48270841  https://www.airbnb.com/rooms/48270841   \n",
       "3  39920510  https://www.airbnb.com/rooms/39920510   \n",
       "4  15721847  https://www.airbnb.com/rooms/15721847   \n",
       "\n",
       "                                           name  \\\n",
       "0            Private 1 Bdrm Apt - Prospect Park   \n",
       "1            W70s Lg. Studio with outdoor space   \n",
       "2                 Romantic East Village Getaway   \n",
       "3        Large Elevator 1 Bedroom Best Location   \n",
       "4  Colorful Artist Loft w. your own Ocean Oasis   \n",
       "\n",
       "                                         description  \\\n",
       "0  Located in the beautiful Chateau Frontenac, Br...   \n",
       "1  Welcome to the chateau 70-something! This larg...   \n",
       "2  Welcome to the french chateau in the trees. Th...   \n",
       "3  Sunny & Spacious furnished apartment with an a...   \n",
       "4  The Broadway Chateau, as it's known, is a uniq...   \n",
       "\n",
       "                               neighborhood_overview    host_id  \\\n",
       "0  A nice retreat from the city, this area of Pro...   19227044   \n",
       "1  Charming townhouse on tree-lined Street. <br /...   22047286   \n",
       "2  The apartment is located in the heart of the E...  202489613   \n",
       "3                                                NaN   61391963   \n",
       "4  We are in a classic south Williamsburg nabe fi...     909710   \n",
       "\n",
       "                                      host_url       host_name  \\\n",
       "0   https://www.airbnb.com/users/show/19227044            Adam   \n",
       "1   https://www.airbnb.com/users/show/22047286           Chloe   \n",
       "2  https://www.airbnb.com/users/show/202489613           Louis   \n",
       "3   https://www.airbnb.com/users/show/61391963  Stay With Vibe   \n",
       "4     https://www.airbnb.com/users/show/909710          Claire   \n",
       "\n",
       "                       neighbourhood neighbourhood_cleansed  ... accommodates  \\\n",
       "0  Brooklyn, New York, United States               Flatbush  ...            4   \n",
       "1            New York, United States        Upper West Side  ...            2   \n",
       "2            New York, United States               Gramercy  ...            2   \n",
       "3                                NaN                Midtown  ...            3   \n",
       "4  Brooklyn, New York, United States           Williamsburg  ...            1   \n",
       "\n",
       "  bathrooms_text  bedrooms beds  \\\n",
       "0         1 bath       1.0  2.0   \n",
       "1         1 bath       NaN  1.0   \n",
       "2         1 bath       1.0  1.0   \n",
       "3         1 bath       1.0  2.0   \n",
       "4  1 shared bath       1.0  1.0   \n",
       "\n",
       "                                           amenities    price  \\\n",
       "0  [\"Kitchen\", \"TV\", \"Essentials\", \"Washer\", \"Dry...   $75.00   \n",
       "1  [\"Heating\", \"TV\", \"Fire extinguisher\", \"Carbon...  $250.00   \n",
       "2  [\"Kitchen\", \"TV\", \"Hangers\", \"Washer\", \"Essent...  $120.00   \n",
       "3  [\"Essentials\", \"Dryer\", \"Long term stays allow...   $87.00   \n",
       "4  [\"Dishes and silverware\", \"Smoke alarm\", \"Stov...   $49.00   \n",
       "\n",
       "  number_of_reviews reviews_per_month            _version_ Similarity  \n",
       "0                 1            [0.02]  1706113109094039552   0.290233  \n",
       "1                 5            [0.07]  1706113107789611008   0.264746  \n",
       "2                 0               NaN  1706113115864694787   0.268404  \n",
       "3                 4            [0.26]  1706113113706725380   0.467339  \n",
       "4                17            [0.32]  1706113109836431361   0.195381  \n",
       "\n",
       "[5 rows x 22 columns]"
      ]
     },
     "execution_count": 11,
     "metadata": {},
     "output_type": "execute_result"
    }
   ],
   "source": [
    "df_results.head()"
   ]
  },
  {
   "cell_type": "code",
   "execution_count": 12,
   "metadata": {
    "pycharm": {
     "name": "#%%\n"
    }
   },
   "outputs": [],
   "source": [
    "a = None # Sort the df_results by similarity column in descending order"
   ]
  },
  {
   "cell_type": "code",
   "execution_count": 13,
   "metadata": {
    "pycharm": {
     "name": "#%%\n"
    }
   },
   "outputs": [],
   "source": [
    "a = a[:10].reset_index(drop=True)"
   ]
  },
  {
   "cell_type": "code",
   "execution_count": 15,
   "metadata": {},
   "outputs": [
    {
     "name": "stdout",
     "output_type": "stream",
     "text": [
      "Most similar document after reranking within retrieved results has description: \n",
      "\n",
      "Sunny, contemporary, spacious and newly renovated 2-bedroom Astoria apartment, one block from the Astoria-Ditmars N/W subway stop. <br /><br />Just 15 minutes on the subway to midtown Manhattan! Hardwood floors throughout, large windows, full kitchen and living room, bathroom and beautiful bedroom, all within a gated community in a safe area.<br /><br />Spend your visit to NYC living like the locals with quick access to midtown Manhattan and several hidden treasures in the historic, trendy Astoria neighborhood.\n",
      "With similarity: 0.5624656081199646\n"
     ]
    }
   ],
   "source": [
    "print(f'Most similar document after reranking within retrieved results has description: \\n\\n{a[\"description\"].iloc[0]}\\nWith similarity: {a[\"Similarity\"].iloc[0]}')"
   ]
  },
  {
   "cell_type": "code",
   "execution_count": 17,
   "metadata": {},
   "outputs": [
    {
     "name": "stdout",
     "output_type": "stream",
     "text": [
      "Most similar document before reranking within retrieved results has description: \n",
      "\n",
      "Located in the beautiful Chateau Frontenac, Brooklyn. Built in the 1920s, this building offers a taste of Brooklyn's old school charm and easy access to Prospect Park. 750 Sq Ft, with large bedroom, living room and kitchen. Lots of sunlight.<br /><br /><b>The space</b><br />Located in the Flatbush neighborhood of Brooklyn and built circa 1930, The Chateau Frontenac Apartments bring the grandeur of a Manhattan-style courtyard residence to middle-class Brooklyn. Designed by Architect William Thomas McCarthy, these were some of the last single-family homes built in Park Slope; and some of the most iconic housing projects in New York City.<br /><br /><b>Guest access</b><br />You will have full access to the apartment's living spaces - large bedroom, kitchen, living room, and bathroom.\n",
      "With similarity: 0.29023319482803345\n"
     ]
    }
   ],
   "source": [
    "print(f'Most similar document before reranking within retrieved results has description: \\n\\n{df_results[\"description\"].iloc[0]}\\nWith similarity: {df_results[\"Similarity\"].iloc[0]}')\n"
   ]
  },
  {
   "cell_type": "code",
   "execution_count": 16,
   "metadata": {},
   "outputs": [
    {
     "name": "stdout",
     "output_type": "stream",
     "text": [
      "Number of documents that surpass 0.5 similarity threshold: 8\n"
     ]
    }
   ],
   "source": [
    "print(f'Number of documents that surpass 0.5 similarity threshold: {len(a[a[\"Similarity\"] >= 0.5])}')"
   ]
  },
  {
   "cell_type": "markdown",
   "metadata": {
    "pycharm": {
     "name": "#%% md\n"
    }
   },
   "source": [
    "It is remarkable how using DBOW the most similar result understood the need for midtown apartments that are chateaus. On the other hand the traditional top result ponderated chateau more just because it is a rare word.\n",
    "\n",
    "It is not a perfect method, but a very good indication. A good idea is to have something like this **between** the raw results (thousands), filter them by similarity (hundreds) and then have a learning to rank recommender (dozens).\n",
    "\n",
    "Tensorflow has opensources TF Recommenders which is great to plug in as an algorithm **after** these results. But this alone would work just fine."
   ]
  }
 ],
 "metadata": {
  "kernelspec": {
   "display_name": "local-venv",
   "language": "python",
   "name": "local-venv"
  },
  "language_info": {
   "codemirror_mode": {
    "name": "ipython",
    "version": 3
   },
   "file_extension": ".py",
   "mimetype": "text/x-python",
   "name": "python",
   "nbconvert_exporter": "python",
   "pygments_lexer": "ipython3",
   "version": "3.7.3"
  }
 },
 "nbformat": 4,
 "nbformat_minor": 1
}