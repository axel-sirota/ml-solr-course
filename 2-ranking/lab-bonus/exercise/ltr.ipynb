{
 "cells": [
  {
   "cell_type": "code",
   "execution_count": 18,
   "metadata": {},
   "outputs": [],
   "source": [
    "import sys\n",
    "import tensorflow as tf\n",
    "from tensorflow.keras import layers, activations, losses, Model, Input\n",
    "from tensorflow.nn import leaky_relu\n",
    "import numpy as np\n",
    "from itertools import combinations\n",
    "from tensorflow.keras.utils import plot_model, Progbar\n",
    "import matplotlib.pyplot as plt\n",
    "from sklearn.model_selection import train_test_split\n"
   ]
  },
  {
   "cell_type": "code",
   "execution_count": 14,
   "metadata": {},
   "outputs": [
    {
     "name": "stdout",
     "output_type": "stream",
     "text": [
      "['/Users/axelsirota/repos/ml-solr-course/2-ranking/lab-bonus/solutions', '/Users/axelsirota/.pyenv/versions/3.7.3/lib/python37.zip', '/Users/axelsirota/.pyenv/versions/3.7.3/lib/python3.7', '/Users/axelsirota/.pyenv/versions/3.7.3/lib/python3.7/lib-dynload', '', '/Users/axelsirota/repos/ml-solr-course/.venv/lib/python3.7/site-packages', '/Users/axelsirota/repos/ml-solr-course/.venv/lib/python3.7/site-packages/IPython/extensions', '/Users/axelsirota/.ipython']\n",
      "/Users/axelsirota/repos/ml-solr-course\n"
     ]
    }
   ],
   "source": [
    "# In case your sys.path does not contain the base repo, go there.\n",
    "print(sys.path)\n",
    "%cd '/Users/axelsirota/repos/ml-solr-course'"
   ]
  },
  {
   "cell_type": "markdown",
   "metadata": {
    "pycharm": {
     "name": "#%% md\n"
    }
   },
   "source": [
    "The idea behind RankNet is to model the **joint probability** that `document i` comes before `document j` as the following:\n",
    "\n",
    "$P_{ij} = 1$ if $s_i > s_j$\n",
    "$P_{ij} = 0.5$ if $s_i = s_j$\n",
    "$P_{ij} = 0$ if $s_i < s_j$"
   ]
  },
  {
   "cell_type": "markdown",
   "metadata": {
    "pycharm": {
     "name": "#%% md\n"
    }
   },
   "source": [
    "So for *every pair of inputs* we will calculate both outputs, substract them, pass a logistic function to model the probability:\n",
    "\n",
    "<img src=\"files/ranknet.png\">"
   ]
  },
  {
   "cell_type": "code",
   "execution_count": 15,
   "metadata": {
    "pycharm": {
     "name": "#%%\n"
    }
   },
   "outputs": [],
   "source": [
    "# model architecture\n",
    "class RankNet(Model):\n",
    "    def __init__(self):\n",
    "        super().__init__()\n",
    "        self.dense = [layers.Dense(16, activation=leaky_relu), layers.Dense(8, activation=leaky_relu)]\n",
    "        self.o = layers.Dense(1, activation='linear')\n",
    "        self.oi_minus_oj = layers.Subtract()\n",
    "\n",
    "    def call(self, inputs):\n",
    "        xi, xj = inputs\n",
    "        densei = self.dense[0](xi)\n",
    "        densej = self.dense[0](xj)\n",
    "        for dense in self.dense[1:]:\n",
    "            densei = dense(densei)\n",
    "            densej = dense(densej)\n",
    "        oi = self.o(densei)\n",
    "        oj= self.o(densej)\n",
    "        oij = self.oi_minus_oj([oi, oj])\n",
    "        output = layers.Activation('sigmoid')(oij)\n",
    "        return output\n",
    "\n",
    "    def build_graph(self):\n",
    "        x = [Input(shape=(10)), Input(shape=(10))]\n",
    "        return Model(inputs=x, outputs=self.call(x))"
   ]
  },
  {
   "cell_type": "code",
   "execution_count": 5,
   "metadata": {
    "pycharm": {
     "name": "#%%\n"
    }
   },
   "outputs": [],
   "source": [
    "nb_query = 20\n",
    "query = np.array([i+1 for i in range(nb_query) for x in range(int(np.ceil(np.abs(np.random.normal(0,scale=15))+2)))])\n",
    "doc_features = np.random.random((len(query), 10))\n",
    "doc_scores = np.random.randint(5, size=len(query)).astype(np.float32)\n"
   ]
  },
  {
   "cell_type": "code",
   "execution_count": 6,
   "metadata": {
    "pycharm": {
     "name": "#%%\n"
    }
   },
   "outputs": [
    {
     "data": {
      "text/plain": [
       "array([ 1,  1,  1,  1,  1,  1,  1,  1,  1,  1,  2,  2,  2,  2,  2,  2,  2,\n",
       "        2,  2,  2,  2,  2,  2,  2,  2,  2,  2,  2,  2,  2,  2,  2,  2,  2,\n",
       "        2,  2,  2,  2,  2,  2,  2,  2,  2,  2,  3,  3,  3,  3,  3,  3,  3,\n",
       "        3,  3,  3,  3,  3,  4,  4,  4,  4,  4,  4,  4,  5,  5,  5,  5,  5,\n",
       "        5,  5,  5,  5,  5,  5,  5,  5,  5,  5,  5,  5,  5,  5,  5,  6,  6,\n",
       "        6,  6,  7,  7,  7,  7,  7,  7,  7,  7,  7,  7,  7,  7,  7,  8,  8,\n",
       "        8,  8,  8,  8,  8,  8,  8,  8,  8,  8,  8,  8,  8,  8,  8,  8,  8,\n",
       "        8,  8,  8,  9,  9,  9,  9,  9,  9,  9,  9,  9,  9,  9,  9,  9,  9,\n",
       "        9,  9,  9,  9,  9,  9,  9,  9,  9,  9,  9, 10, 10, 10, 10, 10, 10,\n",
       "       10, 10, 10, 10, 10, 10, 10, 11, 11, 11, 11, 11, 11, 11, 11, 11, 11,\n",
       "       11, 11, 12, 12, 12, 12, 12, 12, 13, 13, 13, 13, 13, 13, 13, 13, 13,\n",
       "       13, 13, 13, 13, 13, 13, 13, 13, 13, 13, 14, 14, 14, 14, 14, 14, 14,\n",
       "       14, 14, 14, 14, 14, 14, 14, 14, 14, 14, 14, 14, 14, 14, 14, 14, 14,\n",
       "       14, 14, 14, 14, 14, 14, 14, 14, 14, 14, 15, 15, 15, 15, 15, 15, 15,\n",
       "       16, 16, 16, 16, 16, 16, 16, 16, 16, 16, 16, 16, 16, 16, 16, 16, 16,\n",
       "       16, 16, 16, 16, 16, 17, 17, 17, 17, 17, 17, 17, 17, 17, 17, 17, 17,\n",
       "       17, 17, 17, 17, 17, 17, 17, 17, 17, 17, 17, 17, 17, 17, 17, 17, 17,\n",
       "       17, 17, 17, 17, 17, 17, 17, 17, 17, 17, 18, 18, 18, 18, 18, 18, 18,\n",
       "       18, 18, 18, 18, 18, 18, 18, 18, 18, 18, 18, 18, 18, 18, 18, 18, 18,\n",
       "       18, 18, 18, 18, 18, 18, 18, 18, 18, 18, 18, 18, 18, 18, 18, 18, 18,\n",
       "       18, 18, 18, 18, 19, 19, 19, 19, 19, 19, 19, 19, 19, 19, 19, 19, 19,\n",
       "       19, 19, 19, 19, 19, 19, 19, 19, 20, 20, 20, 20, 20, 20, 20, 20, 20,\n",
       "       20, 20, 20, 20, 20, 20, 20, 20, 20, 20, 20, 20, 20])"
      ]
     },
     "execution_count": 6,
     "metadata": {},
     "output_type": "execute_result"
    }
   ],
   "source": [
    "query"
   ]
  },
  {
   "cell_type": "code",
   "execution_count": 7,
   "metadata": {
    "pycharm": {
     "name": "#%%\n"
    }
   },
   "outputs": [
    {
     "name": "stdout",
     "output_type": "stream",
     "text": [
      "[4. 3. 3. 4. 3. 2. 4. 2. 2. 4. 0. 3. 1. 1. 0. 2. 1. 2. 0. 1. 0. 2. 3. 3.\n",
      " 3. 1. 2. 1. 3. 2. 1. 1. 2. 0. 0. 0. 3. 2. 2. 3. 3. 3. 4. 0. 0. 4. 4. 0.\n",
      " 4. 1. 3. 4. 4. 2. 0. 2. 2. 1. 0. 3. 1. 0. 0. 4. 2. 1. 1. 0. 3. 0. 4. 0.\n",
      " 2. 2. 1. 4. 2. 1. 0. 1. 3. 3. 1. 2. 2. 4. 1. 1. 4. 2. 1. 4. 2. 0. 2. 0.\n",
      " 0. 3. 3. 1. 3. 2. 0. 0. 4. 0. 2. 3. 1. 0. 3. 3. 2. 4. 3. 0. 3. 0. 4. 3.\n",
      " 1. 0. 1. 4. 4. 0. 3. 0. 0. 2. 2. 2. 4. 2. 0. 0. 0. 3. 0. 0. 0. 4. 2. 4.\n",
      " 3. 0. 2. 2. 0. 2. 1. 2. 3. 0. 4. 2. 4. 2. 2. 4. 2. 2. 0. 4. 3. 2. 1. 0.\n",
      " 2. 0. 0. 4. 0. 3. 3. 1. 2. 3. 3. 1. 4. 1. 0. 4. 1. 1. 0. 1. 1. 2. 1. 0.\n",
      " 0. 3. 2. 2. 1. 1. 1. 4. 3. 0. 0. 2. 0. 2. 0. 0. 3. 0. 4. 1. 1. 0. 4. 2.\n",
      " 2. 0. 3. 0. 4. 0. 0. 4. 0. 2. 1. 4. 2. 3. 3. 1. 1. 0. 0. 3. 3. 1. 2. 0.\n",
      " 3. 3. 3. 0. 0. 2. 1. 4. 3. 4. 4. 4. 2. 1. 2. 1. 1. 4. 1. 2. 0. 4. 1. 3.\n",
      " 2. 0. 4. 2. 0. 1. 1. 4. 2. 0. 2. 4. 4. 1. 4. 2. 2. 0. 0. 0. 2. 3. 1. 2.\n",
      " 4. 3. 3. 2. 3. 3. 0. 0. 4. 4. 4. 4. 4. 1. 4. 0. 0. 0. 3. 4. 4. 1. 1. 1.\n",
      " 4. 4. 3. 2. 1. 2. 2. 1. 4. 3. 4. 2. 0. 0. 4. 3. 3. 2. 4. 1. 3. 1. 0. 1.\n",
      " 3. 4. 3. 1. 3. 1. 4. 3. 0. 0. 4. 3. 2. 3. 3. 4. 1. 1. 2. 3. 0. 2. 1. 0.\n",
      " 1. 0. 0. 4. 0. 0. 3. 2. 1. 4. 1. 1. 0. 1. 2. 0. 2. 3. 3. 2. 2. 0. 3. 2.\n",
      " 2. 2. 3.]\n"
     ]
    },
    {
     "data": {
      "text/plain": [
       "array([[0.87644563, 0.66895054, 0.60619895, ..., 0.04043289, 0.3096737 ,\n",
       "        0.810136  ],\n",
       "       [0.70050241, 0.51510371, 0.38198662, ..., 0.48284196, 0.82637603,\n",
       "        0.87618028],\n",
       "       [0.8800547 , 0.83072176, 0.73522337, ..., 0.24368589, 0.10349975,\n",
       "        0.5102918 ],\n",
       "       ...,\n",
       "       [0.00654856, 0.77752541, 0.56195898, ..., 0.69579795, 0.33418575,\n",
       "        0.11397216],\n",
       "       [0.4361493 , 0.25468854, 0.0286591 , ..., 0.71249739, 0.52234718,\n",
       "        0.64695395],\n",
       "       [0.33737423, 0.149602  , 0.46826469, ..., 0.75199457, 0.34655794,\n",
       "        0.90934746]])"
      ]
     },
     "execution_count": 7,
     "metadata": {},
     "output_type": "execute_result"
    }
   ],
   "source": [
    "print(doc_scores)\n",
    "doc_features"
   ]
  },
  {
   "cell_type": "code",
   "execution_count": 8,
   "metadata": {
    "pycharm": {
     "name": "#%%\n"
    }
   },
   "outputs": [],
   "source": [
    "# put data into pairs\n",
    "xi = []\n",
    "xj = []\n",
    "pij = []\n",
    "pair_id = []\n",
    "pair_query_id = []\n",
    "for q in np.unique(query):\n",
    "    query_idx = np.where(query == q)[0]\n",
    "    for pair_idx in combinations(query_idx, 2):\n",
    "        pair_query_id.append(q)\n",
    "\n",
    "        pair_id.append(pair_idx)\n",
    "        i = pair_idx[0]\n",
    "        j = pair_idx[1]\n",
    "        xi.append(doc_features[i])\n",
    "        xj.append(doc_features[j])\n",
    "\n",
    "        if doc_scores[i] == doc_scores[j]:\n",
    "            _pij = 0.5\n",
    "        elif doc_scores[i] > doc_scores[j]:\n",
    "            _pij = 1\n",
    "        else:\n",
    "            _pij = 0\n",
    "        pij.append(_pij)\n",
    "\n",
    "xi = np.array(xi)\n",
    "xj = np.array(xj)\n",
    "pij = np.array(pij)\n",
    "pair_query_id = np.array(pair_query_id)"
   ]
  },
  {
   "cell_type": "code",
   "execution_count": 9,
   "metadata": {
    "pycharm": {
     "name": "#%%\n"
    }
   },
   "outputs": [],
   "source": [
    "xi_train, xi_test, xj_train, xj_test, pij_train, pij_test, pair_id_train, pair_id_test = train_test_split(\n",
    "    xi, xj, pij, pair_id, test_size=0.2, stratify=pair_query_id)"
   ]
  },
  {
   "cell_type": "code",
   "execution_count": 10,
   "metadata": {
    "pycharm": {
     "name": "#%%\n"
    }
   },
   "outputs": [
    {
     "name": "stderr",
     "output_type": "stream",
     "text": [
      "2021-07-24 23:16:27.952161: I tensorflow/compiler/mlir/mlir_graph_optimization_pass.cc:176] None of the MLIR Optimization Passes are enabled (registered 2)\n"
     ]
    },
    {
     "name": "stdout",
     "output_type": "stream",
     "text": [
      "Epoch 1/50\n",
      "3850/3850 [==============================] - 3s 701us/step - loss: 0.6845 - val_loss: 0.6715\n",
      "Epoch 2/50\n",
      "3850/3850 [==============================] - 3s 679us/step - loss: 0.6574 - val_loss: 0.6551\n",
      "Epoch 3/50\n",
      "3850/3850 [==============================] - 3s 666us/step - loss: 0.6363 - val_loss: 0.6358\n",
      "Epoch 4/50\n",
      "3850/3850 [==============================] - 3s 791us/step - loss: 0.6185 - val_loss: 0.6269\n",
      "Epoch 5/50\n",
      "3850/3850 [==============================] - 3s 670us/step - loss: 0.6082 - val_loss: 0.6112\n",
      "Epoch 6/50\n",
      "3850/3850 [==============================] - 3s 688us/step - loss: 0.5954 - val_loss: 0.5999\n",
      "Epoch 7/50\n",
      "3850/3850 [==============================] - 3s 652us/step - loss: 0.5842 - val_loss: 0.5919\n",
      "Epoch 8/50\n",
      "3850/3850 [==============================] - 3s 657us/step - loss: 0.5709 - val_loss: 0.5779\n",
      "Epoch 9/50\n",
      "3850/3850 [==============================] - 3s 651us/step - loss: 0.5576 - val_loss: 0.5694\n",
      "Epoch 10/50\n",
      "3850/3850 [==============================] - 3s 654us/step - loss: 0.5451 - val_loss: 0.5534\n",
      "Epoch 11/50\n",
      "3850/3850 [==============================] - 3s 666us/step - loss: 0.5324 - val_loss: 0.5487\n",
      "Epoch 12/50\n",
      "3850/3850 [==============================] - 3s 687us/step - loss: 0.5245 - val_loss: 0.5357\n",
      "Epoch 13/50\n",
      "3850/3850 [==============================] - 3s 652us/step - loss: 0.5145 - val_loss: 0.5368\n",
      "Epoch 14/50\n",
      "3850/3850 [==============================] - 3s 669us/step - loss: 0.5059 - val_loss: 0.5198\n",
      "Epoch 15/50\n",
      "3850/3850 [==============================] - 3s 690us/step - loss: 0.4975 - val_loss: 0.5078\n",
      "Epoch 16/50\n",
      "3850/3850 [==============================] - 3s 701us/step - loss: 0.4895 - val_loss: 0.5088\n",
      "Epoch 17/50\n",
      "3850/3850 [==============================] - 3s 675us/step - loss: 0.4838 - val_loss: 0.5280\n",
      "Epoch 18/50\n",
      "3850/3850 [==============================] - 3s 667us/step - loss: 0.4799 - val_loss: 0.5106\n",
      "Epoch 19/50\n",
      "3850/3850 [==============================] - 3s 696us/step - loss: 0.4740 - val_loss: 0.5109\n",
      "Epoch 20/50\n",
      "3850/3850 [==============================] - 3s 665us/step - loss: 0.4720 - val_loss: 0.5032\n",
      "Epoch 21/50\n",
      "3850/3850 [==============================] - 3s 695us/step - loss: 0.4654 - val_loss: 0.5010\n",
      "Epoch 22/50\n",
      "3850/3850 [==============================] - 3s 712us/step - loss: 0.4646 - val_loss: 0.4946\n",
      "Epoch 23/50\n",
      "3850/3850 [==============================] - 3s 699us/step - loss: 0.4593 - val_loss: 0.4831\n",
      "Epoch 24/50\n",
      "3850/3850 [==============================] - 3s 685us/step - loss: 0.4554 - val_loss: 0.4823\n",
      "Epoch 25/50\n",
      "3850/3850 [==============================] - 3s 690us/step - loss: 0.4520 - val_loss: 0.4950\n",
      "Epoch 26/50\n",
      "3850/3850 [==============================] - 3s 702us/step - loss: 0.4467 - val_loss: 0.4785\n",
      "Epoch 27/50\n",
      "3850/3850 [==============================] - 3s 704us/step - loss: 0.4427 - val_loss: 0.4732\n",
      "Epoch 28/50\n",
      "3850/3850 [==============================] - 3s 695us/step - loss: 0.4369 - val_loss: 0.4748\n",
      "Epoch 29/50\n",
      "3850/3850 [==============================] - 3s 683us/step - loss: 0.4324 - val_loss: 0.4566\n",
      "Epoch 30/50\n",
      "3850/3850 [==============================] - 3s 691us/step - loss: 0.4283 - val_loss: 0.4621\n",
      "Epoch 31/50\n",
      "3850/3850 [==============================] - 3s 693us/step - loss: 0.4265 - val_loss: 0.4668\n",
      "Epoch 32/50\n",
      "3850/3850 [==============================] - 3s 686us/step - loss: 0.4242 - val_loss: 0.4598\n",
      "Epoch 33/50\n",
      "3850/3850 [==============================] - 3s 717us/step - loss: 0.4179 - val_loss: 0.4964\n",
      "Epoch 34/50\n",
      "3850/3850 [==============================] - 3s 693us/step - loss: 0.4127 - val_loss: 0.4689\n",
      "Epoch 35/50\n",
      "3850/3850 [==============================] - 3s 701us/step - loss: 0.4114 - val_loss: 0.4446\n",
      "Epoch 36/50\n",
      "3850/3850 [==============================] - 3s 699us/step - loss: 0.4079 - val_loss: 0.4349\n",
      "Epoch 37/50\n",
      "3850/3850 [==============================] - 3s 707us/step - loss: 0.4061 - val_loss: 0.4519\n",
      "Epoch 38/50\n",
      "3850/3850 [==============================] - 3s 707us/step - loss: 0.4034 - val_loss: 0.4301\n",
      "Epoch 39/50\n",
      "3850/3850 [==============================] - 3s 677us/step - loss: 0.3985 - val_loss: 0.4332\n",
      "Epoch 40/50\n",
      "3850/3850 [==============================] - 3s 693us/step - loss: 0.3956 - val_loss: 0.4318\n",
      "Epoch 41/50\n",
      "3850/3850 [==============================] - 3s 693us/step - loss: 0.3911 - val_loss: 0.4238\n",
      "Epoch 42/50\n",
      "3850/3850 [==============================] - 3s 679us/step - loss: 0.3886 - val_loss: 0.4258\n",
      "Epoch 43/50\n",
      "3850/3850 [==============================] - 3s 711us/step - loss: 0.3863 - val_loss: 0.4648\n",
      "Epoch 44/50\n",
      "3850/3850 [==============================] - 3s 708us/step - loss: 0.3848 - val_loss: 0.4200\n",
      "Epoch 45/50\n",
      "3850/3850 [==============================] - 3s 714us/step - loss: 0.3801 - val_loss: 0.4180\n",
      "Epoch 46/50\n",
      "3850/3850 [==============================] - 3s 693us/step - loss: 0.3814 - val_loss: 0.4185\n",
      "Epoch 47/50\n",
      "3850/3850 [==============================] - 3s 682us/step - loss: 0.3771 - val_loss: 0.4265\n",
      "Epoch 48/50\n",
      "3850/3850 [==============================] - 3s 717us/step - loss: 0.3740 - val_loss: 0.4161\n",
      "Epoch 49/50\n",
      "3850/3850 [==============================] - 3s 714us/step - loss: 0.3742 - val_loss: 0.4152\n",
      "Epoch 50/50\n",
      "3850/3850 [==============================] - 3s 704us/step - loss: 0.3726 - val_loss: 0.3994\n"
     ]
    }
   ],
   "source": [
    "# train model using compile and fit\n",
    "ranknet = RankNet()\n",
    "ranknet.compile(optimizer='adam', loss='binary_crossentropy')\n",
    "history = ranknet.fit([xi_train, xj_train], pij_train, epochs=50, batch_size=1, validation_data=([xi_test, xj_test], pij_test))"
   ]
  },
  {
   "cell_type": "code",
   "execution_count": 11,
   "metadata": {
    "pycharm": {
     "name": "#%%\n"
    }
   },
   "outputs": [
    {
     "data": {
      "image/png": "[encoded data removed]",
      "text/plain": [
       "<Figure size 432x288 with 1 Axes>"
      ]
     },
     "metadata": {
      "needs_background": "light"
     },
     "output_type": "display_data"
    }
   ],
   "source": [
    "# function for plotting loss\n",
    "def plot_metrics(train_metric, val_metric=None, metric_name=None, title=None, ylim=5):\n",
    "    plt.title(title)\n",
    "    plt.ylim(0,ylim)\n",
    "    plt.plot(train_metric,color='blue',label=metric_name)\n",
    "    if val_metric is not None: plt.plot(val_metric,color='green',label='val_' + metric_name)\n",
    "    plt.legend(loc=\"upper right\")\n",
    "\n",
    "# plot loss history\n",
    "plot_metrics(history.history['loss'], history.history['val_loss'], \"Loss\", \"Loss\", ylim=1.0)"
   ]
  },
  {
   "cell_type": "code",
   "execution_count": 36,
   "metadata": {
    "pycharm": {
     "name": "#%%\n"
    }
   },
   "outputs": [
    {
     "data": {
      "text/plain": [
       "<tf.Tensor: shape=(2, 1), dtype=float32, numpy=\n",
       "array([[0.5832063 ],\n",
       "       [0.23671651]], dtype=float32)>"
      ]
     },
     "execution_count": 36,
     "metadata": {},
     "output_type": "execute_result"
    }
   ],
   "source": [
    "new_doci = [np.random.random(10), np.random.random(10)]\n",
    "new_docj = [np.random.random(10), np.random.random(10)]\n",
    "inputs = tf.constant(np.array([new_doci, new_docj]))\n",
    "ranknet(inputs)"
   ]
  },
  {
   "cell_type": "code",
   "execution_count": null,
   "metadata": {},
   "outputs": [],
   "source": []
  }
 ],
 "metadata": {
  "kernelspec": {
   "display_name": "local-venv",
   "language": "python",
   "name": "local-venv"
  },
  "language_info": {
   "codemirror_mode": {
    "name": "ipython",
    "version": 3
   },
   "file_extension": ".py",
   "mimetype": "text/x-python",
   "name": "python",
   "nbconvert_exporter": "python",
   "pygments_lexer": "ipython3",
   "version": "3.7.3"
  }
 },
 "nbformat": 4,
 "nbformat_minor": 1
}