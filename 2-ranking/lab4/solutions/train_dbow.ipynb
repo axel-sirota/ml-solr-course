{
 "cells": [
  {
   "cell_type": "code",
   "execution_count": 1,
   "metadata": {},
   "outputs": [],
   "source": [
    "import random\n",
    "import sys\n",
    "\n",
    "import numpy as np\n",
    "\n",
    "np.random.seed(42)\n",
    "import smart_open\n",
    "import pandas as pd\n",
    "import gensim\n",
    "from gensim.models.callbacks import CallbackAny2Vec\n",
    "from gensim.test.utils import get_tmpfile"
   ]
  },
  {
   "cell_type": "code",
   "execution_count": 2,
   "metadata": {},
   "outputs": [
    {
     "name": "stdout",
     "output_type": "stream",
     "text": [
      "['/Users/axelsirota/repos/ml-solr-course/2-ranking/lab4', '/Users/axelsirota/.pyenv/versions/3.7.3/lib/python37.zip', '/Users/axelsirota/.pyenv/versions/3.7.3/lib/python3.7', '/Users/axelsirota/.pyenv/versions/3.7.3/lib/python3.7/lib-dynload', '', '/Users/axelsirota/repos/ml-solr-course/.venv/lib/python3.7/site-packages', '/Users/axelsirota/repos/ml-solr-course/.venv/lib/python3.7/site-packages/IPython/extensions', '/Users/axelsirota/.ipython']\n",
      "/Users/axelsirota/repos/ml-solr-course\n"
     ]
    }
   ],
   "source": [
    "# In case your sys.path does not contain the base repo, go there.\n",
    "print(sys.path)\n",
    "%cd '/Users/axelsirota/repos/ml-solr-course'"
   ]
  },
  {
   "cell_type": "code",
   "execution_count": 3,
   "metadata": {
    "pycharm": {
     "name": "#%%\n"
    }
   },
   "outputs": [],
   "source": [
    "train_file_path = 'dataset/train_corpus_descriptions_airbnb.csv'\n",
    "test_file_path = 'dataset/test_corpus_descriptions_airbnb.csv'\n",
    "embedding_dim = 100\n",
    "vocabulary_size_to_use = 50000\n",
    "epochs = 10"
   ]
  },
  {
   "cell_type": "code",
   "execution_count": 4,
   "metadata": {
    "pycharm": {
     "name": "#%%\n"
    }
   },
   "outputs": [],
   "source": [
    "def read_corpus(fname, tokens_only=False):\n",
    "    with smart_open.open(fname, encoding=\"iso-8859-1\") as f:\n",
    "        for i, line in enumerate(f):\n",
    "            tokens = gensim.utils.simple_preprocess(line)\n",
    "            if tokens_only:\n",
    "                yield tokens\n",
    "            else:\n",
    "                # For training data, add tags\n",
    "                yield gensim.models.doc2vec.TaggedDocument(tokens, [i])"
   ]
  },
  {
   "cell_type": "code",
   "execution_count": 5,
   "metadata": {
    "pycharm": {
     "name": "#%%\n"
    }
   },
   "outputs": [],
   "source": [
    "train_corpus = list(read_corpus(train_file_path))[:vocabulary_size_to_use]\n",
    "test_corpus = list(read_corpus(test_file_path, tokens_only=True))"
   ]
  },
  {
   "cell_type": "code",
   "execution_count": 6,
   "metadata": {
    "pycharm": {
     "name": "#%%\n"
    }
   },
   "outputs": [
    {
     "name": "stdout",
     "output_type": "stream",
     "text": [
      "[TaggedDocument(words=['run', 'runyon', 'canyon', 'our', 'gym', 'sauna', 'open', 'beautifully', 'furnished', 'mirrored', 'mini', 'suite', 'with', 'fireplacedyson', 'hot', 'cool', 'bladeless', 'fan', 'heaterbeekman', 'goat', 'milk', 'soappremium', 'memory', 'foam', 'pillowsfirst', 'morning', 'complementary', 'starbuck', 'coffee', 'latte', 'style', 'coffee', 'protein', 'bars', 'granola', 'bars', 'fresh', 'baked', 'swedish', 'cinnamon', 'roll', 'continental', 'bottle', 'of', 'artesian', 'or', 'sparkling', 'mineral', 'waterterry', 'robe', 'amish', 'wildflower', 'soapcandy', 'bowltrail', 'mix', 'jarcdc', 'cleaningthe', 'spacewe', 'opportunely', 'strive', 'for', 'peace', 'quiet', 'cleanness', 'neatness', 'by', 'means', 'of', 'happiness', 'here', 'runyon', 'canyon', 'beau', 'furn', 'mir', 'mini', 'suite', 'fireplacerun', 'runyon', 'canyon', 'beautifully', 'furnished', 'mirrored', 'mini', 'suite', 'with', 'fireplace', 'gyms', 'are', 'open', 'plunge', 'pool', 'jacuzzi', 'sundeck', 'runyon', 'canyon', 'is', 'within', 'walking', 'and'], tags=[0]), TaggedDocument(words=['an', 'oasis', 'of', 'tranquility', 'awaits', 'you', 'the', 'spacethis', 'is', 'beautiful', 'three', 'story', 'townhouse', 'that', 'will', 'enhance', 'your', 'santa', 'monica', 'experience', 'this', 'airy', 'light', 'filled', 'quiet', 'safe', 'haven', 'will', 'be', 'the', 'perfect', 'spot', 'to', 'land', 'after', 'busy', 'day', 'or', 'just', 'wanting', 'to', 'chill', 'the', 'first', 'floor', 'where', 'my', 'guest', 'stays', 'is', 'bright', 'cheerful', 'open', 'space', 'lot', 'of', 'natural', 'light', 'you', 'will', 'be', 'sleeping', 'on', 'top', 'of', 'the', 'line', 'blow', 'up', 'mattress', 'bed', 'facing', 'beautiful', 'garden', 'overflowing', 'with', 'flowers', 'to', 'greet', 'you', 'every', 'morning', 'in', 'addition', 'peaceful', 'patio', 'area', 'awaits', 'your', 'use', 'if', 'greater', 'privacy', 'is', 'required', 'japanese', 'screens', 'are', 'provided', 'while', 'this', 'area', 'is', 'considered', 'shared', 'space', 'you', 'will', 'have', 'it', 'completely', 'to', 'yourself', 'on', 'the', 'same', 'floor', 'is', 'the', 'kitchen', 'fully', 'stocked', 'everything', 'you', 'need', 'for', 'wonderful', 'healthy', 'meal', 'the', 'nd', 'floor', 'is', 'my', 'office', 'and', 'private', 'bath', 'for', 'my', 'guest', 'the', 'third', 'floor', 'is', 'my', 'quarters', 'my', 'townhome', 'is', 'large', 'and', 'quite', 'possibly', 'we', 'could', 'not', 'run', 'into', 'one', 'another'], tags=[1])]\n"
     ]
    }
   ],
   "source": [
    "print(train_corpus[:2])"
   ]
  },
  {
   "cell_type": "code",
   "execution_count": 7,
   "metadata": {
    "pycharm": {
     "name": "#%%\n"
    }
   },
   "outputs": [],
   "source": [
    "model = gensim.models.doc2vec.Doc2Vec(vector_size=embedding_dim, min_count=2, epochs=epochs, workers=5)\n",
    "model.build_vocab(train_corpus)"
   ]
  },
  {
   "cell_type": "code",
   "execution_count": 8,
   "metadata": {
    "pycharm": {
     "name": "#%%\n"
    }
   },
   "outputs": [],
   "source": [
    "model.train(train_corpus, total_examples=model.corpus_count, epochs=model.epochs)"
   ]
  },
  {
   "cell_type": "code",
   "execution_count": 9,
   "metadata": {
    "pycharm": {
     "name": "#%%\n"
    }
   },
   "outputs": [
    {
     "name": "stdout",
     "output_type": "stream",
     "text": [
      "[ 0.0543617  -0.09607653 -0.18506919  0.04053085  0.031168   -0.16437367\n",
      " -0.04537961  0.19203864  0.07020725 -0.0524042  -0.13580535  0.07174805\n",
      "  0.01030537  0.0649034  -0.02263543  0.03978287 -0.05187762 -0.03672089\n",
      "  0.01561754  0.12912893  0.10245254  0.1494444  -0.31008714  0.06073276\n",
      "  0.13001624 -0.00914801 -0.05314909 -0.19197766 -0.08392991  0.01108635\n",
      " -0.12909304 -0.00677363 -0.00275039  0.07569529  0.00140331  0.01929314\n",
      " -0.13223873 -0.04534362  0.14854592 -0.10925484  0.01756385  0.02368191\n",
      "  0.03049802 -0.03207293 -0.05552221  0.01124749 -0.17571908 -0.0949407\n",
      "  0.14118816 -0.08533246 -0.0667005   0.09750918 -0.01931177  0.1278121\n",
      "  0.29584658  0.12149689 -0.2980152   0.05182191  0.02721016 -0.06129049\n",
      "  0.02502088 -0.00191163  0.05696656 -0.21691896  0.00512567  0.04483531\n",
      " -0.0731632   0.00524787  0.12567219  0.13939835 -0.0976295   0.02583137\n",
      " -0.01094146 -0.16175671 -0.0579786  -0.04792865  0.07094374 -0.10970317\n",
      " -0.03815283  0.08914021 -0.04156846  0.17817551  0.06321301  0.06258618\n",
      "  0.1074843   0.05753903  0.06640662  0.00271961 -0.02325461  0.15654603\n",
      "  0.03979557 -0.05881085  0.03936757 -0.09854017 -0.15194663 -0.1240908\n",
      "  0.16503718  0.1164732  -0.11285802  0.03939677]\n"
     ]
    }
   ],
   "source": [
    "vector = model.infer_vector(['only', 'you', 'can', 'prevent', 'forest', 'fires'])\n",
    "print(vector)"
   ]
  },
  {
   "cell_type": "code",
   "execution_count": 10,
   "metadata": {
    "pycharm": {
     "name": "#%%\n"
    }
   },
   "outputs": [],
   "source": [
    "with open(\"2-ranking/lab4/airbnb_model\", 'w') as _:\n",
    "    model.save(\"2-ranking/lab4/airbnb_model\")\n",
    "\n"
   ]
  },
  {
   "cell_type": "code",
   "execution_count": 31,
   "metadata": {
    "pycharm": {
     "name": "#%%\n"
    }
   },
   "outputs": [
    {
     "name": "stdout",
     "output_type": "stream",
     "text": [
      "Test Document (10420): «comfortable and elegant flat with private garden located minutes walk from archway tube station and local amenities including supermarkets bars and restaurants just minutes away from trendy camden town and minutes from central london by tube the area is very safe and modern new couch tv fully equipped kitchen and beautiful garden will make your stay very easy and comfortable»\n",
      "\n",
      "MOST SIMILAR (49977, 0.6798374652862549): «comfortable private room located in north austin located off of near major shopping centers bus train stops and minutes from downtown»\n",
      "\n"
     ]
    }
   ],
   "source": [
    "# Pick a random document from the train corpus and infer a vector from the model\n",
    "doc_id = random.randint(0, len(test_corpus) - 1)\n",
    "inferred_vector = model.infer_vector(test_corpus[doc_id])\n",
    "sims = model.dv.most_similar([inferred_vector], topn=len(model.dv))\n",
    "\n",
    "# Compare and print the most similar documents from the train corpus\n",
    "print('Test Document ({}): «{}»\\n'.format(doc_id, ' '.join(test_corpus[doc_id])))\n",
    "print(u'MOST SIMILAR %s: «%s»\\n' % (sims[index], ' '.join(train_corpus[sims[0][0]].words)))"
   ]
  },
  {
   "cell_type": "code",
   "execution_count": null,
   "metadata": {},
   "outputs": [],
   "source": []
  }
 ],
 "metadata": {
  "kernelspec": {
   "display_name": "local-venv",
   "language": "python",
   "name": "local-venv"
  },
  "language_info": {
   "codemirror_mode": {
    "name": "ipython",
    "version": 3
   },
   "file_extension": ".py",
   "mimetype": "text/x-python",
   "name": "python",
   "nbconvert_exporter": "python",
   "pygments_lexer": "ipython3",
   "version": "3.7.3"
  }
 },
 "nbformat": 4,
 "nbformat_minor": 1
}
