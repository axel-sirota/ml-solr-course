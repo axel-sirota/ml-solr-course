{
 "cells": [
  {
   "cell_type": "code",
   "execution_count": 1,
   "metadata": {},
   "outputs": [],
   "source": [
    "import random\n",
    "import sys\n",
    "\n",
    "import numpy as np\n",
    "\n",
    "np.random.seed(42)\n",
    "import smart_open\n",
    "import pandas as pd\n",
    "import gensim\n",
    "from gensim.models.callbacks import CallbackAny2Vec\n",
    "from gensim.test.utils import get_tmpfile"
   ]
  },
  {
   "cell_type": "code",
   "execution_count": 2,
   "metadata": {},
   "outputs": [
    {
     "name": "stdout",
     "output_type": "stream",
     "text": [
      "['/Users/axelsirota/repos/ml-solr-course/2-ranking/lab4', '/Users/axelsirota/.pyenv/versions/3.7.3/lib/python37.zip', '/Users/axelsirota/.pyenv/versions/3.7.3/lib/python3.7', '/Users/axelsirota/.pyenv/versions/3.7.3/lib/python3.7/lib-dynload', '', '/Users/axelsirota/repos/ml-solr-course/.venv/lib/python3.7/site-packages', '/Users/axelsirota/repos/ml-solr-course/.venv/lib/python3.7/site-packages/IPython/extensions', '/Users/axelsirota/.ipython']\n",
      "/Users/axelsirota/repos/ml-solr-course\n"
     ]
    }
   ],
   "source": [
    "# In case your sys.path does not contain the base repo, go there.\n",
    "print(sys.path)\n",
    "%cd '/Users/axelsirota/repos/ml-solr-course'"
   ]
  },
  {
   "cell_type": "code",
   "execution_count": 3,
   "metadata": {
    "pycharm": {
     "name": "#%%\n"
    }
   },
   "outputs": [],
   "source": [
    "train_file_path = 'dataset/train_corpus_descriptions_airbnb.csv'\n",
    "test_file_path = 'dataset/test_corpus_descriptions_airbnb.csv'\n",
    "embedding_dim = 100\n",
    "epochs = 50"
   ]
  },
  {
   "cell_type": "code",
   "execution_count": 4,
   "metadata": {
    "pycharm": {
     "name": "#%%\n"
    }
   },
   "outputs": [],
   "source": [
    "def read_corpus(fname, tokens_only=False):\n",
    "    with smart_open.open(fname, encoding=\"iso-8859-1\") as f:\n",
    "        for i, line in enumerate(f):\n",
    "            tokens = gensim.utils.simple_preprocess(line)\n",
    "            if tokens_only:\n",
    "                yield tokens\n",
    "            else:\n",
    "                # For training data, add tags\n",
    "                yield gensim.models.doc2vec.TaggedDocument(tokens, [i])"
   ]
  },
  {
   "cell_type": "code",
   "execution_count": 5,
   "metadata": {
    "pycharm": {
     "name": "#%%\n"
    }
   },
   "outputs": [],
   "source": [
    "train_corpus = list(read_corpus(train_file_path))\n",
    "test_corpus = list(read_corpus(test_file_path, tokens_only=True))"
   ]
  },
  {
   "cell_type": "code",
   "execution_count": 6,
   "metadata": {
    "pycharm": {
     "name": "#%%\n"
    }
   },
   "outputs": [
    {
     "name": "stdout",
     "output_type": "stream",
     "text": [
      "[TaggedDocument(words=['run', 'runyon', 'canyon', 'our', 'gym', 'sauna', 'open', 'beautifully', 'furnished', 'mirrored', 'mini', 'suite', 'with', 'fireplacedyson', 'hot', 'cool', 'bladeless', 'fan', 'heaterbeekman', 'goat', 'milk', 'soappremium', 'memory', 'foam', 'pillowsfirst', 'morning', 'complementary', 'starbuck', 'coffee', 'latte', 'style', 'coffee', 'protein', 'bars', 'granola', 'bars', 'fresh', 'baked', 'swedish', 'cinnamon', 'roll', 'continental', 'bottle', 'of', 'artesian', 'or', 'sparkling', 'mineral', 'waterterry', 'robe', 'amish', 'wildflower', 'soapcandy', 'bowltrail', 'mix', 'jarcdc', 'cleaningthe', 'spacewe', 'opportunely', 'strive', 'for', 'peace', 'quiet', 'cleanness', 'neatness', 'by', 'means', 'of', 'happiness', 'here', 'runyon', 'canyon', 'beau', 'furn', 'mir', 'mini', 'suite', 'fireplacerun', 'runyon', 'canyon', 'beautifully', 'furnished', 'mirrored', 'mini', 'suite', 'with', 'fireplace', 'gyms', 'are', 'open', 'plunge', 'pool', 'jacuzzi', 'sundeck', 'runyon', 'canyon', 'is', 'within', 'walking', 'and'], tags=[0]), TaggedDocument(words=['an', 'oasis', 'of', 'tranquility', 'awaits', 'you', 'the', 'spacethis', 'is', 'beautiful', 'three', 'story', 'townhouse', 'that', 'will', 'enhance', 'your', 'santa', 'monica', 'experience', 'this', 'airy', 'light', 'filled', 'quiet', 'safe', 'haven', 'will', 'be', 'the', 'perfect', 'spot', 'to', 'land', 'after', 'busy', 'day', 'or', 'just', 'wanting', 'to', 'chill', 'the', 'first', 'floor', 'where', 'my', 'guest', 'stays', 'is', 'bright', 'cheerful', 'open', 'space', 'lot', 'of', 'natural', 'light', 'you', 'will', 'be', 'sleeping', 'on', 'top', 'of', 'the', 'line', 'blow', 'up', 'mattress', 'bed', 'facing', 'beautiful', 'garden', 'overflowing', 'with', 'flowers', 'to', 'greet', 'you', 'every', 'morning', 'in', 'addition', 'peaceful', 'patio', 'area', 'awaits', 'your', 'use', 'if', 'greater', 'privacy', 'is', 'required', 'japanese', 'screens', 'are', 'provided', 'while', 'this', 'area', 'is', 'considered', 'shared', 'space', 'you', 'will', 'have', 'it', 'completely', 'to', 'yourself', 'on', 'the', 'same', 'floor', 'is', 'the', 'kitchen', 'fully', 'stocked', 'everything', 'you', 'need', 'for', 'wonderful', 'healthy', 'meal', 'the', 'nd', 'floor', 'is', 'my', 'office', 'and', 'private', 'bath', 'for', 'my', 'guest', 'the', 'third', 'floor', 'is', 'my', 'quarters', 'my', 'townhome', 'is', 'large', 'and', 'quite', 'possibly', 'we', 'could', 'not', 'run', 'into', 'one', 'another'], tags=[1])]\n"
     ]
    }
   ],
   "source": [
    "print(train_corpus[:2])"
   ]
  },
  {
   "cell_type": "code",
   "execution_count": 7,
   "metadata": {
    "pycharm": {
     "name": "#%%\n"
    }
   },
   "outputs": [],
   "source": [
    "class MonitorCallback(CallbackAny2Vec):\n",
    "    def on_epoch_end(self, model):\n",
    "        print(\"Model loss:\", model.get_latest_training_loss())\n",
    "        # print loss\n",
    "\n",
    "monitor = MonitorCallback()"
   ]
  },
  {
   "cell_type": "code",
   "execution_count": 8,
   "metadata": {
    "pycharm": {
     "name": "#%%\n"
    }
   },
   "outputs": [],
   "source": [
    "model = gensim.models.doc2vec.Doc2Vec(vector_size=embedding_dim, min_count=2, epochs=epochs, workers=5, callbacks=[monitor])\n",
    "model.build_vocab(train_corpus)"
   ]
  },
  {
   "cell_type": "code",
   "execution_count": 9,
   "metadata": {
    "pycharm": {
     "name": "#%%\n"
    }
   },
   "outputs": [],
   "source": [
    "model.train(train_corpus, total_examples=model.corpus_count, epochs=model.epochs)"
   ]
  },
  {
   "cell_type": "code",
   "execution_count": 10,
   "metadata": {
    "pycharm": {
     "name": "#%%\n"
    }
   },
   "outputs": [
    {
     "name": "stdout",
     "output_type": "stream",
     "text": [
      "[ 0.4062481  -0.45970774  0.8737589  -1.1125178   0.36117405 -0.57193446\n",
      "  0.1993261  -0.35838404  0.3433686  -0.23151097  0.05307581  0.37294447\n",
      "  0.14602664 -0.7243367   0.39131477  0.42685416 -0.24062386  0.3529859\n",
      "  0.8403859   0.48177123  0.6516271   0.30122602 -0.8258079   0.00409049\n",
      "  0.00799834  0.38958058  0.08138184  0.09224967 -0.36196205 -0.369399\n",
      "  0.05991855  0.05529932  0.2047091   0.717981    0.03228188  0.03249573\n",
      " -0.05112756 -0.1730143  -0.2371005   0.8752679  -0.03052846 -0.2884936\n",
      " -0.0365307   0.3999309  -0.5021756   0.26192415  0.25978473  0.320639\n",
      " -0.07888479 -0.8229658   1.6289259  -0.13849625 -0.20243748  0.89142334\n",
      "  0.14780585 -0.17813304 -0.0855213  -0.8307622  -0.47072843  0.8830436\n",
      " -0.01577668 -0.11214862 -0.35596466  0.14229958 -0.8232616  -0.6206001\n",
      "  1.1714388   0.12207097 -0.8596817   1.0001296  -0.20719041  0.26260647\n",
      "  0.24186273 -0.13863896 -0.67035455  0.915935   -0.36935154 -0.94100636\n",
      "  0.41584057  0.55235136  0.2305257  -0.08570104 -0.21152799 -0.2299132\n",
      " -0.19618285  0.11306351 -0.02316603  1.085221   -0.18342915  0.4588346\n",
      " -0.39780432 -0.28331268  0.07020247  0.07441243 -0.8106292  -0.13103274\n",
      "  0.802795    0.18071952 -0.24213563  0.03918868]\n"
     ]
    }
   ],
   "source": [
    "vector = model.infer_vector(['only', 'you', 'can', 'prevent', 'forest', 'fires'])\n",
    "print(vector)"
   ]
  },
  {
   "cell_type": "code",
   "execution_count": 11,
   "metadata": {
    "pycharm": {
     "name": "#%%\n"
    }
   },
   "outputs": [],
   "source": [
    "with open(\"2-ranking/lab4/airbnb_model\", 'w') as _:\n",
    "    model.save(\"2-ranking/lab4/airbnb_model\")\n",
    "\n"
   ]
  },
  {
   "cell_type": "code",
   "execution_count": 12,
   "metadata": {
    "pycharm": {
     "name": "#%%\n"
    }
   },
   "outputs": [
    {
     "name": "stdout",
     "output_type": "stream",
     "text": [
      "Test Document (7589): «the blackbird is located in southeast washington adjacent to popular capitol hill and just couple miles from the national mall where you will find the us capitol building and smithsonian museums this location is within walking distance of all you need including the potomac metro station harris teeter for groceries the anacostia river trail for riverside jogs and views barracks row shops and your choice of eateries and nightlife few local favorites include ted bulletin rose luxury and trusty neighborhood bar this upscale community features top notch amenities and the roost large dining hall with multiple restaurants including coffee shop beer bar pizza place and more on the ground level enjoy stay with zeus we have reviews see below the spaceat zeus we offer thoughtfully furnished homes for day stays our homes come equipped with handpicked essentials from premium mattresses and linens to»\n",
      "\n",
      "SIMILAR/DISSIMILAR DOCS PER MODEL Doc2Vec(dm/m,d100,n5,w5,mc2,s0.001,t5):\n",
      "\n"
     ]
    },
    {
     "ename": "IndexError",
     "evalue": "list index out of range",
     "output_type": "error",
     "traceback": [
      "\u001B[0;31m---------------------------------------------------------------------------\u001B[0m",
      "\u001B[0;31mIndexError\u001B[0m                                Traceback (most recent call last)",
      "\u001B[0;32m/var/folders/g0/jqvp4xxs5pn4cds1xb9339xm0000gn/T/ipykernel_32530/3626335446.py\u001B[0m in \u001B[0;36m<module>\u001B[0;34m\u001B[0m\n\u001B[1;32m      8\u001B[0m \u001B[0mprint\u001B[0m\u001B[0;34m(\u001B[0m\u001B[0;34mu'SIMILAR/DISSIMILAR DOCS PER MODEL %s:\\n'\u001B[0m \u001B[0;34m%\u001B[0m \u001B[0mmodel\u001B[0m\u001B[0;34m)\u001B[0m\u001B[0;34m\u001B[0m\u001B[0;34m\u001B[0m\u001B[0m\n\u001B[1;32m      9\u001B[0m \u001B[0;32mfor\u001B[0m \u001B[0mlabel\u001B[0m\u001B[0;34m,\u001B[0m \u001B[0mindex\u001B[0m \u001B[0;32min\u001B[0m \u001B[0;34m[\u001B[0m\u001B[0;34m(\u001B[0m\u001B[0;34m'MOST'\u001B[0m\u001B[0;34m,\u001B[0m \u001B[0;36m0\u001B[0m\u001B[0;34m)\u001B[0m\u001B[0;34m,\u001B[0m \u001B[0;34m(\u001B[0m\u001B[0;34m'MEDIAN'\u001B[0m\u001B[0;34m,\u001B[0m \u001B[0mlen\u001B[0m\u001B[0;34m(\u001B[0m\u001B[0msims\u001B[0m\u001B[0;34m)\u001B[0m\u001B[0;34m//\u001B[0m\u001B[0;36m2\u001B[0m\u001B[0;34m)\u001B[0m\u001B[0;34m,\u001B[0m \u001B[0;34m(\u001B[0m\u001B[0;34m'LEAST'\u001B[0m\u001B[0;34m,\u001B[0m \u001B[0mlen\u001B[0m\u001B[0;34m(\u001B[0m\u001B[0msims\u001B[0m\u001B[0;34m)\u001B[0m \u001B[0;34m-\u001B[0m \u001B[0;36m1\u001B[0m\u001B[0;34m)\u001B[0m\u001B[0;34m]\u001B[0m\u001B[0;34m:\u001B[0m\u001B[0;34m\u001B[0m\u001B[0;34m\u001B[0m\u001B[0m\n\u001B[0;32m---> 10\u001B[0;31m     \u001B[0mprint\u001B[0m\u001B[0;34m(\u001B[0m\u001B[0;34mu'%s %s: «%s»\\n'\u001B[0m \u001B[0;34m%\u001B[0m \u001B[0;34m(\u001B[0m\u001B[0mlabel\u001B[0m\u001B[0;34m,\u001B[0m \u001B[0msims\u001B[0m\u001B[0;34m[\u001B[0m\u001B[0mindex\u001B[0m\u001B[0;34m]\u001B[0m\u001B[0;34m,\u001B[0m \u001B[0;34m' '\u001B[0m\u001B[0;34m.\u001B[0m\u001B[0mjoin\u001B[0m\u001B[0;34m(\u001B[0m\u001B[0mtest_corpus\u001B[0m\u001B[0;34m[\u001B[0m\u001B[0msims\u001B[0m\u001B[0;34m[\u001B[0m\u001B[0mindex\u001B[0m\u001B[0;34m]\u001B[0m\u001B[0;34m[\u001B[0m\u001B[0;36m0\u001B[0m\u001B[0;34m]\u001B[0m\u001B[0;34m]\u001B[0m\u001B[0;34m)\u001B[0m\u001B[0;34m)\u001B[0m\u001B[0;34m)\u001B[0m\u001B[0;34m\u001B[0m\u001B[0;34m\u001B[0m\u001B[0m\n\u001B[0m",
      "\u001B[0;31mIndexError\u001B[0m: list index out of range"
     ]
    }
   ],
   "source": [
    "# Pick a random document from the train corpus and infer a vector from the model\n",
    "doc_id = random.randint(0, len(test_corpus) - 1)\n",
    "inferred_vector = model.infer_vector(test_corpus[doc_id])\n",
    "sims = model.dv.most_similar([inferred_vector], topn=len(model.dv))\n",
    "\n",
    "# Compare and print the most/median/least similar documents from the train corpus\n",
    "print('Test Document ({}): «{}»\\n'.format(doc_id, ' '.join(test_corpus[doc_id])))\n",
    "print(u'SIMILAR/DISSIMILAR DOCS PER MODEL %s:\\n' % model)\n",
    "for label, index in [('MOST', 0), ('MEDIAN', len(sims)//2), ('LEAST', len(sims) - 1)]:\n",
    "    print(u'%s %s: «%s»\\n' % (label, sims[index], ' '.join(test_corpus[sims[index][0]])))"
   ]
  },
  {
   "cell_type": "code",
   "execution_count": null,
   "metadata": {},
   "outputs": [],
   "source": []
  }
 ],
 "metadata": {
  "kernelspec": {
   "display_name": "local-venv",
   "language": "python",
   "name": "local-venv"
  },
  "language_info": {
   "codemirror_mode": {
    "name": "ipython",
    "version": 3
   },
   "file_extension": ".py",
   "mimetype": "text/x-python",
   "name": "python",
   "nbconvert_exporter": "python",
   "pygments_lexer": "ipython3",
   "version": "3.7.3"
  }
 },
 "nbformat": 4,
 "nbformat_minor": 1
}