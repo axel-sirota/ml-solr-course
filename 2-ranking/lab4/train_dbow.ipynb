{
 "cells": [
  {
   "cell_type": "code",
   "execution_count": 1,
   "metadata": {},
   "outputs": [],
   "source": [
    "import random\n",
    "import sys\n",
    "\n",
    "import numpy as np\n",
    "\n",
    "np.random.seed(42)\n",
    "import smart_open\n",
    "import pandas as pd\n",
    "import gensim\n",
    "from gensim.models.callbacks import CallbackAny2Vec\n",
    "from gensim.test.utils import get_tmpfile"
   ]
  },
  {
   "cell_type": "code",
   "execution_count": 2,
   "metadata": {},
   "outputs": [
    {
     "name": "stdout",
     "output_type": "stream",
     "text": [
      "['/Users/axelsirota/repos/ml-solr-course/2- ranking/lab4', '/Users/axelsirota/.pyenv/versions/3.7.3/lib/python37.zip', '/Users/axelsirota/.pyenv/versions/3.7.3/lib/python3.7', '/Users/axelsirota/.pyenv/versions/3.7.3/lib/python3.7/lib-dynload', '', '/Users/axelsirota/repos/ml-solr-course/.venv/lib/python3.7/site-packages', '/Users/axelsirota/repos/ml-solr-course/.venv/lib/python3.7/site-packages/IPython/extensions', '/Users/axelsirota/.ipython']\n",
      "/Users/axelsirota/repos/ml-solr-course\n"
     ]
    }
   ],
   "source": [
    "# In case your sys.path does not contain the base repo, go there.\n",
    "print(sys.path)\n",
    "%cd '/Users/axelsirota/repos/ml-solr-course'"
   ]
  },
  {
   "cell_type": "code",
   "execution_count": 3,
   "metadata": {
    "pycharm": {
     "name": "#%%\n"
    }
   },
   "outputs": [],
   "source": [
    "train_file_path = 'dataset/train_corpus_descriptions_airbnb.csv'\n",
    "embedding_dim = 100\n",
    "epochs = 50"
   ]
  },
  {
   "cell_type": "code",
   "execution_count": 4,
   "metadata": {
    "pycharm": {
     "name": "#%%\n"
    }
   },
   "outputs": [],
   "source": [
    "def read_corpus(fname, tokens_only=False):\n",
    "    with smart_open.open(fname, encoding=\"iso-8859-1\") as f:\n",
    "        for i, line in enumerate(f):\n",
    "            tokens = gensim.utils.simple_preprocess(line)\n",
    "            if tokens_only:\n",
    "                yield tokens\n",
    "            else:\n",
    "                # For training data, add tags\n",
    "                yield gensim.models.doc2vec.TaggedDocument(tokens, [i])"
   ]
  },
  {
   "cell_type": "code",
   "execution_count": 5,
   "metadata": {
    "pycharm": {
     "name": "#%%\n"
    }
   },
   "outputs": [],
   "source": [
    "train_corpus = list(read_corpus(train_file_path))\n"
   ]
  },
  {
   "cell_type": "code",
   "execution_count": 6,
   "metadata": {
    "pycharm": {
     "name": "#%%\n"
    }
   },
   "outputs": [
    {
     "name": "stdout",
     "output_type": "stream",
     "text": [
      "[TaggedDocument(words=['unit', 'upgraded', 'with', 'new', 'bamboo', 'flooring', 'brand', 'new', 'ultra', 'hd', 'sony', 'tv', 'new', 'paint', 'new', 'lighting', 'new', 'mattresses', 'ultra', 'fast', 'cable', 'internet', 'connection', 'apple', 'tv', 'google', 'chromecast', 'br', 'br', 'gorgeous', 'and', 'elegant', 'furnished', 'condo', 'in', 'front', 'of', 'culver', 'city', 'fox', 'hills', 'park', 'br', 'upper', 'corner', 'unit', 'total', 'silence', 'protected', 'by', 'trees', 'br', 'short', 'walk', 'to', 'the', 'new', 'westfield', 'mall', 'br', 'tennis', 'courts', 'heated', 'pool', 'and', 'jacuzzi', 'hot', 'tub', 'br', 'br', 'the', 'space', 'br', 'unit', 'upgraded', 'with', 'new', 'bamboo', 'flooring', 'brand', 'new', 'ultra', 'hd', 'sony', 'tv', 'new', 'paint', 'new', 'lighting', 'new', 'mattresses', 'ultra', 'fast', 'cable', 'internet', 'connection', 'br', 'br', 'gorgeous', 'and', 'elegant', 'furnished', 'apartment', 'in', 'front', 'of', 'culver', 'city', 'fox', 'hills', 'park', 'br', 'upper', 'corner', 'unit', 'total', 'silence', 'protected', 'by', 'trees', 'br', 'short', 'walk', 'to', 'the', 'new', 'westfield', 'mall', 'br', 'tennis', 'courts', 'heated', 'pool', 'and', 'jacuzzi', 'hot', 'tub', 'br', 'br', 'upgraded', 'with', 'bamboo', 'flooring', 'and', 'new', 'paint', 'the', 'whole', 'apartment', 'br', 'just', 'installed', 'gorgeous', 'high', 'quality', 'bambo'], tags=[0]), TaggedDocument(words=['run', 'runyon', 'canyon', 'our', 'gym', 'sauna', 'open', 'br', 'br', 'beautifully', 'furnished', 'mirrored', 'mini', 'suite', 'with', 'fireplace', 'br', 'br', 'dyson', 'hot', 'cool', 'bladeless', 'fan', 'heater', 'br', 'br', 'beekman', 'goat', 'milk', 'soap', 'br', 'br', 'premium', 'memory', 'foam', 'pillows', 'br', 'br', 'first', 'morning', 'complementary', 'starbuck', 'coffee', 'latte', 'style', 'coffee', 'protein', 'bars', 'granola', 'bars', 'fresh', 'baked', 'swedish', 'cinnamon', 'roll', 'continental', 'breakfast', 'br', 'br', 'welcome', 'bottle', 'of', 'artesian', 'or', 'sparkling', 'mineral', 'water', 'br', 'br', 'terry', 'robe', 'slippers', 'br', 'br', 'handmade', 'amish', 'wildflower', 'soap', 'br', 'br', 'candy', 'bowl', 'br', 'br', 'trail', 'mix', 'jar', 'br', 'br', 'cdc', 'cleaning', 'br', 'br', 'the', 'space', 'br', 'we', 'opportunely', 'strive', 'for', 'peace', 'quiet', 'cleanness', 'neatness', 'by', 'means', 'of', 'happiness', 'here', 'br', 'br', 'runyon', 'canyon', 'beau', 'furn', 'mir', 'mini', 'suite', 'fireplace', 'br', 'br', 'run', 'runyon', 'canyon', 'beautifully', 'furnished', 'mirrored', 'mini', 'suite', 'with', 'fireplace', 'br', 'br', 'gyms', 'are', 'open', 'br', 'br', 'plunge', 'pool', 'jacuzzi', 'sundeck', 'br', 'br', 'runyon', 'canyon', 'is', 'within', 'walking', 'and'], tags=[1])]\n"
     ]
    }
   ],
   "source": [
    "print(train_corpus[:2])"
   ]
  },
  {
   "cell_type": "code",
   "execution_count": 7,
   "metadata": {
    "pycharm": {
     "name": "#%%\n"
    }
   },
   "outputs": [],
   "source": [
    "class MonitorCallback(CallbackAny2Vec):\n",
    "    def on_epoch_end(self, model):\n",
    "        print(\"Model loss:\", model.get_latest_training_loss())\n",
    "        # print loss\n",
    "\n",
    "monitor = MonitorCallback()"
   ]
  },
  {
   "cell_type": "code",
   "execution_count": 8,
   "metadata": {
    "pycharm": {
     "name": "#%%\n"
    }
   },
   "outputs": [],
   "source": [
    "model = gensim.models.doc2vec.Doc2Vec(vector_size=embedding_dim, min_count=2, epochs=epochs, workers=5, callbacks=[monitor])\n",
    "model.build_vocab(train_corpus)"
   ]
  },
  {
   "cell_type": "code",
   "execution_count": null,
   "metadata": {
    "pycharm": {
     "name": "#%%\n"
    }
   },
   "outputs": [],
   "source": [
    "model.train(train_corpus, total_examples=model.corpus_count, epochs=model.epochs)"
   ]
  },
  {
   "cell_type": "code",
   "execution_count": null,
   "metadata": {
    "pycharm": {
     "name": "#%%\n"
    }
   },
   "outputs": [],
   "source": [
    "vector = model.infer_vector(['only', 'you', 'can', 'prevent', 'forest', 'fires'])\n",
    "print(vector)"
   ]
  },
  {
   "cell_type": "code",
   "execution_count": 11,
   "metadata": {
    "pycharm": {
     "name": "#%%\n"
    }
   },
   "outputs": [
    {
     "name": "stdout",
     "output_type": "stream",
     "text": [
      "Test Document (5074): «best location in town located in hells kitchen surrounded by bars and restaurants couple of blocks away from times square you can walk to chelsea market high lane moma from here it is the center of the culture here walking distance to the most major subway hub in the city and surprisingly it is very quiet and peaceful inside of the apartment where all essential amenities are included with full kitchen even mini library and comfy queen size bed br br the space br very spacious large living room and spacious bedroom mini library full kitchen and great size bathroom»\n",
      "\n",
      "SIMILAR/DISSIMILAR DOCS PER MODEL Doc2Vec(dm/m,d100,n5,w5,mc2,s0.001,t5):\n",
      "\n",
      "MOST (9935, 0.4349706470966339): «our renovated townhouse very spacious airy and bright stands proud in lively crown heights with culture galore parks large and small enviable food choices and great access to public transportation the architecture and decor here balance historic and modern elegance it is an oasis of calm and comfort in stopless city br br the space br with square feet of townhouse stateliness you and your fellow travelers can conquer new york city and kick back in tranquil airy and elegant sanctuary at the end of your day there are many opportunities for group fun or alone time in the house like streamed movies projected large on the living room wall from your laptop and cool soaks in the deep claw foot tub during the holidays hydrate and heat away the chills in the steam shower or enjoy an absurd ersatz fire in the master suite br br the parlor floor boasts beautiful green views onto the garden from giant living room windows ample seating»\n",
      "\n",
      "MEDIAN (15539, 0.057465244084596634): «stay at our quaint sunset park home stone throw from some of nyc best tacos bã nh mã and dumplings lastly br min walk to sunset park which has breathtaking view of the manhattan skyline br min walk to lovely waterfront park br min walk to industry city br min bus ride to our historic green wood cemetery br min bus ride to prospect park br min subway ride to soho br min subway ride to times square br br min walk to min walk to min walk to the br br the space br this is one of the sweetest little family homes in sunset park we invite strangers into our home and welcome you as family while giving you the space and respect you need on your vacation as such we have two requests br br profile have photo of yourself little bio would let us know little bit about you where you re from what you do etc br br travel tell us about your trip travel plans»\n",
      "\n",
      "LEAST (20364, -0.3215707242488861): «»\n",
      "\n"
     ]
    }
   ],
   "source": [
    "# Pick a random document from the train corpus and infer a vector from the model\n",
    "doc_id = random.randint(0, len(train_corpus) - 1)\n",
    "inferred_vector = model.infer_vector(train_corpus[doc_id])\n",
    "sims = model.dv.most_similar([inferred_vector], topn=len(model.dv))\n",
    "\n",
    "# Compare and print the most/median/least similar documents from the train corpus\n",
    "print('Test Document ({}): «{}»\\n'.format(doc_id, ' '.join(train_corpus[doc_id])))\n",
    "print(u'SIMILAR/DISSIMILAR DOCS PER MODEL %s:\\n' % model)\n",
    "for label, index in [('MOST', 0), ('MEDIAN', len(sims)//2), ('LEAST', len(sims) - 1)]:\n",
    "    print(u'%s %s: «%s»\\n' % (label, sims[index], ' '.join(train_corpus[sims[index][0]].words)))"
   ]
  },
  {
   "cell_type": "code",
   "execution_count": null,
   "outputs": [],
   "source": [
    "fname = get_tmpfile(\"airbnb_model\")\n",
    "model.save(fname)"
   ],
   "metadata": {
    "collapsed": false,
    "pycharm": {
     "name": "#%%\n"
    }
   }
  }
 ],
 "metadata": {
  "kernelspec": {
   "display_name": "local-venv",
   "language": "python",
   "name": "local-venv"
  },
  "language_info": {
   "codemirror_mode": {
    "name": "ipython",
    "version": 3
   },
   "file_extension": ".py",
   "mimetype": "text/x-python",
   "name": "python",
   "nbconvert_exporter": "python",
   "pygments_lexer": "ipython3",
   "version": "3.7.3"
  }
 },
 "nbformat": 4,
 "nbformat_minor": 1
}