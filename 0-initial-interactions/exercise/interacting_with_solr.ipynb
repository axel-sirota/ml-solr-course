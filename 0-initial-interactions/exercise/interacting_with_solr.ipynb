{
 "cells": [
  {
   "cell_type": "code",
   "execution_count": null,
   "metadata": {},
   "outputs": [],
   "source": [
    "import pysolr"
   ]
  },
  {
   "cell_type": "code",
   "execution_count": null,
   "metadata": {
    "pycharm": {
     "name": "#%%\n"
    }
   },
   "outputs": [],
   "source": [
    "# Create a client instance. The timeout and authentication options are not required.\n",
    "solr = pysolr.Solr('http://localhost:8983/solr/airbnb', always_commit=True, timeout=10)"
   ]
  },
  {
   "cell_type": "markdown",
   "metadata": {
    "pycharm": {
     "name": "#%%md\n"
    }
   },
   "source": [
    "Note that auto_commit defaults to False for performance. You can set\n",
    "`auto_commit=True` to have commands always update the index immediately, make\n",
    "an update call with `commit=True`, or use Solr's `autoCommit` / `commitWithin`\n",
    "to have your data be committed following a particular policy."
   ]
  },
  {
   "cell_type": "code",
   "execution_count": null,
   "metadata": {
    "pycharm": {
     "name": "#%%\n"
    }
   },
   "outputs": [],
   "source": [
    "# Do a health check.\n",
    "None   # TODO: Fill here"
   ]
  },
  {
   "cell_type": "code",
   "execution_count": null,
   "metadata": {
    "pycharm": {
     "name": "#%%\n"
    }
   },
   "outputs": [],
   "source": [
    "# Query for the term `luxury`\n",
    "results = None"
   ]
  },
  {
   "cell_type": "markdown",
   "metadata": {
    "pycharm": {
     "name": "#%%md\n"
    }
   },
   "source": [
    "The ``Results`` object stores total results found, by default the top\n",
    "ten most relevant results and any additional data like\n",
    "facets/highlighting/spelling/etc."
   ]
  },
  {
   "cell_type": "code",
   "execution_count": null,
   "metadata": {
    "pycharm": {
     "name": "#%%\n"
    }
   },
   "outputs": [],
   "source": [
    "print(\"Saw {0} result(s).\".format(len(results)))\n",
    "\n",
    "# Just loop over it to access the results.\n",
    "for result in results:\n",
    "    print(f'The ID is {result[\"id\"]} and title is {result[\"name\"]}')\n"
   ]
  },
  {
   "cell_type": "code",
   "execution_count": null,
   "metadata": {},
   "outputs": [],
   "source": []
  }
 ],
 "metadata": {
  "kernelspec": {
   "display_name": "Python 3 (ipykernel)",
   "language": "python",
   "name": "python3"
  },
  "language_info": {
   "codemirror_mode": {
    "name": "ipython",
    "version": 3
   },
   "file_extension": ".py",
   "mimetype": "text/x-python",
   "name": "python",
   "nbconvert_exporter": "python",
   "pygments_lexer": "ipython3",
   "version": "3.7.3"
  }
 },
 "nbformat": 4,
 "nbformat_minor": 1
}
